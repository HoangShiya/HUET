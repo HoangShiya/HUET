{
  "cells": [
    {
      "cell_type": "markdown",
      "metadata": {
        "id": "view-in-github",
        "colab_type": "text"
      },
      "source": [
        "<a href=\"https://colab.research.google.com/github/HoangShiya/HUET/blob/main/BT_sinh_m%E1%BA%ABu_ng%E1%BA%ABu_nhi%C3%AAn.ipynb\" target=\"_parent\"><img src=\"https://colab.research.google.com/assets/colab-badge.svg\" alt=\"Open In Colab\"/></a>"
      ]
    },
    {
      "cell_type": "code",
      "source": [
        "# Sử dụng thư viện numpy để tiến hành tính toán\n",
        "import numpy as np"
      ],
      "metadata": {
        "id": "CVHtw0AE9u9y"
      },
      "execution_count": null,
      "outputs": []
    },
    {
      "cell_type": "markdown",
      "metadata": {
        "id": "B2PZn7zt87ff"
      },
      "source": [
        "Sử dụng thư viện Numpy\n",
        "\n",
        "1. Sinh mẫu ngẫu nhiên bằng hàm arange trong khoảng [-15, 27] với khoảng cách là 0.7 và in kết quả ra màn hình"
      ]
    },
    {
      "cell_type": "code",
      "execution_count": null,
      "metadata": {
        "id": "MipxcdbR87fh",
        "colab": {
          "base_uri": "https://localhost:8080/"
        },
        "outputId": "380b1fc9-bcaf-4f05-fa3c-5e3e0036b41e"
      },
      "outputs": [
        {
          "output_type": "stream",
          "name": "stdout",
          "text": [
            "Mẫu được sinh ngẫu nhiên trong khoảng (-15,27) với khoảng cách 0,7 :\n",
            " [-15.  -14.3 -13.6 -12.9 -12.2 -11.5 -10.8 -10.1  -9.4  -8.7  -8.   -7.3\n",
            "  -6.6  -5.9  -5.2  -4.5  -3.8  -3.1  -2.4  -1.7  -1.   -0.3   0.4   1.1\n",
            "   1.8   2.5   3.2   3.9   4.6   5.3   6.    6.7   7.4   8.1   8.8   9.5\n",
            "  10.2  10.9  11.6  12.3  13.   13.7  14.4  15.1  15.8  16.5  17.2  17.9\n",
            "  18.6  19.3  20.   20.7  21.4  22.1  22.8  23.5  24.2  24.9  25.6  26.3\n",
            "  27. ]\n"
          ]
        }
      ],
      "source": [
        "# Sinh ngẫu nhiên dữ liệu trong khoảng (-15, 27) với khoảng cách 0.7\n",
        "sample_1 = np.arange(-15, 27, 0.7)\n",
        "print(f\"Mẫu được sinh ngẫu nhiên trong khoảng (-15,27) với khoảng cách 0,7 :\\n {sample_1}\")"
      ]
    },
    {
      "cell_type": "markdown",
      "metadata": {
        "id": "iZ96MBHA87fh"
      },
      "source": [
        "2. Sinh mẫu ngẫu nhiên theo phân phối chuẩn với mean = 2.7 std = 1.2 và size = 40\n",
        "In kết quả ra màn hình"
      ]
    },
    {
      "cell_type": "code",
      "execution_count": null,
      "metadata": {
        "id": "Y9OBrb6a87fi",
        "colab": {
          "base_uri": "https://localhost:8080/"
        },
        "outputId": "baefae6d-a749-4623-8d17-a27fbfeb13b5"
      },
      "outputs": [
        {
          "output_type": "stream",
          "name": "stdout",
          "text": [
            "Sinh ngẫu nhiên dữ liệu theo phân phối chuẩn với các giá trị trung bình: 2.7, độ lệch chuẩn: 1.2 và kích thước: 40 là:\n",
            " [0.89784328 1.55670737 3.48560682 1.02452718 2.99082761 5.39810511\n",
            " 1.44949934 2.32055568 2.2936315  1.10777975 1.22181927 1.42667871\n",
            " 3.51732451 2.2608547  1.39160829 0.10966902 0.52368851 3.99142235\n",
            " 0.5955705  4.05386423 0.88668486 2.50087765 2.44152447 0.60708605\n",
            " 2.20456446 2.13807185 4.29370982 4.49502576 0.51133202 4.31493846\n",
            " 3.50809412 4.82321033 3.55027831 2.6503271  3.04954989 2.1196452\n",
            " 2.11807581 3.40883546 3.14893684 3.89441649]\n"
          ]
        }
      ],
      "source": [
        "#Sinh ngẫu nhiên dữ liệu theo phân phối chuẩn với các giá trị trung bình: 2.7, độ lệch chuẩn: 1.2 và kích thước: 40\n",
        "sample_2 = np.random.normal(loc = 2.7, scale = 1.2, size = 40)\n",
        "print(f\"Sinh ngẫu nhiên dữ liệu theo phân phối chuẩn với các giá trị trung bình: 2.7, độ lệch chuẩn: 1.2 và kích thước: 40 là:\\n {sample_2}\")\n"
      ]
    },
    {
      "cell_type": "markdown",
      "metadata": {
        "id": "Daqw6sNY87fi"
      },
      "source": [
        "3. Sinh mẫu ngẫu nhiên từ vector ['Viet Nam', 'Britain', 'France', 'Russia', 'Singapore'] \n",
        "\n",
        "với kích thước là 17 theo phân phối chuẩn"
      ]
    },
    {
      "cell_type": "code",
      "execution_count": null,
      "metadata": {
        "id": "NkIOb0pH87fi",
        "colab": {
          "base_uri": "https://localhost:8080/"
        },
        "outputId": "ad00039a-42c9-48c9-8807-ea571b78cbdf"
      },
      "outputs": [
        {
          "output_type": "stream",
          "name": "stdout",
          "text": [
            "Sinh ngẫu nhiên chuổi ['Viet Nam', 'Britain', 'France', 'Russia', 'Singapore'] với kích thước 17 theo phân phối chuẩn):\n",
            " ['France' 'Britain' 'Britain' 'Russia' 'Britain' 'Viet Nam' 'Britain'\n",
            " 'Britain' 'Russia' 'Britain' 'Britain' 'Viet Nam' 'Britain' 'Russia'\n",
            " 'Russia' 'France' 'Britain']\n"
          ]
        }
      ],
      "source": [
        "# Khởi tạo dữu liệu ban đầu\n",
        "sample_3_input = ['Viet Nam', 'Britain', 'France', 'Russia', 'Singapore']\n",
        "\n",
        "# Sinh ngẫu nhiên chuổi ['Viet Nam', 'Britain', 'France', 'Russia', 'Singapore'] với kích thước 17 theo phân phối chuẩn\n",
        "sample_3 = np.random.choice(sample_3_input, 17)\n",
        "print(f\"Sinh ngẫu nhiên chuổi ['Viet Nam', 'Britain', 'France', 'Russia', 'Singapore'] với kích thước 17 theo phân phối chuẩn):\\n {sample_3}\")"
      ]
    },
    {
      "cell_type": "markdown",
      "metadata": {
        "id": "JW3WjgQD87fi"
      },
      "source": [
        "4. Sinh mẫu ngẫu nhiên ở câu 3 nhưng không theo phân phối chuẩn mà theo 1 vector đặc tả giá trị xác suất do bạn chọn"
      ]
    },
    {
      "cell_type": "code",
      "execution_count": null,
      "metadata": {
        "id": "LReCCbvu87fi",
        "colab": {
          "base_uri": "https://localhost:8080/"
        },
        "outputId": "ed214f7c-8f88-4b7c-8cda-20621c76b02a"
      },
      "outputs": [
        {
          "output_type": "stream",
          "name": "stdout",
          "text": [
            "Sinh mẫu ngẫu nhiên ở câu 3 nhưng không theo phân phối chuẩn mà theo 1 vector đặc tả giá trị xác suất [0.1, 0.5, 0.1, 0.3]:\n",
            " ['France' 'Britain' 'France' 'Britain' 'Britain' 'France' 'Viet Nam'\n",
            " 'France' 'Britain' 'Russia' 'Singapore' 'Britain' 'Britain' 'Russia'\n",
            " 'Britain' 'Britain' 'Singapore' 'Singapore' 'Britain' 'Britain']\n"
          ]
        }
      ],
      "source": [
        "# Sinh mẫu ngẫu nhiên ở câu 3 nhưng không theo phân phối chuẩn mà theo 1 vector đặc tả giá trị xác suất [0.1, 0.5, 0.1, 0.3]\n",
        "sample_4 = np.random.choice(sample_3_input, 20, p = [0.1, 0.4, 0.1, 0.2, 0.2])\n",
        "print(f\"Sinh mẫu ngẫu nhiên ở câu 3 nhưng không theo phân phối chuẩn mà theo 1 vector đặc tả giá trị xác suất [0.1, 0.5, 0.1, 0.3]:\\n {sample_4}\")"
      ]
    },
    {
      "cell_type": "markdown",
      "metadata": {
        "id": "T5q7VBbL87fi"
      },
      "source": [
        "Sử dụng thư việc scipy.stats để sinh mẫu ngẫu nhiên\n",
        "\n",
        "1. Sinh mẫu ngẫu nhiên theo phân phối chuẩn với mean = 12.7, std = 2.6 và size = 30. In kết quả ra màn hình"
      ]
    },
    {
      "cell_type": "code",
      "execution_count": null,
      "metadata": {
        "id": "eG6u662B87fj",
        "colab": {
          "base_uri": "https://localhost:8080/"
        },
        "outputId": "8b535eae-2f0e-4853-b0bf-65a3289eb70f"
      },
      "outputs": [
        {
          "output_type": "stream",
          "name": "stdout",
          "text": [
            "Sinh mẫu ngẫu nhiên theo phân phối chuẩn với mean = 12.7, std = 2.6 và size = 30:\n",
            " [10.51553533 13.15436203 15.09238012 12.15048786  8.60501139 16.4877224\n",
            " 14.22152924 14.79185403 11.30226843 13.89629527  9.98363204 18.90805336\n",
            " 11.53662034 15.75534494  8.76517429 12.61177846 11.21430808 14.28523849\n",
            " 12.78103398 10.02380474 16.72166737 14.07018153 13.40838429 13.98375514\n",
            " 10.8157238  10.33486703 17.04225012 11.18568425 14.82485342 14.70883186]\n"
          ]
        }
      ],
      "source": [
        "from scipy import stats as sts\n",
        "\n",
        "#Sinh mẫu ngẫu nhiên theo phân phối chuẩn với mean = 12.7, std = 2.6 và size = 30\n",
        "sample_1 = sts.norm.rvs(loc = 12.7, scale = 2.6, size = 30)\n",
        "print(f\"Sinh mẫu ngẫu nhiên theo phân phối chuẩn với mean = 12.7, std = 2.6 và size = 30:\\n {sample_1}\")\n"
      ]
    },
    {
      "cell_type": "markdown",
      "metadata": {
        "id": "LzjX92Ic87fj"
      },
      "source": [
        "2. Hãy sinh một mẫu ngẫu nhiên theo phân phối Poisson"
      ]
    },
    {
      "cell_type": "code",
      "execution_count": null,
      "metadata": {
        "id": "Wu0bRRUw87fj",
        "colab": {
          "base_uri": "https://localhost:8080/"
        },
        "outputId": "5f7dd887-7da8-467a-facf-b57670b5a074"
      },
      "outputs": [
        {
          "output_type": "stream",
          "name": "stdout",
          "text": [
            "Sinh mẫu ngẫu nhiên theo phân phối Poisson:\n",
            " [54 50 43 48 51 44 46 43 50 48]\n"
          ]
        }
      ],
      "source": [
        "# Sinh mẫu ngẫu nhiên theo phân phối Poisson\n",
        "sample_2 = sts.poisson.rvs(loc=18,\n",
        "                              mu=30,\n",
        "                              size=1000)\n",
        "print(f\"Sinh mẫu ngẫu nhiên theo phân phối Poisson:\\n {sample_2[:10]}\")"
      ]
    }
  ],
  "metadata": {
    "kernelspec": {
      "display_name": "Python 3",
      "language": "python",
      "name": "python3"
    },
    "language_info": {
      "codemirror_mode": {
        "name": "ipython",
        "version": 3
      },
      "file_extension": ".py",
      "mimetype": "text/x-python",
      "name": "python",
      "nbconvert_exporter": "python",
      "pygments_lexer": "ipython3",
      "version": "3.7.3"
    },
    "colab": {
      "name": "BT sinh mẫu ngẫu nhiên",
      "provenance": [],
      "include_colab_link": true
    }
  },
  "nbformat": 4,
  "nbformat_minor": 0
}