{
  "nbformat": 4,
  "nbformat_minor": 0,
  "metadata": {
    "colab": {
      "name": "ptdlK2.ipynb",
      "provenance": [],
      "collapsed_sections": [],
      "authorship_tag": "ABX9TyN2AwOyYm3NQ7eTtTnhH/GR",
      "include_colab_link": true
    },
    "kernelspec": {
      "name": "python3",
      "display_name": "Python 3"
    },
    "language_info": {
      "name": "python"
    }
  },
  "cells": [
    {
      "cell_type": "markdown",
      "metadata": {
        "id": "view-in-github",
        "colab_type": "text"
      },
      "source": [
        "<a href=\"https://colab.research.google.com/github/HoangShiya/HUET/blob/main/TKMT3.ipynb\" target=\"_parent\"><img src=\"https://colab.research.google.com/assets/colab-badge.svg\" alt=\"Open In Colab\"/></a>"
      ]
    },
    {
      "cell_type": "markdown",
      "source": [
        "BÀI TẬP: Bạn hãy tìm hiểu về hệ số tương quan (correlation), cách đọc và giải thích ý nghĩa hệ số tương quan.\n",
        "\n",
        "CÂU TRẢ LỜI"
      ],
      "metadata": {
        "id": "Qv6PGLo24gKN"
      }
    },
    {
      "cell_type": "markdown",
      "source": [
        "1) Hệ số tương quan (correlation) là chỉ số thống kê đo lường mức độ mạnh yếu của mối quan hệ giữa hai biến số. Trong đó:\n",
        "*   Hệ số tương quan có giá trị từ -1.0 đến 1.0\n",
        "*   Kết quả được tính ra lớn hơn 1.0 hoặc nhỏ hơn -1 có nghĩa là có lỗi trong phép đo tương quan."
      ],
      "metadata": {
        "id": "ik7m5EgU4kKd"
      }
    },
    {
      "cell_type": "markdown",
      "source": [
        "2) Cách đọc hệ số tương quan:\n",
        "*   Hệ số tương quan có giá trị âm cho thấy hai biến có mối quan hệ nghịch biến hoặc tương quan âm (nghịch biến tuyệt đối khi giá trị bằng -1).\n",
        "*   Hệ số tương quan có giá trị dương cho thấy mối quan hệ đồng biến hoặc tương quan dương (đồng biến tuyệt đối khi giá trị bằng 1).\n",
        "*   Tương quan bằng 0 cho hai biến độc lập với nhau.\n",
        "\n"
      ],
      "metadata": {
        "id": "eZ6dWxhu5Wst"
      }
    },
    {
      "cell_type": "markdown",
      "source": [
        "3) Cách tính hệ số tương quan:\n",
        "\\begin{align}\n",
        "    p_{xy} = \\frac {COV{(xy)}}{\\sigma_{x} \\sigma_{y}}.\n",
        "    \\end{align}\n",
        "**Chú thích:**\n",
        "*   ρxy: Hệ số tương quan Pearson\n",
        "*   Cov(x, y): Hiệp phương sai của biến x và y\n",
        "*   σx: Độ lệch chuẩn của x\n",
        "*   σy: Độ lệch chuẩn của y\n",
        "\n",
        "\n",
        "\n"
      ],
      "metadata": {
        "id": "NkMe_n6I56Yt"
      }
    },
    {
      "cell_type": "markdown",
      "source": [
        "4) Ý nghĩa hệ số tương quan:\n",
        "Độ mạnh yếu của mối quan hệ giữa 2 biến phụ thuộc vào giá trị của hệ số tương quan.  Dựa vào hệ số này có thể thấy được mối tương quan giữa hai biến số. Đây là công cụ phân tích hiệu quả, các hệ số tương quan thể hệ ở một số vấn đề nhất định. Có thể là khuynh hướng của yếu tố ảnh hưởng hay khả năng sử dụng tương đối.\n",
        "\n",
        "Các nhà phân tích trong một lĩnh vực nào sẽ có cách nhận định riêng về hệ số tương quan. Nếu giá trị không vượt quá 0,8 có thể không cần chú ý đến mối tương quan giữa 2 biến. Tuy nhiên trường hợp hệ số này từ 0,9 trở lên có thể đánh giá được mối quan hệ chặt chẽ giữa các biến."
      ],
      "metadata": {
        "id": "eH4JvPYvEFZX"
      }
    }
  ]
}