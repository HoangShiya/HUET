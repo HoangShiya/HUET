{
  "cells": [
    {
      "cell_type": "markdown",
      "metadata": {
        "id": "view-in-github",
        "colab_type": "text"
      },
      "source": [
        "<a href=\"https://colab.research.google.com/github/HoangShiya/HUET/blob/main/Th%E1%BB%B1c_h%C3%A0nh_ki%E1%BB%83m_%C4%91%E1%BB%8Bnh_c%C3%A1c_t%C3%ADnh_ch%E1%BA%A5t_c%E1%BB%A7a_d%E1%BB%AF_li%E1%BB%87u_d%C3%B9ng_trong_ph%C3%A2n_t%C3%ADch_ANOVA_1_chi%E1%BB%81u.ipynb\" target=\"_parent\"><img src=\"https://colab.research.google.com/assets/colab-badge.svg\" alt=\"Open In Colab\"/></a>"
      ]
    },
    {
      "cell_type": "markdown",
      "source": [
        "# Thực hành kiểm định các tính chất của dữ liệu dùng trong phân tích ANOVA 1 chiều\n",
        "\n",
        "\n",
        "---"
      ],
      "metadata": {
        "id": "I9bQgbiyBMSd"
      }
    },
    {
      "cell_type": "markdown",
      "metadata": {
        "id": "p-hvlV6NAw6b"
      },
      "source": [
        "## PHÂN TÍCH ANOVA MỘT CHIỀU\n",
        "\n",
        "Phân tích ANOVA chấp nhận các giả định sau:\n",
        "\n",
        "> (1) Tất cả các nhóm đều độc lập với nhau\n",
        "\n",
        "> (2) Dữ liệu của mỗi nhóm đều tuân theo phân phối chuẩn. Tính chất này có thể được kiểm định bằng phương pháp Shapiro-Wilks.\n",
        "\n",
        "> (3) Phương sai (variance) của các nhóm bằng nhau. Tính chất này có thể được kiểm định bằng phương pháp kiểm định Bartlett hay Levene.\n",
        "\n",
        "Nếu dữ liệu hiện có thỏa mãn các tính chất trên thì chúng ta mới tiến hành kiểm định ANOVA. Do vậy trước khi tiến hành kiểm định ANOVA, chúng ta cần thực hiện kiểm tra tập dữ liệu cần thỏa mãn 3 tính chất trên.\n",
        "\n",
        "---\n",
        "\n",
        "    "
      ]
    },
    {
      "cell_type": "markdown",
      "source": [
        "Import các thư viện cần thiết để tiến hành phân tích Anova"
      ],
      "metadata": {
        "id": "3F_HiHbuCi1L"
      }
    },
    {
      "cell_type": "code",
      "source": [
        "!pip install -U xlrd pyxlsb\n",
        "import numpy as np\n",
        "import pandas as pd\n",
        "import scipy.stats as st"
      ],
      "metadata": {
        "colab": {
          "base_uri": "https://localhost:8080/"
        },
        "id": "HsMJaS_WsFnH",
        "outputId": "eb6e7d98-3d65-4a84-95a6-c0dcc8ea66ee"
      },
      "execution_count": 2,
      "outputs": [
        {
          "output_type": "stream",
          "name": "stdout",
          "text": [
            "Requirement already satisfied: xlrd in /usr/local/lib/python3.7/dist-packages (2.0.1)\n",
            "Requirement already satisfied: pyxlsb in /usr/local/lib/python3.7/dist-packages (1.0.9)\n"
          ]
        }
      ]
    },
    {
      "cell_type": "markdown",
      "source": [
        "> **Bước 1**: Khởi tạo một tập dữ liệu mẫu sample_1 với kích thước 100 tuân theo phân phối chuẩn"
      ],
      "metadata": {
        "id": "M06YmvtaCd5s"
      }
    },
    {
      "cell_type": "code",
      "execution_count": 20,
      "metadata": {
        "id": "DfOZM6fWAw6e",
        "colab": {
          "base_uri": "https://localhost:8080/"
        },
        "outputId": "1e9fc8dd-7adc-4f4d-db93-ca2054110615"
      },
      "outputs": [
        {
          "output_type": "stream",
          "name": "stdout",
          "text": [
            "Giá trị 100 phần tử tuân theo phân phối chuẩn của mẫu sample 1:\n",
            " [2.36268883 4.19554736 1.15859172 3.44985223 2.50706856 4.92194592\n",
            " 2.74388592 0.80235123 1.63087787 4.02064881 2.6117931  3.18264731\n",
            " 2.14579537 3.31091914 3.76733313 2.12741871 3.14648108 1.7792325\n",
            " 4.21987499 2.9965771  3.08056989 2.2051788  2.73038573 4.47395849\n",
            " 3.4725546  1.78410305 4.61959964 2.74345141 5.29775818 3.64581009\n",
            " 1.65058099 4.00656062 1.36108772 3.0444376  3.04384913 2.6893849\n",
            " 2.90680361 3.20306591 3.2455277  3.26263801 4.73623168 3.79411862\n",
            " 2.37911789 1.97097057 2.95957086 4.12752544 2.39329146 3.03243428\n",
            " 2.83738674 4.85220455 2.60455057 2.00380905 3.89997399 4.02904036\n",
            " 4.5728625  1.97132902 1.63603599 2.6598201  5.08703783 2.9131223\n",
            " 1.13356321 3.71793301 3.76903626 3.84761411 2.92152335 3.66703685\n",
            " 3.60836412 3.7227892  0.03722038 2.50798276 3.1071164  2.78111301\n",
            " 2.92909949 3.12222666 3.8417195  1.98063145 1.9902874  2.61335202\n",
            " 1.82084632 3.12396079 3.31634704 4.90039935 2.61847226 2.60748756\n",
            " 3.24156222 2.43000735 2.26157029 3.21213487 1.61029456 3.82210467\n",
            " 4.13714801 1.98366763 2.37719477 2.13245545 3.79038537 4.35990663\n",
            " 1.90463621 3.56046758 3.72794747 0.57203657]\n"
          ]
        }
      ],
      "source": [
        "# Khởi tạo giá trị trung bình, sigma, kích thước của tập dữ liệu\n",
        "mean = 3.\n",
        "sig = 1.\n",
        "size = 100\n",
        "\n",
        "# Khởi tạo một trình tạo mới BitGenerator mặc định (PCG64)\n",
        "rng = np.random.default_rng()\n",
        "\n",
        "# Khởi tạo mẫu sample_1 theo phân phối chuẩn: giá trị trung bình 3., sigma 1., kích thước 100 phần tử\n",
        "sample_1 = st.norm.rvs(mean, sig, size, random_state = rng)\n",
        "print(f\"Giá trị 100 phần tử tuân theo phân phối chuẩn của mẫu sample 1:\\n {sample_1}\")"
      ]
    },
    {
      "cell_type": "markdown",
      "source": [
        "> **Bước 2**: hãy tạo tập dữ liệu mẫu sample_2 với kích thước 100 tuân theo phân phối Poisson"
      ],
      "metadata": {
        "id": "awdNR4H4vefe"
      }
    },
    {
      "cell_type": "code",
      "execution_count": 17,
      "metadata": {
        "id": "-IXgMa9yAw6g",
        "colab": {
          "base_uri": "https://localhost:8080/"
        },
        "outputId": "0d004bda-664c-437b-ecb2-62252cbda4b3"
      },
      "outputs": [
        {
          "output_type": "stream",
          "name": "stdout",
          "text": [
            "Giá trị 100 phần tử tuân theo phân phối poisson của mẫu sample 2:\n",
            " [5 4 3 2 4 2 1 3 3 3 3 2 1 2 1 5 2 2 1 1 6 5 3 3 0 4 4 2 0 2 1 1 2 2 3 7 1\n",
            " 3 3 3 4 1 6 6 2 3 4 3 0 3 7 3 0 3 3 2 4 5 2 1 2 0 4 1 1 5 5 3 3 3 2 5 3 3\n",
            " 4 2 6 1 1 2 6 6 3 2 4 1 2 4 3 2 4 2 2 1 3 4 1 2 1 3]\n"
          ]
        }
      ],
      "source": [
        "# Khởi tạo giá trị lam, kích thước của tập dữ liệu\n",
        "# lam: Số lượng sự kiện dự kiến ​​xảy ra trong một khoảng thời gian cố định, phải >= 0. Một chuỗi phải được phát trên kích thước được yêu cầu.\n",
        "lam = 3\n",
        "size = 100\n",
        "\n",
        "# Khởi tạo mẫu sample_2 theo phân phối poisson: giá trị lam 3, kích thước 100 phần tử\n",
        "sample_2 = np.random.poisson(lam, size)\n",
        "print(f\"Giá trị 100 phần tử tuân theo phân phối poisson của mẫu sample 2:\\n {sample_2}\")\n",
        "\n"
      ]
    },
    {
      "cell_type": "markdown",
      "metadata": {
        "id": "kTdCYPXWAw6g"
      },
      "source": [
        "## Kiểm định tính chất thứ 2 bằng phương pháp Shapiro-Wilks đối với sample_1 và sample_2"
      ]
    },
    {
      "cell_type": "markdown",
      "source": [
        "> **Bước 1**: Khởi tạo dữ liệu và tính toán các thông số cần thiết"
      ],
      "metadata": {
        "id": "pg2Z5koTwy_0"
      }
    },
    {
      "cell_type": "code",
      "execution_count": 36,
      "metadata": {
        "id": "CLHb-aMbAw6i",
        "colab": {
          "base_uri": "https://localhost:8080/"
        },
        "outputId": "faf350a8-f04d-4e5e-925f-19e642f9bb4e"
      },
      "outputs": [
        {
          "output_type": "stream",
          "name": "stdout",
          "text": [
            "Các dữ liệu được sử dụng để kiểm định tính chất thử 3:\n",
            " sample_1 theo phân phối chuẩn.\n",
            " sample_2 theo phân phối poisson\n",
            "Mức ý nghĩa cho toàn bộ quá trình phân tích: 0.05\n"
          ]
        }
      ],
      "source": [
        "# Dữ liệu được sử dụng là sample_1 và sample_2\n",
        "print(\"Các dữ liệu được sử dụng để kiểm định tính chất thử 3:\\n sample_1 theo phân phối chuẩn.\\n sample_2 theo phân phối poisson\")\n",
        "\n",
        "# Khởi tạo biến alpha lưu trữ mức ý nghĩa cho toàn bộ quá trình phân tích\n",
        "alpha = 0.05\n",
        "print(f\"Mức ý nghĩa cho toàn bộ quá trình phân tích: {alpha}\")"
      ]
    },
    {
      "cell_type": "markdown",
      "source": [
        "> **Bước 2**: Xây dựng giả thuyết\n",
        "\n",
        "Giả thuyết $H_0$:\n",
        "\n",
        "$H_0$: Dữ liệu sau khi thực hiện kiểm tra Shapiro-Wilk bé hơn mức ý nghĩa cho toàn bộ quá trình phân tích\n",
        "\n",
        "Giả thuyết $H_a$:\n",
        "\n",
        "$H_a$: Dữ liệu sau khi thực hiện kiểm tra Shapiro-Wilk không bé hơn mức ý nghĩa cho toàn bộ quá trình phân tích"
      ],
      "metadata": {
        "id": "P9rBfHCJx5gu"
      }
    },
    {
      "cell_type": "markdown",
      "source": [
        "> **Bước 3**: Thực hiện tiến hành kiểm định và tính các giá trị liên quan"
      ],
      "metadata": {
        "id": "purxC_MB0F2p"
      }
    },
    {
      "cell_type": "code",
      "source": [
        "# Khởi tạo giá trị p và mẫu theo \n",
        "sp1, p1 = st.shapiro(sample_1)\n",
        "sp2, p2 = st.shapiro(sample_2) \n",
        "\n",
        "print(f\"Giá trị p của sample_1 sau khi kiểm định bằng phương pháp Shapiro-Wilk: {np.round(p1,4)}\")\n",
        "print(f\"Giá trị p của sample_2 sau khi kiểm định bằng phương pháp Shapiro-Wilk: {np.round(p2,5)}\")"
      ],
      "metadata": {
        "colab": {
          "base_uri": "https://localhost:8080/"
        },
        "id": "B4Oojvyuzb8U",
        "outputId": "2f4ee333-fbdf-47bf-ef93-9e8dbeced7dc"
      },
      "execution_count": 31,
      "outputs": [
        {
          "output_type": "stream",
          "name": "stdout",
          "text": [
            "Giá trị p của sample_1 sau khi kiểm định bằng phương pháp Shapiro-Wilk: 0.9336\n",
            "Giá trị p của sample_2 sau khi kiểm định bằng phương pháp Shapiro-Wilk: 0.0002\n"
          ]
        }
      ]
    },
    {
      "cell_type": "markdown",
      "source": [
        "> **Bước 4**: Kết luật kết quả sau khi kiểm định"
      ],
      "metadata": {
        "id": "UAQkW5pN2PpT"
      }
    },
    {
      "cell_type": "code",
      "source": [
        "def test_conclusion(p, alpha):\n",
        "  if (p < alpha):\n",
        "    print(f\"Vì giá trị p thấp hơn mức ý nghĩa của toàn bộ quá trình kiểm định ({np.round(p, 5)} < {alpha}) nên không có bằng chứng bác bỏ giả thuyết H0\")\n",
        "  else:\n",
        "    print(f\"Vì giá trị p không thấp hơn mức ý nghĩa của toàn bộ quá trình kiểm định ({np.round(p, 5)} >= {alpha}) nên có bằng chứng bác bỏ giả thuyết H0\")\n",
        "\n",
        "\n",
        "# Kết luận kết quả kiểm định dữ liệu sample_1\n",
        "print(\"DỮ LIỆU SAMPLE_1\")\n",
        "test_conclusion(p1, alpha)\n",
        "print(\"\\n\")\n",
        "\n",
        "# Kết luận kết quả kiểm định dữ liệu sample_2\n",
        "print(\"DỮ LIỆU SAMPLE_2\")\n",
        "test_conclusion(p2, alpha)\n",
        "\n",
        "\n"
      ],
      "metadata": {
        "colab": {
          "base_uri": "https://localhost:8080/"
        },
        "id": "FCfJhptn2qfK",
        "outputId": "9f26ac44-73ee-46b3-9203-fac75a0f669d"
      },
      "execution_count": 34,
      "outputs": [
        {
          "output_type": "stream",
          "name": "stdout",
          "text": [
            "DỮ LIỆU SAMPLE_1\n",
            "Vì giá trị p không thấp hơn mức ý nghĩa của toàn bộ quá trình kiểm định (0.93355 >= 0.05) nên có bằng chứng bác bỏ giả thuyết H0\n",
            "\n",
            "\n",
            "DỮ LIỆU SAMPLE_2\n",
            "Vì giá trị p thấp hơn mức ý nghĩa của toàn bộ quá trình kiểm định (0.0002 < 0.05) nên không có bằng chứng bác bỏ giả thuyết H0\n"
          ]
        }
      ]
    },
    {
      "cell_type": "markdown",
      "source": [
        "## Kiểm định tính chất thứ 3 bằng phương pháp Bartlett và Levene đối với sample_1 và sample_2"
      ],
      "metadata": {
        "id": "lsWg9cIy4v0a"
      }
    },
    {
      "cell_type": "markdown",
      "source": [
        "> **Bước 1**: Khởi tạo dữ liệu và tính toán các thông số cần thiết"
      ],
      "metadata": {
        "id": "w5gVinwk4_LK"
      }
    },
    {
      "cell_type": "code",
      "source": [
        "# Dữ liệu được sử dụng là sample_1 và sample_2\n",
        "print(\"Các dữ liệu được sử dụng để kiểm định tính chất thử 3:\\n sample_1 theo phân phối chuẩn.\\n sample_2 theo phân phối poisson\")\n",
        "\n",
        "# Khởi tạo biến alpha lưu trữ mức ý nghĩa cho toàn bộ quá trình phân tích\n",
        "alpha = 0.05\n",
        "print(f\"Mức ý nghĩa cho toàn bộ quá trình phân tích: {alpha}\")"
      ],
      "metadata": {
        "colab": {
          "base_uri": "https://localhost:8080/"
        },
        "id": "tnCYxr-j41QC",
        "outputId": "e4fd8aaf-790c-4e53-88ab-64934a0517cb"
      },
      "execution_count": 37,
      "outputs": [
        {
          "output_type": "stream",
          "name": "stdout",
          "text": [
            "Các dữ liệu được sử dụng để kiểm định tính chất thử 3:\n",
            " sample_1 theo phân phối chuẩn.\n",
            " sample_2 theo phân phối poisson\n",
            "Mức ý nghĩa cho toàn bộ quá trình phân tích: 0.05\n"
          ]
        }
      ]
    },
    {
      "cell_type": "markdown",
      "source": [
        "> **Bước 2**: Xây dựng giả thuyết\n",
        "\n",
        "Giả thuyết $H_0$:\n",
        "\n",
        "$H_0$: Phương sai giữa các lựa chọn của biến định tính ở trên khác nhau\n",
        "\n",
        "Giả thuyết $H_a$:\n",
        "\n",
        "$H_a$: Phương sai giữa các lựa chọn của biến định tính ở trên không khác nhau"
      ],
      "metadata": {
        "id": "Zur5Akmr5eSr"
      }
    },
    {
      "cell_type": "markdown",
      "source": [
        "> **Bước 3**: Thực hiện tiến hành kiểm định và tính các giá trị liên quan"
      ],
      "metadata": {
        "id": "qWoXzWHd6BX6"
      }
    },
    {
      "cell_type": "code",
      "source": [
        "# Tính giá trị p và stat bằng kiểm định Barlett của sample_1 và sample_2\n",
        "p, stat = st.bartlett(sample_1, sample_2)\n",
        "\n",
        "# Xuất kết quả ra màn hình:\n",
        "print(\"GIÁ TRỊ CÁC BIẾN STAT, P SAU KHI KIỂM ĐỊNH BARTLETT\")\n",
        "print(\"---------------------------------------------------\")\n",
        "print(f\"Giá trị stat: {np.round(stat, 10)}\")\n",
        "print(f\"Giá trị p: {np.round(p, 2)}\")"
      ],
      "metadata": {
        "colab": {
          "base_uri": "https://localhost:8080/"
        },
        "id": "viBog_9e5oqV",
        "outputId": "6ec8a0d5-93cc-418f-970d-015b62de2db9"
      },
      "execution_count": 41,
      "outputs": [
        {
          "output_type": "stream",
          "name": "stdout",
          "text": [
            "GIÁ TRỊ CÁC BIẾN STAT, P SAU KHI KIỂM ĐỊNH BARtLETT\n",
            "---------------------------------------------------\n",
            "Giá trị stat: 9.3553e-06\n",
            "Giá trị p: 19.64\n"
          ]
        }
      ]
    },
    {
      "cell_type": "code",
      "source": [
        "# Tính giá trị p và stat bằng kiểm định Levene của sample_1 và sample_2\n",
        "p, stat = st.levene(sample_1, sample_2)\n",
        "\n",
        "# Xuất kết quả ra màn hình:\n",
        "print(\"GIÁ TRỊ CÁC BIẾN STAT, P SAU KHI KIỂM ĐỊNH BARTLETT\")\n",
        "print(\"---------------------------------------------------\")\n",
        "print(f\"Giá trị stat: {np.round(stat, 5)}\")\n",
        "print(f\"Giá trị p: {np.round(p, 2)}\")"
      ],
      "metadata": {
        "colab": {
          "base_uri": "https://localhost:8080/"
        },
        "id": "_uH8JbQm69RS",
        "outputId": "02702f12-be3b-450c-add3-a0249c1e837c"
      },
      "execution_count": 43,
      "outputs": [
        {
          "output_type": "stream",
          "name": "stdout",
          "text": [
            "GIÁ TRỊ CÁC BIẾN STAT, P SAU KHI KIỂM ĐỊNH BARTLETT\n",
            "---------------------------------------------------\n",
            "Giá trị stat: 0.00025\n",
            "Giá trị p: 13.94\n"
          ]
        }
      ]
    },
    {
      "cell_type": "markdown",
      "source": [
        "> **Bước 4**: Kết luật kết quả sau khi kiểm định"
      ],
      "metadata": {
        "id": "B12A6xz17I9J"
      }
    },
    {
      "cell_type": "code",
      "source": [
        "if (p < alpha):\n",
        "  print(f\"Vì giá trị p thấp hơn mức ý nghĩa của toàn bộ quá trình kiểm định ({np.round(p, 2)} < {alpha}) nên không có bằng chứng bác bỏ giả thuyết H0\")\n",
        "else:\n",
        "  print(f\"Vì giá trị p không thấp hơn mức ý nghĩa của toàn bộ quá trình kiểm định ({np.round(p, 2)} >= {alpha}) nên có bằng chứng bác bỏ giả thuyết H0\")"
      ],
      "metadata": {
        "colab": {
          "base_uri": "https://localhost:8080/"
        },
        "id": "gVfrgYQE7JRE",
        "outputId": "476b2718-a876-4c15-de7e-f0e5f6dd1420"
      },
      "execution_count": 45,
      "outputs": [
        {
          "output_type": "stream",
          "name": "stdout",
          "text": [
            "Vì giá trị p không thấp hơn mức ý nghĩa của toàn bộ quá trình kiểm định (13.94 >= 0.05) nên có bằng chứng bác bỏ giả thuyết H0\n"
          ]
        }
      ]
    }
  ],
  "metadata": {
    "kernelspec": {
      "display_name": "Python 3",
      "language": "python",
      "name": "python3"
    },
    "language_info": {
      "codemirror_mode": {
        "name": "ipython",
        "version": 3
      },
      "file_extension": ".py",
      "mimetype": "text/x-python",
      "name": "python",
      "nbconvert_exporter": "python",
      "pygments_lexer": "ipython3",
      "version": "3.7.3"
    },
    "colab": {
      "name": "Thực hành kiểm định các tính chất của dữ liệu dùng trong phân tích ANOVA 1 chiều",
      "provenance": [],
      "collapsed_sections": [],
      "include_colab_link": true
    }
  },
  "nbformat": 4,
  "nbformat_minor": 0
}