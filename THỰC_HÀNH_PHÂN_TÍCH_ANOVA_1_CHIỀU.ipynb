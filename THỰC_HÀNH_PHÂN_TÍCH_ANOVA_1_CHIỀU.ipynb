{
  "cells": [
    {
      "cell_type": "markdown",
      "metadata": {
        "id": "view-in-github",
        "colab_type": "text"
      },
      "source": [
        "<a href=\"https://colab.research.google.com/github/HoangShiya/HUET/blob/main/TH%E1%BB%B0C_H%C3%80NH_PH%C3%82N_T%C3%8DCH_ANOVA_1_CHI%E1%BB%80U.ipynb\" target=\"_parent\"><img src=\"https://colab.research.google.com/assets/colab-badge.svg\" alt=\"Open In Colab\"/></a>"
      ]
    },
    {
      "cell_type": "markdown",
      "source": [
        "# THỰC HÀNH PHÂN TÍCH ANOVA 1 CHIỀU\n",
        "---\n",
        "---"
      ],
      "metadata": {
        "id": "XaYUNEtwHGuZ"
      }
    },
    {
      "cell_type": "markdown",
      "source": [
        "Sử dụng các thư viện cần thiết"
      ],
      "metadata": {
        "id": "0Aqq1BevHsbo"
      }
    },
    {
      "cell_type": "code",
      "execution_count": 2,
      "metadata": {
        "id": "1VH6SuCt7_bm"
      },
      "outputs": [],
      "source": [
        "from google.colab import drive\n",
        "import pandas as pd\n",
        "import statistics as sts\n",
        "import numpy as np \n",
        "import matplotlib.pyplot as plt\n",
        "import scipy.stats as st\n",
        "import seaborn as sns"
      ]
    },
    {
      "cell_type": "markdown",
      "source": [
        "## **PHÂN TÍCH ANOVA 1 CHIỀU VỚI TẬP DỮ LIỆU \"Excavation Depth and Archaeology\"**"
      ],
      "metadata": {
        "id": "fSt4sg6HWrIk"
      }
    },
    {
      "cell_type": "markdown",
      "source": [
        "> **Bước 1**: Tiến hành lấy tập dữ liệu owan01.csv từ drive để tiến hành phân tích"
      ],
      "metadata": {
        "id": "VVgj4yD0Ikgg"
      }
    },
    {
      "cell_type": "code",
      "source": [
        "drive.mount('/content/drive')\n",
        "df = pd.read_csv('/content/drive/MyDrive/Python/owan01.csv')\n",
        "print(f\"Dữ liệu của tập dữ liệu owan01.csv:\\n ----------------------------------\\n {df}\")"
      ],
      "metadata": {
        "colab": {
          "base_uri": "https://localhost:8080/"
        },
        "id": "MZDpkbhj8kvI",
        "outputId": "413d693b-b4cb-4404-c659-eb20a2ed81c7"
      },
      "execution_count": 3,
      "outputs": [
        {
          "output_type": "stream",
          "name": "stdout",
          "text": [
            "Mounted at /content/drive\n",
            "Dữ liệu của tập dữ liệu owan01.csv:\n",
            " ----------------------------------\n",
            "      X1    X2     X3    X4\n",
            "0    93  85.0  100.0  96.0\n",
            "1   120  45.0   75.0  58.0\n",
            "2    65  80.0   65.0  95.0\n",
            "3   105  28.0   40.0  90.0\n",
            "4   115  75.0   73.0  65.0\n",
            "5    82  70.0   65.0  80.0\n",
            "6    99  65.0   50.0  85.0\n",
            "7    87  55.0   30.0  95.0\n",
            "8   100  50.0   45.0  82.0\n",
            "9    90  40.0   50.0   NaN\n",
            "10   78   NaN   45.0   NaN\n",
            "11   95   NaN   55.0   NaN\n",
            "12   93   NaN    NaN   NaN\n",
            "13   88   NaN    NaN   NaN\n",
            "14  110   NaN    NaN   NaN\n"
          ]
        }
      ]
    },
    {
      "cell_type": "markdown",
      "source": [
        "Chuyển đổi df thành dạng phù hợp để phân tích ANOVA một chiều theo gói scipy.stats, trường hợp này có thể chuyển dữ liệu sang dạng list và  sử dụng hàm *dropna()*\n",
        "\n",
        "> **Cú pháp**: dataFrame.dropna(axis=0, how='any', thresh=None, subset=None, inplace=False)\n",
        "\n",
        "*Chú thích*:\n",
        "\n",
        "1) *axis*: 0 là \"index\", 1 là \"column\", mặc định axis = 0\n",
        "\n",
        "Xác định xem các hàng hoặc cột chứa các giá trị bị thiếu có bị xóa hay không.\n",
        "\n",
        "*   0, hoặc \"index\": Thả các hàng chứa các giá trị bị thiếu.\n",
        "*   1 hoặc \"column\": Bỏ các cột chứa giá trị bị thiếu.\n",
        "\n",
        "2) *how*: \"any\" hoặc \"all\", mặc định là any\n",
        "\n",
        "Xác định xem hàng hoặc cột có bị xóa khỏi DataFrame hay không khi chúng ta có ít nhất một NA hoặc tất cả NA.\n",
        "\n",
        "*   \"any\": Nếu có bất kỳ giá trị NA nào sẽ loại bỏ luôn hàng hoặc cột đó.\n",
        "*   \"all\": Nếu tất cả các giá trị đều là NA sẽ loại luôn bỏ hàng hoặc cột đó.\n",
        "\n",
        "3) *thresh*: int, optional\n",
        "\n",
        "Yêu cầu nhiều giá trị không phải NA\n",
        "\n",
        "4) *subset*: Nhãn cột (column label), chuỗi nhãn (sequence label) hoặc tùy chọn (optional)\n",
        "\n",
        "Xem xét các nhãn dọc theo trục khác nhau.\n",
        "\n",
        "Ví dụ: Nếu bạn đang bỏ hàng thì đây sẽ là danh sách bao gồm các cột cần thiết.\n",
        "\n",
        "5) *inplace*: bool, mặc định là \"sai\" (False)\n",
        "\n",
        "Nếu Đúng, hãy thực hiện thao tác tại chỗ và trả về giá trị None.\n",
        "\n",
        "> **Chức năng**: Loại bỏ những giá trị bị thiếu\n",
        "\n",
        "> **Giá trị trả về**: Dataframe hoặc None\n",
        "\n",
        "DataFrame với các mục NA bị loại bỏ khỏi nó hoặc Không có nếu inplace=True.\n"
      ],
      "metadata": {
        "id": "WTF9_9J6K1lg"
      }
    },
    {
      "cell_type": "code",
      "source": [
        "# Khởi tạo giá trị alpha = 0.05 là ý nghĩa của quá trình kiểm định\n",
        "alpha = 0.05\n",
        "\n",
        "# Khởi tạo biến sample_converted_by_df dùng để lưu trữ dữ liệu của biến df khi được chuyển đổi sang dạng list và sàng lọc dữ liệu\n",
        "sample_converted_by_df = [list(df[\"X1\"].dropna()), \n",
        "                          list(df[\"X2\"].dropna()),\n",
        "                          list(df[\"X3\"].dropna()),\n",
        "                          list(df[\"X4\"].dropna())]\n",
        "\n",
        "print(f\"Dữ liệu của tập dữ liệu owan01.csv khi được chuyển đổi và xử lí số liệu:\\n --------------------------------------------------------------------\\n {sample_converted_by_df}\")"
      ],
      "metadata": {
        "colab": {
          "base_uri": "https://localhost:8080/"
        },
        "id": "m_AW5zVWVgb2",
        "outputId": "27399bed-384c-4de8-d44d-14539be86bbe"
      },
      "execution_count": 4,
      "outputs": [
        {
          "output_type": "stream",
          "name": "stdout",
          "text": [
            "Dữ liệu của tập dữ liệu owan01.csv khi được chuyển đổi và xử lí số liệu:\n",
            " --------------------------------------------------------------------\n",
            " [[93, 120, 65, 105, 115, 82, 99, 87, 100, 90, 78, 95, 93, 88, 110], [85.0, 45.0, 80.0, 28.0, 75.0, 70.0, 65.0, 55.0, 50.0, 40.0], [100.0, 75.0, 65.0, 40.0, 73.0, 65.0, 50.0, 30.0, 45.0, 50.0, 45.0, 55.0], [96.0, 58.0, 95.0, 90.0, 65.0, 80.0, 85.0, 95.0, 82.0]]\n"
          ]
        }
      ]
    },
    {
      "cell_type": "markdown",
      "source": [
        "### a) Kiểm định các nhóm có tuân theo phân phối chuẩn không"
      ],
      "metadata": {
        "id": "rEQPgCkyV3Ts"
      }
    },
    {
      "cell_type": "markdown",
      "source": [
        "> **Bước 2.a**: Phát biểu giả thuyết"
      ],
      "metadata": {
        "id": "H65ZmEKWQ57F"
      }
    },
    {
      "cell_type": "markdown",
      "source": [
        "Giả thuyết $H_0$:\n",
        "\n",
        "$$H_0: \\text{Nhóm tuân theo phân phối chuẩn}$$\n",
        "\n",
        "Giả thuyết $H_a$:\n",
        "\n",
        "$$H_a: \\text{Nhóm không tuân theo phân phối chuẩn}$$"
      ],
      "metadata": {
        "id": "PJeENnzhXKqz"
      }
    },
    {
      "cell_type": "markdown",
      "source": [
        "> **Bước 3.a**: Tiến hành kiểm định và tính toán các đại lượng cần thiết\n",
        "\n",
        "> **Bước 4.a**: Kết luận dựa trên kết quả kiểm định"
      ],
      "metadata": {
        "id": "P8MN8lBPR1FF"
      }
    },
    {
      "cell_type": "code",
      "source": [
        "# Để kiểm định từng hàng, ta sử dụng vòng lặp for và so sánh giá trị p với mức ý nghĩa để tiến hành kiểm định\n",
        "for i in range(0, 4, 1):\n",
        "  p = st.shapiro(sample_converted_by_df[i])[1]\n",
        "\n",
        "  # Phát biểu kết quả kiểm định từng nhóm\n",
        "  print(\"-------------------------------------------------------------------------\")\n",
        "  print(f\"Giá trị p của nhóm thứ {i+1} là: {np.round(p, 2)}\")\n",
        "  if (p < alpha):\n",
        "    print(f\"Vì giá trị p của nhóm thứ {i+1} bé hơn mức ý nghĩa của bài toán ({np.round(p, 2)} < {alpha}). Vì vậy không có bằng chứng bác bỏ giả thuyết H0\")\n",
        "  else:\n",
        "    print(f\"Vì giá trị p của nhóm thứ {i+1} không bé hơn mức ý nghĩa của bài toán ({np.round(p, 2)} >= {alpha}). Vì vậy có bằng chứng bác bỏ giả thuyết H0\")\n",
        "\n",
        "print(\"-------------------------------------------------------------------------\")"
      ],
      "metadata": {
        "id": "HrHqjwnyBOOS",
        "colab": {
          "base_uri": "https://localhost:8080/"
        },
        "outputId": "d55e65ba-05d6-4ccf-f3ab-41cf481c1ed2"
      },
      "execution_count": 5,
      "outputs": [
        {
          "output_type": "stream",
          "name": "stdout",
          "text": [
            "-------------------------------------------------------------------------\n",
            "Giá trị p của nhóm thứ 1 là: 1.0\n",
            "Vì giá trị p của nhóm thứ 1 không bé hơn mức ý nghĩa của bài toán (1.0 >= 0.05). Vì vậy có bằng chứng bác bỏ giả thuyết H0\n",
            "-------------------------------------------------------------------------\n",
            "Giá trị p của nhóm thứ 2 là: 0.86\n",
            "Vì giá trị p của nhóm thứ 2 không bé hơn mức ý nghĩa của bài toán (0.86 >= 0.05). Vì vậy có bằng chứng bác bỏ giả thuyết H0\n",
            "-------------------------------------------------------------------------\n",
            "Giá trị p của nhóm thứ 3 là: 0.6\n",
            "Vì giá trị p của nhóm thứ 3 không bé hơn mức ý nghĩa của bài toán (0.6 >= 0.05). Vì vậy có bằng chứng bác bỏ giả thuyết H0\n",
            "-------------------------------------------------------------------------\n",
            "Giá trị p của nhóm thứ 4 là: 0.14\n",
            "Vì giá trị p của nhóm thứ 4 không bé hơn mức ý nghĩa của bài toán (0.14 >= 0.05). Vì vậy có bằng chứng bác bỏ giả thuyết H0\n",
            "-------------------------------------------------------------------------\n"
          ]
        }
      ]
    },
    {
      "cell_type": "markdown",
      "source": [
        "### b) Kiểm định sự đồng nhất giữa phương sai các nhóm"
      ],
      "metadata": {
        "id": "TYK_Lo4tYQ5d"
      }
    },
    {
      "cell_type": "markdown",
      "source": [
        "> **Bước 2.b**: Phát biểu giả thuyết"
      ],
      "metadata": {
        "id": "kzArznAvUrNT"
      }
    },
    {
      "cell_type": "markdown",
      "source": [
        "Giả thuyết $H_0$:\n",
        "\n",
        "$$H_0: \\text{Không có sự khác biệt về phương sai của các nhóm}$$\n",
        "\n",
        "Giả thuyết $H_a$:\n",
        "\n",
        "$$H_a: \\text{Có sự khác biệt về phương sai của các nhóm}$$"
      ],
      "metadata": {
        "id": "nrYn4oQHZGzK"
      }
    },
    {
      "cell_type": "markdown",
      "source": [
        "> **Bước 3.b**: Tiến hành kiểm định và tính toán các đại lượng cần thiết\n"
      ],
      "metadata": {
        "id": "g5YTVk21VBz7"
      }
    },
    {
      "cell_type": "code",
      "source": [
        "# Khởi tạo biến stt, p để lưu giá trị của stat value và p value\n",
        "stt, p = st.levene(sample_converted_by_df[0], sample_converted_by_df[1], sample_converted_by_df[2], sample_converted_by_df[3])   \n",
        "\n",
        "# Xuất kết quả stat value, p value ra màn hình\n",
        "print(f\"Giá trị stat: {np.round(stt, 2)}\")\n",
        "print(f\"Giá trị p: {np.round(p, 2)}\")"
      ],
      "metadata": {
        "id": "R-bshRe4LMMS",
        "colab": {
          "base_uri": "https://localhost:8080/"
        },
        "outputId": "de83b6a0-a4c7-4f7e-9021-438c6e60b2c1"
      },
      "execution_count": 6,
      "outputs": [
        {
          "output_type": "stream",
          "name": "stdout",
          "text": [
            "Giá trị stat: 0.8\n",
            "Giá trị p: 0.5\n"
          ]
        }
      ]
    },
    {
      "cell_type": "markdown",
      "source": [
        "> **Bước 4.b**: Kết luận dựa trên kết quả kiểm định"
      ],
      "metadata": {
        "id": "4niIfytMVmtT"
      }
    },
    {
      "cell_type": "code",
      "source": [
        "if (p < alpha):\n",
        "  print(f\"Vì giá trị p  bé hơn mức ý nghĩa của bài toán ({np.round(p, 2)} < {alpha}). Vì vậy không có bằng chứng bác bỏ giả thuyết H0\")\n",
        "else:\n",
        "  print(f\"Vì giá trị p không bé hơn mức ý nghĩa của bài toán ({np.round(p, 2)} >= {alpha}). Vì vậy có bằng chứng bác bỏ giả thuyết H0\")"
      ],
      "metadata": {
        "colab": {
          "base_uri": "https://localhost:8080/"
        },
        "id": "b_kVpukXVqIK",
        "outputId": "a0875a14-38be-4189-fe52-985b0bff2633"
      },
      "execution_count": 7,
      "outputs": [
        {
          "output_type": "stream",
          "name": "stdout",
          "text": [
            "Vì giá trị p không bé hơn mức ý nghĩa của bài toán (0.5 >= 0.05). Vì vậy có bằng chứng bác bỏ giả thuyết H0\n"
          ]
        }
      ]
    },
    {
      "cell_type": "markdown",
      "source": [
        "Vì các nhóm độc lập, tuân theo phân phối chuẩn và có sự đồng nhất về phương sai giữa các nhóm nên ta **có thể tiến hành kiểm định ANOVA**"
      ],
      "metadata": {
        "id": "XJifD_07ZgFT"
      }
    },
    {
      "cell_type": "markdown",
      "source": [
        "### TIẾN HÀNH PHÂN TÍCH ANOVA 1 CHIỀU"
      ],
      "metadata": {
        "id": "oo1AwV2aBXbw"
      }
    },
    {
      "cell_type": "markdown",
      "source": [
        "> **Bước 1**: Lấy dữ liệu và tính toán các thông số cần thiết"
      ],
      "metadata": {
        "id": "oJQpxqglBe9v"
      }
    },
    {
      "cell_type": "markdown",
      "source": [
        "*   Dữ liệu được sử dụng là sample_converted_by_df (Dữ liệu đã được xử lí từ owan01.csv)\n",
        "*   alpha = 0.05 là ý nghĩa của bài toán trong quá trình kiểm định"
      ],
      "metadata": {
        "id": "zfzjzEezBxCn"
      }
    },
    {
      "cell_type": "markdown",
      "source": [
        "> **Bước 2**: Phát biểu giả thuyết"
      ],
      "metadata": {
        "id": "Z-hoEp6QCE6B"
      }
    },
    {
      "cell_type": "markdown",
      "source": [
        "Giả thuyết $H_0$:\n",
        "\n",
        "$$H_0: \\text{Không có sự khác biệt về trung bình độ sâu của các nhóm}$$\n",
        "\n",
        "Giả thuyết $H_a$:\n",
        "\n",
        "$$H_a: \\text{Có sự khác biệt về trung bình độ sâu của các nhóm}$$"
      ],
      "metadata": {
        "id": "4FYxcCX3Z8DZ"
      }
    },
    {
      "cell_type": "markdown",
      "source": [
        "> **Bước 3**: Tiến hành kiểm định ANOVA 1 chiều"
      ],
      "metadata": {
        "id": "bnkTlxBfCgJw"
      }
    },
    {
      "cell_type": "code",
      "source": [
        "# Khởi tạo 2 biến f và p dùng để lưu trữ giá trị f stat và p value\n",
        "f, p = st.f_oneway(sample_converted_by_df[0], sample_converted_by_df[1], sample_converted_by_df[2], sample_converted_by_df[3])\n",
        "\n",
        "# Xuất giá trị p ra màn hình\n",
        "print(f\"Giá trị p khi tiến hành kiểm định: {np.round(p, 10)}\")"
      ],
      "metadata": {
        "colab": {
          "base_uri": "https://localhost:8080/"
        },
        "id": "uEj08MQkZ6az",
        "outputId": "0deb8a87-e260-45d2-9da7-9d392b79d7ae"
      },
      "execution_count": 16,
      "outputs": [
        {
          "output_type": "stream",
          "name": "stdout",
          "text": [
            "Giá trị p khi tiến hành kiểm định: 7.991e-07\n"
          ]
        }
      ]
    },
    {
      "cell_type": "markdown",
      "source": [
        "> **Bước 4**: Kết luận dựa trên kết quả kiểm định"
      ],
      "metadata": {
        "id": "B9miOv14DbFw"
      }
    },
    {
      "cell_type": "code",
      "source": [
        "if (p < alpha):\n",
        "  print(f\"Vì giá trị p  bé hơn mức ý nghĩa của bài toán ({np.round(p, 10)} < {alpha}). Vì vậy không có bằng chứng bác bỏ giả thuyết H0\")\n",
        "else:\n",
        "  print(f\"Vì giá trị p không bé hơn mức ý nghĩa của bài toán ({np.round(p, 10)} >= {alpha}). Vì vậy có bằng chứng bác bỏ giả thuyết H0\")"
      ],
      "metadata": {
        "colab": {
          "base_uri": "https://localhost:8080/"
        },
        "id": "FqUsiSq5DhxX",
        "outputId": "a9944ee0-0307-48ca-e817-b42809927505"
      },
      "execution_count": 17,
      "outputs": [
        {
          "output_type": "stream",
          "name": "stdout",
          "text": [
            "Vì giá trị p  bé hơn mức ý nghĩa của bài toán (7.991e-07 < 0.05). Vì vậy không có bằng chứng bác bỏ giả thuyết H0\n"
          ]
        }
      ]
    },
    {
      "cell_type": "markdown",
      "source": [
        "## **PHÂN TÍCH ANOVA 1 CHIỀU VỚI TẬP DỮ LIỆU \"Apple orchard experiment\"**"
      ],
      "metadata": {
        "id": "VzofZINHa5EF"
      }
    },
    {
      "cell_type": "markdown",
      "source": [
        "> **Bước 1**: Tiến hành lấy tập dữ liệu owan02.csv từ drive để tiến hành phân tích"
      ],
      "metadata": {
        "id": "oWhKilrfOEzC"
      }
    },
    {
      "cell_type": "code",
      "source": [
        "df2 = pd.read_csv('/content/drive/MyDrive/Python/owan02.csv')\n",
        "print(f\"Dữ liệu của tập dữ liệu owan02.csv:\\n ----------------------------------\\n {df2}\")"
      ],
      "metadata": {
        "colab": {
          "base_uri": "https://localhost:8080/"
        },
        "id": "o0eF7gBGY9UQ",
        "outputId": "d19e0b5a-23e2-453b-eea8-c63958a35b04"
      },
      "execution_count": 24,
      "outputs": [
        {
          "output_type": "stream",
          "name": "stdout",
          "text": [
            "Dữ liệu của tập dữ liệu owan02.csv:\n",
            " ----------------------------------\n",
            "      X1    X2    X3    X4    X5\n",
            "0  2569  2074  2505  2838  1532\n",
            "1  2928  2885  2315  2351  2552\n",
            "2  2865  3378  2667  3001  3083\n",
            "3  3844  3906  2390  2439  2330\n",
            "4  3027  2782  3021  2199  2079\n",
            "5  2336  3018  3085  3318  3366\n",
            "6  3211  3383  3308  3601  2416\n",
            "7  3037  3447  3231  3291  3100\n"
          ]
        }
      ]
    },
    {
      "cell_type": "code",
      "source": [
        "# Khởi tạo giá trị alpha = 0.05 là ý nghĩa của quá trình kiểm định\n",
        "alpha = 0.05\n",
        "\n",
        "# Khởi tạo biến sample_converted_by_df dùng để lưu trữ dữ liệu của biến df khi được chuyển đổi sang dạng list và sàng lọc dữ liệu\n",
        "sample_converted_by_df2 = [list(df2[\"X1\"].dropna()), \n",
        "                           list(df2[\"X2\"].dropna()),\n",
        "                           list(df2[\"X3\"].dropna()),\n",
        "                           list(df2[\"X4\"].dropna()),\n",
        "                           list(df2[\"X5\"].dropna())]\n",
        "\n",
        "print(f\"Dữ liệu của tập dữ liệu owan02.csv khi được chuyển đổi và xử lí số liệu:\\n --------------------------------------------------------------------\\n {sample_converted_by_df2}\")"
      ],
      "metadata": {
        "colab": {
          "base_uri": "https://localhost:8080/"
        },
        "id": "4zO9WKrybNqs",
        "outputId": "170cd8ef-3253-46aa-aed0-44d66cab9702"
      },
      "execution_count": 38,
      "outputs": [
        {
          "output_type": "stream",
          "name": "stdout",
          "text": [
            "Dữ liệu của tập dữ liệu owan02.csv khi được chuyển đổi và xử lí số liệu:\n",
            " --------------------------------------------------------------------\n",
            " [[2569, 2928, 2865, 3844, 3027, 2336, 3211, 3037], [2074, 2885, 3378, 3906, 2782, 3018, 3383, 3447], [2505, 2315, 2667, 2390, 3021, 3085, 3308, 3231], [2838, 2351, 3001, 2439, 2199, 3318, 3601, 3291], [1532, 2552, 3083, 2330, 2079, 3366, 2416, 3100]]\n"
          ]
        }
      ]
    },
    {
      "cell_type": "markdown",
      "source": [
        "### a) Kiểm định các nhóm có tuân theo phân phối chuẩn không"
      ],
      "metadata": {
        "id": "E-IbPSLScGhr"
      }
    },
    {
      "cell_type": "markdown",
      "source": [
        "> **Bước 2.a**: Phát biểu giả thuyết"
      ],
      "metadata": {
        "id": "wPyMaAFlIcmA"
      }
    },
    {
      "cell_type": "markdown",
      "source": [
        "Giả thuyết $H_0$:\n",
        "\n",
        "$$H_0: \\text{Nhóm tuân theo phân phối chuẩn}$$\n",
        "\n",
        "Giả thuyết $H_a$:\n",
        "\n",
        "$$H_a: \\text{Nhóm không tuân theo phân phối chuẩn}$$"
      ],
      "metadata": {
        "id": "qXe_l-T_cLL2"
      }
    },
    {
      "cell_type": "markdown",
      "source": [
        "> **Bước 3.a**: Tiến hành kiểm định và tính toán các đại lượng cần thiết\n",
        "\n",
        "> **Bước 4.a**: Kết luận dựa trên kết quả kiểm định"
      ],
      "metadata": {
        "id": "F-qDHigHInIm"
      }
    },
    {
      "cell_type": "code",
      "source": [
        "# Để kiểm định từng hàng, ta sử dụng vòng lặp for và so sánh giá trị p với mức ý nghĩa để tiến hành kiểm định\n",
        "for i in range(0, 5, 1):\n",
        "  p2 = st.shapiro(sample_converted_by_df2[i])[1]\n",
        "\n",
        "  # Phát biểu kết quả kiểm định từng nhóm\n",
        "  print(\"-------------------------------------------------------------------------\")\n",
        "  print(f\"Giá trị p2 của nhóm thứ {i+1} là: {np.round(p2, 2)}\")\n",
        "  if (p2 < alpha):\n",
        "    print(f\"Vì giá trị p2 của nhóm thứ {i+1} bé hơn mức ý nghĩa của bài toán ({np.round(p2, 2)} < {alpha}). Vì vậy không có bằng chứng bác bỏ giả thuyết H0\")\n",
        "  else:\n",
        "    print(f\"Vì giá trị p2 của nhóm thứ {i+1} không bé hơn mức ý nghĩa của bài toán ({np.round(p2, 2)} >= {alpha}). Vì vậy có bằng chứng bác bỏ giả thuyết H0\")\n",
        "\n",
        "print(\"-------------------------------------------------------------------------\")"
      ],
      "metadata": {
        "colab": {
          "base_uri": "https://localhost:8080/"
        },
        "id": "b-GByc2bcHn6",
        "outputId": "66c3567c-1a6e-4e6f-cf69-fef0a0f5ea48"
      },
      "execution_count": 30,
      "outputs": [
        {
          "output_type": "stream",
          "name": "stdout",
          "text": [
            "-------------------------------------------------------------------------\n",
            "Giá trị p của nhóm thứ 1 là: 0.64\n",
            "Vì giá trị p của nhóm thứ 1 không bé hơn mức ý nghĩa của bài toán (0.64 >= 0.05). Vì vậy có bằng chứng bác bỏ giả thuyết H0\n",
            "-------------------------------------------------------------------------\n",
            "Giá trị p của nhóm thứ 2 là: 0.75\n",
            "Vì giá trị p của nhóm thứ 2 không bé hơn mức ý nghĩa của bài toán (0.75 >= 0.05). Vì vậy có bằng chứng bác bỏ giả thuyết H0\n",
            "-------------------------------------------------------------------------\n",
            "Giá trị p của nhóm thứ 3 là: 0.32\n",
            "Vì giá trị p của nhóm thứ 3 không bé hơn mức ý nghĩa của bài toán (0.32 >= 0.05). Vì vậy có bằng chứng bác bỏ giả thuyết H0\n",
            "-------------------------------------------------------------------------\n",
            "Giá trị p của nhóm thứ 4 là: 0.6\n",
            "Vì giá trị p của nhóm thứ 4 không bé hơn mức ý nghĩa của bài toán (0.6 >= 0.05). Vì vậy có bằng chứng bác bỏ giả thuyết H0\n",
            "-------------------------------------------------------------------------\n",
            "Giá trị p của nhóm thứ 5 là: 0.8\n",
            "Vì giá trị p của nhóm thứ 5 không bé hơn mức ý nghĩa của bài toán (0.8 >= 0.05). Vì vậy có bằng chứng bác bỏ giả thuyết H0\n",
            "-------------------------------------------------------------------------\n"
          ]
        }
      ]
    },
    {
      "cell_type": "markdown",
      "source": [
        "### b) Kiểm định sự đồng nhất giữa phương sai các nhóm"
      ],
      "metadata": {
        "id": "IGSdzwV3dFZk"
      }
    },
    {
      "cell_type": "markdown",
      "source": [
        "> **Bước 2.b**: Phát biểu giả thuyết"
      ],
      "metadata": {
        "id": "H_1mj2zxI9VG"
      }
    },
    {
      "cell_type": "markdown",
      "source": [
        "Giả thuyết $H_0$:\n",
        "\n",
        "$$H_0: \\text{Không có sự khác biệt về phương sai của các nhóm}$$\n",
        "\n",
        "Giả thuyết $H_a$:\n",
        "\n",
        "$$H_a: \\text{Có sự khác biệt về phương sai của các nhóm}$$"
      ],
      "metadata": {
        "id": "LKjqzpfcdIEY"
      }
    },
    {
      "cell_type": "markdown",
      "source": [
        "> **Bước 3.b**: Tiến hành kiểm định và tính toán các đại lượng cần thiết\n"
      ],
      "metadata": {
        "id": "6RRrXmrcJjfv"
      }
    },
    {
      "cell_type": "code",
      "source": [
        "# Khởi tạo biến stt2, p2 để lưu giá trị của stat2 value và p2 value\n",
        "stt2, p2 = st.levene(sample_converted_by_df2[0], sample_converted_by_df2[1], sample_converted_by_df2[2], sample_converted_by_df2[3], sample_converted_by_df2[4])   \n",
        "\n",
        "# Xuất kết quả stat3 value, p2 value ra màn hình\n",
        "print(f\"Giá trị stat2: {np.round(stt2, 2)}\")\n",
        "print(f\"Giá trị p2: {np.round(p2, 2)}\")"
      ],
      "metadata": {
        "colab": {
          "base_uri": "https://localhost:8080/"
        },
        "id": "HwRF6iwudCE8",
        "outputId": "057fa94b-6a18-4e9d-dd6d-1af51c1e3202"
      },
      "execution_count": 31,
      "outputs": [
        {
          "output_type": "stream",
          "name": "stdout",
          "text": [
            "Giá trị stat2: 0.43\n",
            "Giá trị p2: 0.79\n"
          ]
        }
      ]
    },
    {
      "cell_type": "markdown",
      "source": [
        "> **Bước 4.b**: Kết luận dựa trên kết quả kiểm định"
      ],
      "metadata": {
        "id": "W6jLz6R6dR74"
      }
    },
    {
      "cell_type": "code",
      "source": [
        "if (p2 < alpha):\n",
        "  print(f\"Vì giá trị p2  bé hơn mức ý nghĩa của bài toán ({np.round(p2, 2)} < {alpha}). Vì vậy không có bằng chứng bác bỏ giả thuyết H0\")\n",
        "else:\n",
        "  print(f\"Vì giá trị p2 không bé hơn mức ý nghĩa của bài toán ({np.round(p2, 2)} >= {alpha}). Vì vậy có bằng chứng bác bỏ giả thuyết H0\")"
      ],
      "metadata": {
        "colab": {
          "base_uri": "https://localhost:8080/"
        },
        "id": "hOwn4N7QJnXt",
        "outputId": "8f6f1a1a-e780-4095-f7e4-20eec2219f25"
      },
      "execution_count": 32,
      "outputs": [
        {
          "output_type": "stream",
          "name": "stdout",
          "text": [
            "Vì giá trị p2 không bé hơn mức ý nghĩa của bài toán (0.79 >= 0.05). Vì vậy có bằng chứng bác bỏ giả thuyết H0\n"
          ]
        }
      ]
    },
    {
      "cell_type": "markdown",
      "source": [
        "Vì các nhóm độc lập, tuân theo phân phối chuẩn và có sự đồng nhất về phương sai giữa các nhóm nên ta **có thể tiến hành kiểm định ANOVA**"
      ],
      "metadata": {
        "id": "NaTO_gWLdZKR"
      }
    },
    {
      "cell_type": "markdown",
      "source": [
        "### TIẾN HÀNH PHÂN TÍCH ANOVA 1 CHIỀU"
      ],
      "metadata": {
        "id": "fZROk7t1J2Dn"
      }
    },
    {
      "cell_type": "markdown",
      "source": [
        "> **Bước 1**: Lấy dữ liệu và tính toán các thông số cần thiết"
      ],
      "metadata": {
        "id": "7g6hahLOJ5i3"
      }
    },
    {
      "cell_type": "markdown",
      "source": [
        "*   Dữ liệu được sử dụng là sample_converted_by_df2 (Dữ liệu đã được xử lí từ owan02.csv)\n",
        "*   alpha = 0.05 là ý nghĩa của bài toán trong quá trình kiểm định"
      ],
      "metadata": {
        "id": "1l8bhz_WJ8-x"
      }
    },
    {
      "cell_type": "markdown",
      "source": [
        "> **Bước 2**: Phát biểu giả thuyết"
      ],
      "metadata": {
        "id": "vB9Q0IiEKAiF"
      }
    },
    {
      "cell_type": "markdown",
      "source": [
        "Giả thuyết $H_0$:\n",
        "\n",
        "$$H_0: \\text{Không có sự khác biệt về trung bình độ tăng trưởng của các nhóm}$$\n",
        "\n",
        "Giả thuyết $H_a$:\n",
        "\n",
        "$$H_a: \\text{có sự khác biệt về trung bình độ tăng trưởng của các nhóm}$$"
      ],
      "metadata": {
        "id": "W4IaJvjEdbwi"
      }
    },
    {
      "cell_type": "markdown",
      "source": [
        "> **Bước 3**: Tiến hành kiểm định ANOVA 1 chiều"
      ],
      "metadata": {
        "id": "NNfOSNp3KRhp"
      }
    },
    {
      "cell_type": "code",
      "source": [
        "# Khởi tạo 2 biến f2 và p2 dùng để lưu trữ giá trị f2 stat và p2 value\n",
        "f2, p2 = st.f_oneway(sample_converted_by_df2[0], sample_converted_by_df2[1], sample_converted_by_df2[2], sample_converted_by_df2[3], sample_converted_by_df2[4])\n",
        "\n",
        "# Xuất giá trị p2 ra màn hình\n",
        "print(f\"Giá trị p2 khi tiến hành kiểm định: {np.round(p2, 2)}\")"
      ],
      "metadata": {
        "colab": {
          "base_uri": "https://localhost:8080/"
        },
        "id": "WBWxNA44dSrF",
        "outputId": "ce675bb2-88f5-4010-98b5-2c31a22ff8bd"
      },
      "execution_count": 35,
      "outputs": [
        {
          "output_type": "stream",
          "name": "stdout",
          "text": [
            "Giá trị p khi tiến hành kiểm định: 0.8\n"
          ]
        }
      ]
    },
    {
      "cell_type": "markdown",
      "source": [
        "> **Bước 4**: Kết luận dựa trên kết quả kiểm định"
      ],
      "metadata": {
        "id": "pL3vc5FOKlC3"
      }
    },
    {
      "cell_type": "code",
      "source": [
        "if (p2 < alpha):\n",
        "  print(f\"Vì giá trị p2  bé hơn mức ý nghĩa của bài toán ({np.round(p2, 2)} < {alpha}). Vì vậy không có bằng chứng bác bỏ giả thuyết H0\")\n",
        "else:\n",
        "  print(f\"Vì giá trị p2 không bé hơn mức ý nghĩa của bài toán ({np.round(p2, 2)} >= {alpha}). Vì vậy có bằng chứng bác bỏ giả thuyết H0\")"
      ],
      "metadata": {
        "colab": {
          "base_uri": "https://localhost:8080/"
        },
        "id": "NJs6kj6ZKpb3",
        "outputId": "67d433e5-fbbb-4a69-d57d-ad2bc815cb84"
      },
      "execution_count": 36,
      "outputs": [
        {
          "output_type": "stream",
          "name": "stdout",
          "text": [
            "Vì giá trị p2 không bé hơn mức ý nghĩa của bài toán (0.28 >= 0.05). Vì vậy có bằng chứng bác bỏ giả thuyết H0\n"
          ]
        }
      ]
    },
    {
      "cell_type": "markdown",
      "source": [
        "## **PHÂN TÍCH ANOVA 1 CHIỀU VỚI TẬP DỮ LIỆU \"Red dye number 40\"**"
      ],
      "metadata": {
        "id": "JC5TPa3UehCj"
      }
    },
    {
      "cell_type": "markdown",
      "source": [
        "> **Bước 1**: Tiến hành lấy tập dữ liệu owan03.csv từ drive để tiến hành phân tích"
      ],
      "metadata": {
        "id": "Jcg6KUvrOIOQ"
      }
    },
    {
      "cell_type": "code",
      "source": [
        "df3 = pd.read_csv('/content/drive/MyDrive/Python/owan03.csv')\n",
        "print(f\"Dữ liệu của tập dữ liệu owan03.csv:\\n ----------------------------------\\n {df3}\")"
      ],
      "metadata": {
        "colab": {
          "base_uri": "https://localhost:8080/"
        },
        "id": "rSD5ESsWee6V",
        "outputId": "fc2e892c-c6cb-431c-8269-c25081dcb150"
      },
      "execution_count": 37,
      "outputs": [
        {
          "output_type": "stream",
          "name": "stdout",
          "text": [
            "Dữ liệu của tập dữ liệu owan03.csv:\n",
            " ----------------------------------\n",
            "      X1    X2    X3     X4\n",
            "0    70  49.0  30.0   34.0\n",
            "1    77  60.0  37.0   36.0\n",
            "2    83  63.0  56.0   48.0\n",
            "3    87  67.0  65.0   48.0\n",
            "4    92  70.0  76.0   65.0\n",
            "5    93  74.0  83.0   91.0\n",
            "6   100  77.0  87.0   98.0\n",
            "7   102  80.0  90.0  102.0\n",
            "8   102  89.0  94.0    NaN\n",
            "9   103   NaN  97.0    NaN\n",
            "10   96   NaN   NaN    NaN\n"
          ]
        }
      ]
    },
    {
      "cell_type": "code",
      "source": [
        "# Khởi tạo giá trị alpha = 0.05 là ý nghĩa của quá trình kiểm định\n",
        "alpha = 0.05\n",
        "\n",
        "# Khởi tạo biến sample_converted_by_df dùng để lưu trữ dữ liệu của biến df khi được chuyển đổi sang dạng list và sàng lọc dữ liệu\n",
        "sample_converted_by_df3 = [list(df3[\"X1\"].dropna()), \n",
        "                           list(df3[\"X2\"].dropna()),\n",
        "                           list(df3[\"X3\"].dropna()),\n",
        "                           list(df3[\"X4\"].dropna())]\n",
        "\n",
        "print(f\"Dữ liệu của tập dữ liệu owan03.csv khi được chuyển đổi và xử lí số liệu:\\n --------------------------------------------------------------------\\n {sample_converted_by_df3}\")"
      ],
      "metadata": {
        "colab": {
          "base_uri": "https://localhost:8080/"
        },
        "id": "6W0AX136evWG",
        "outputId": "d0c5dd8e-d82e-4833-9653-411b99e5ce86"
      },
      "execution_count": 53,
      "outputs": [
        {
          "output_type": "stream",
          "name": "stdout",
          "text": [
            "Dữ liệu của tập dữ liệu owan03.csv khi được chuyển đổi và xử lí số liệu:\n",
            " --------------------------------------------------------------------\n",
            " [[70, 77, 83, 87, 92, 93, 100, 102, 102, 103, 96], [49.0, 60.0, 63.0, 67.0, 70.0, 74.0, 77.0, 80.0, 89.0], [30.0, 37.0, 56.0, 65.0, 76.0, 83.0, 87.0, 90.0, 94.0, 97.0], [34.0, 36.0, 48.0, 48.0, 65.0, 91.0, 98.0, 102.0]]\n"
          ]
        }
      ]
    },
    {
      "cell_type": "markdown",
      "source": [
        "### a) Kiểm định các nhóm có tuân theo phân phối chuẩn không"
      ],
      "metadata": {
        "id": "MLGO6faSe_6k"
      }
    },
    {
      "cell_type": "markdown",
      "source": [
        "> **Bước 2.a**: Phát biểu giả thuyết"
      ],
      "metadata": {
        "id": "mn2Z29aXLxaU"
      }
    },
    {
      "cell_type": "markdown",
      "source": [
        "Giả thuyết $H_0$:\n",
        "\n",
        "$$H_0: \\text{Nhóm tuân theo phân phối chuẩn}$$\n",
        "\n",
        "Giả thuyết $H_a$:\n",
        "\n",
        "$$H_a: \\text{Nhóm không tuân theo phân phối chuẩn}$$"
      ],
      "metadata": {
        "id": "PfgNZZGifB1e"
      }
    },
    {
      "cell_type": "markdown",
      "source": [
        "> **Bước 3.a**: Tiến hành kiểm định và tính toán các đại lượng cần thiết\n",
        "\n",
        "> **Bước 4.a**: Kết luận dựa trên kết quả kiểm định"
      ],
      "metadata": {
        "id": "VccjCj2oL6Cv"
      }
    },
    {
      "cell_type": "code",
      "source": [
        "# Để kiểm định từng hàng, ta sử dụng vòng lặp for và so sánh giá trị p với mức ý nghĩa để tiến hành kiểm định\n",
        "for i in range(0, 4, 1):\n",
        "  p3 = st.shapiro(sample_converted_by_df3[i])[1]\n",
        "\n",
        "  # Phát biểu kết quả kiểm định từng nhóm\n",
        "  print(\"-------------------------------------------------------------------------\")\n",
        "  print(f\"Giá trị p3 của nhóm thứ {i+1} là: {np.round(p3, 2)}\")\n",
        "  if (p3 < alpha):\n",
        "    print(f\"Vì giá trị p3 của nhóm thứ {i+1} bé hơn mức ý nghĩa của bài toán ({np.round(p3, 2)} < {alpha}). Vì vậy không có bằng chứng bác bỏ giả thuyết H0\")\n",
        "  else:\n",
        "    print(f\"Vì giá trị p3 của nhóm thứ {i+1} không bé hơn mức ý nghĩa của bài toán ({np.round(p3, 2)} >= {alpha}). Vì vậy có bằng chứng bác bỏ giả thuyết H0\")\n",
        "\n",
        "print(\"-------------------------------------------------------------------------\")"
      ],
      "metadata": {
        "colab": {
          "base_uri": "https://localhost:8080/"
        },
        "id": "B6LGSwive5O7",
        "outputId": "9df8340d-c05f-49c1-aeab-3d8726e91ff9"
      },
      "execution_count": 41,
      "outputs": [
        {
          "output_type": "stream",
          "name": "stdout",
          "text": [
            "-------------------------------------------------------------------------\n",
            "Giá trị p3 của nhóm thứ 1 là: 0.24\n",
            "Vì giá trị p3 của nhóm thứ 1 không bé hơn mức ý nghĩa của bài toán (0.24 >= 0.05). Vì vậy có bằng chứng bác bỏ giả thuyết H0\n",
            "-------------------------------------------------------------------------\n",
            "Giá trị p3 của nhóm thứ 2 là: 0.75\n",
            "Vì giá trị p3 của nhóm thứ 2 không bé hơn mức ý nghĩa của bài toán (0.75 >= 0.05). Vì vậy có bằng chứng bác bỏ giả thuyết H0\n",
            "-------------------------------------------------------------------------\n",
            "Giá trị p3 của nhóm thứ 3 là: 0.32\n",
            "Vì giá trị p3 của nhóm thứ 3 không bé hơn mức ý nghĩa của bài toán (0.32 >= 0.05). Vì vậy có bằng chứng bác bỏ giả thuyết H0\n",
            "-------------------------------------------------------------------------\n",
            "Giá trị p3 của nhóm thứ 4 là: 0.6\n",
            "Vì giá trị p3 của nhóm thứ 4 không bé hơn mức ý nghĩa của bài toán (0.6 >= 0.05). Vì vậy có bằng chứng bác bỏ giả thuyết H0\n",
            "-------------------------------------------------------------------------\n"
          ]
        }
      ]
    },
    {
      "cell_type": "markdown",
      "source": [
        "### b) Kiểm định sự đồng nhất giữa phương sai các nhóm"
      ],
      "metadata": {
        "id": "rUQWXGFQfWBy"
      }
    },
    {
      "cell_type": "markdown",
      "source": [
        "> **Bước 2.b**: Phát biểu giả thuyết"
      ],
      "metadata": {
        "id": "GrQ57tHgMVXw"
      }
    },
    {
      "cell_type": "markdown",
      "source": [
        "Giả thuyết $H_0$:\n",
        "\n",
        "$$H_0: \\text{Không có sự khác biệt về phương sai của các nhóm}$$\n",
        "\n",
        "Giả thuyết $H_a$:\n",
        "\n",
        "$$H_a: \\text{Có sự khác biệt về phương sai của các nhóm}$$"
      ],
      "metadata": {
        "id": "yI2rLdvIfWlh"
      }
    },
    {
      "cell_type": "markdown",
      "source": [
        "> **Bước 3.b**: Tiến hành kiểm định và tính toán các đại lượng cần thiết\n"
      ],
      "metadata": {
        "id": "jt1EiIRSMZ_X"
      }
    },
    {
      "cell_type": "code",
      "source": [
        "# Khởi tạo biến stt3, p3 để lưu giá trị của stat3 value và p3 value\n",
        "stt3, p3 = st.levene(sample_converted_by_df3[0], sample_converted_by_df3[1], sample_converted_by_df3[2], sample_converted_by_df3[3])   \n",
        "\n",
        "# Xuất kết quả stat3 value, p3 value ra màn hình\n",
        "print(f\"Giá trị stat3: {np.round(stt3, 2)}\")\n",
        "print(f\"Giá trị p3: {np.round(p3, 5)}\")"
      ],
      "metadata": {
        "colab": {
          "base_uri": "https://localhost:8080/"
        },
        "id": "tutTNwxbfbfI",
        "outputId": "90ecd791-4ba8-4b73-eaaa-65abaa7566a7"
      },
      "execution_count": 43,
      "outputs": [
        {
          "output_type": "stream",
          "name": "stdout",
          "text": [
            "Giá trị stat3: 9.0\n",
            "Giá trị p3: 0.00019\n"
          ]
        }
      ]
    },
    {
      "cell_type": "markdown",
      "source": [
        "> **Bước 4.b**: Kết luận dựa trên kết quả kiểm định"
      ],
      "metadata": {
        "id": "T-ZAdP-oMsZA"
      }
    },
    {
      "cell_type": "code",
      "source": [
        "if (p3 < alpha):\n",
        "  print(f\"Vì giá trị p3  bé hơn mức ý nghĩa của bài toán ({np.round(p3, 5)} < {alpha}). Vì vậy không có bằng chứng bác bỏ giả thuyết H0\")\n",
        "else:\n",
        "  print(f\"Vì giá trị p3 không bé hơn mức ý nghĩa của bài toán ({np.round(p3, 5)} >= {alpha}). Vì vậy có bằng chứng bác bỏ giả thuyết H0\")"
      ],
      "metadata": {
        "colab": {
          "base_uri": "https://localhost:8080/"
        },
        "id": "3WFE_k0EMvlA",
        "outputId": "0a51c46b-e1b8-41d3-8364-39fa8dbce6c0"
      },
      "execution_count": 44,
      "outputs": [
        {
          "output_type": "stream",
          "name": "stdout",
          "text": [
            "Vì giá trị p3  bé hơn mức ý nghĩa của bài toán (0.00019 < 0.05). Vì vậy không có bằng chứng bác bỏ giả thuyết H0\n"
          ]
        }
      ]
    },
    {
      "cell_type": "markdown",
      "source": [
        "Vì các nhóm độc lập, tuân theo phân phối chuẩn và có sự đồng nhất về phương sai giữa các nhóm nên ta **có thể tiến hành kiểm định ANOVA**"
      ],
      "metadata": {
        "id": "izPFWV6YgHwu"
      }
    },
    {
      "cell_type": "markdown",
      "source": [
        "### TIẾN HÀNH PHÂN TÍCH ANOVA 1 CHIỀU"
      ],
      "metadata": {
        "id": "cV_SufEJNFN4"
      }
    },
    {
      "cell_type": "markdown",
      "source": [
        "> **Bước 1**: Lấy dữ liệu và tính toán các thông số cần thiết"
      ],
      "metadata": {
        "id": "fT4vQrg7NINJ"
      }
    },
    {
      "cell_type": "markdown",
      "source": [
        "*   Dữ liệu được sử dụng là sample_converted_by_df3 (Dữ liệu đã được xử lí từ owan03.csv)\n",
        "*   alpha = 0.05 là ý nghĩa của bài toán trong quá trình kiểm định"
      ],
      "metadata": {
        "id": "Wc1qwEujNKLX"
      }
    },
    {
      "cell_type": "markdown",
      "source": [
        "> **Bước 2**: Phát biểu giả thuyết"
      ],
      "metadata": {
        "id": "60HgOGA5NNkY"
      }
    },
    {
      "cell_type": "markdown",
      "source": [
        "Giả thuyết $H_0$:\n",
        "\n",
        "$$H_0: \\text{Không có sự khác biệt về trung bình độ tăng trưởng của các nhóm}$$\n",
        "\n",
        "Giả thuyết $H_a$:\n",
        "\n",
        "$$H_a: \\text{có sự khác biệt về trung bình độ tăng trưởng của các nhóm}$$"
      ],
      "metadata": {
        "id": "1-XWRf1cgJxa"
      }
    },
    {
      "cell_type": "markdown",
      "source": [
        "> **Bước 3**: Tiến hành kiểm định ANOVA 1 chiều"
      ],
      "metadata": {
        "id": "sjKpAfTaNToU"
      }
    },
    {
      "cell_type": "code",
      "source": [
        "# Khởi tạo 2 biến f3 và p3 dùng để lưu trữ giá trị f3 stat và p3 value\n",
        "f3, p3 = st.f_oneway(sample_converted_by_df3[0], sample_converted_by_df3[1], sample_converted_by_df3[2], sample_converted_by_df3[3])\n",
        "\n",
        "# Xuất giá trị p3 ra màn hình\n",
        "print(f\"Giá trị p3 khi tiến hành kiểm định: {np.round(p3, 20)}\")"
      ],
      "metadata": {
        "colab": {
          "base_uri": "https://localhost:8080/"
        },
        "id": "QUq86_Rcfl2O",
        "outputId": "c83a29de-744e-4257-8a4d-4fb417229ec1"
      },
      "execution_count": 49,
      "outputs": [
        {
          "output_type": "stream",
          "name": "stdout",
          "text": [
            "Giá trị p3 khi tiến hành kiểm định: 1.985e-17\n"
          ]
        }
      ]
    },
    {
      "cell_type": "markdown",
      "source": [
        "> **Bước 4**: Kết luận dựa trên kết quả kiểm định"
      ],
      "metadata": {
        "id": "zmG1OBZUNp35"
      }
    },
    {
      "cell_type": "code",
      "source": [
        "if (p3 < alpha):\n",
        "  print(f\"Vì giá trị p3  bé hơn mức ý nghĩa của bài toán ({np.round(p3, 20)} < {alpha}). Vì vậy không có bằng chứng bác bỏ giả thuyết H0\")\n",
        "else:\n",
        "  print(f\"Vì giá trị p3 không bé hơn mức ý nghĩa của bài toán ({np.round(p3, 20)} >= {alpha}). Vì vậy có bằng chứng bác bỏ giả thuyết H0\")"
      ],
      "metadata": {
        "colab": {
          "base_uri": "https://localhost:8080/"
        },
        "id": "O2CWZjbpNsTJ",
        "outputId": "70c91e1c-0bc6-4b80-82f9-28235281144d"
      },
      "execution_count": 50,
      "outputs": [
        {
          "output_type": "stream",
          "name": "stdout",
          "text": [
            "Vì giá trị p3  bé hơn mức ý nghĩa của bài toán (1.985e-17 < 0.05). Vì vậy không có bằng chứng bác bỏ giả thuyết H0\n"
          ]
        }
      ]
    },
    {
      "cell_type": "markdown",
      "source": [
        "## **PHÂN TÍCH ANOVA 1 CHIỀU VỚI TẬP DỮ LIỆU \"Business Startup Costs\"**"
      ],
      "metadata": {
        "id": "6UHitn8ig-Eg"
      }
    },
    {
      "cell_type": "markdown",
      "source": [
        "> **Bước 1**: Tiến hành lấy tập dữ liệu owan04.csv từ drive để tiến hành phân tích"
      ],
      "metadata": {
        "id": "L7CDUCd-OKkB"
      }
    },
    {
      "cell_type": "code",
      "source": [
        "df4 = pd.read_csv('/content/drive/MyDrive/Python/owan04.csv')\n",
        "print(f\"Dữ liệu của tập dữ liệu owan04.csv:\\n ----------------------------------\\n {df4}\")"
      ],
      "metadata": {
        "colab": {
          "base_uri": "https://localhost:8080/"
        },
        "id": "0ZCAXbHkgv-0",
        "outputId": "0856a8d5-e4b9-41a0-f630-d6ca0e6da686"
      },
      "execution_count": 51,
      "outputs": [
        {
          "output_type": "stream",
          "name": "stdout",
          "text": [
            "Dữ liệu của tập dữ liệu owan04.csv:\n",
            " ----------------------------------\n",
            "        X1     X2     X3     X4   X5\n",
            "0    80.0  150.0   48.0  100.0   25\n",
            "1   125.0   40.0   35.0   96.0   80\n",
            "2    35.0  120.0   95.0   35.0   30\n",
            "3    58.0   75.0   45.0   99.0   35\n",
            "4   110.0  160.0   75.0   75.0   30\n",
            "5   140.0   60.0  115.0  150.0   28\n",
            "6    97.0   45.0   42.0   45.0   20\n",
            "7    50.0  100.0   78.0  100.0   75\n",
            "8    65.0   86.0   65.0  120.0   48\n",
            "9    79.0   87.0  125.0   50.0   20\n",
            "10   35.0   90.0    NaN    NaN   50\n",
            "11   85.0    NaN    NaN    NaN   75\n",
            "12  120.0    NaN    NaN    NaN   55\n",
            "13    NaN    NaN    NaN    NaN   60\n",
            "14    NaN    NaN    NaN    NaN   85\n",
            "15    NaN    NaN    NaN    NaN  110\n"
          ]
        }
      ]
    },
    {
      "cell_type": "code",
      "source": [
        "# Khởi tạo giá trị alpha = 0.05 là ý nghĩa của quá trình kiểm định\n",
        "alpha = 0.05\n",
        "\n",
        "# Khởi tạo biến sample_converted_by_df4 dùng để lưu trữ dữ liệu của biến df khi được chuyển đổi sang dạng list và sàng lọc dữ liệu\n",
        "sample_converted_by_df4 = [list(df4[\"X1\"].dropna()), \n",
        "                           list(df4[\"X2\"].dropna()),\n",
        "                           list(df4[\"X3\"].dropna()),\n",
        "                           list(df4[\"X4\"].dropna()),\n",
        "                           list(df4[\"X5\"].dropna())]\n",
        "\n",
        "print(f\"Dữ liệu của tập dữ liệu owan04.csv khi được chuyển đổi và xử lí số liệu:\\n --------------------------------------------------------------------\\n {sample_converted_by_df4}\")"
      ],
      "metadata": {
        "colab": {
          "base_uri": "https://localhost:8080/"
        },
        "id": "UflN8vAxhu0y",
        "outputId": "054f289b-7607-41c4-ff24-47cea0f9051e"
      },
      "execution_count": 52,
      "outputs": [
        {
          "output_type": "stream",
          "name": "stdout",
          "text": [
            "Dữ liệu của tập dữ liệu owan04.csv khi được chuyển đổi và xử lí số liệu:\n",
            " --------------------------------------------------------------------\n",
            " [[80.0, 125.0, 35.0, 58.0, 110.0, 140.0, 97.0, 50.0, 65.0, 79.0, 35.0, 85.0, 120.0], [150.0, 40.0, 120.0, 75.0, 160.0, 60.0, 45.0, 100.0, 86.0, 87.0, 90.0], [48.0, 35.0, 95.0, 45.0, 75.0, 115.0, 42.0, 78.0, 65.0, 125.0], [100.0, 96.0, 35.0, 99.0, 75.0, 150.0, 45.0, 100.0, 120.0, 50.0], [25, 80, 30, 35, 30, 28, 20, 75, 48, 20, 50, 75, 55, 60, 85, 110]]\n"
          ]
        }
      ]
    },
    {
      "cell_type": "markdown",
      "source": [
        "### a) Kiểm định các nhóm có tuân theo phân phối chuẩn không"
      ],
      "metadata": {
        "id": "0UrLRZ0cg7OU"
      }
    },
    {
      "cell_type": "markdown",
      "source": [
        "> **Bước 2.a**: Phát biểu giả thuyết"
      ],
      "metadata": {
        "id": "kxbh7_FMOyTJ"
      }
    },
    {
      "cell_type": "markdown",
      "source": [
        "Giả thuyết $H_0$:\n",
        "\n",
        "$$H_0: \\text{Nhóm tuân theo phân phối chuẩn}$$\n",
        "\n",
        "Giả thuyết $H_a$:\n",
        "\n",
        "$$H_a: \\text{Nhóm không tuân theo phân phối chuẩn}$$"
      ],
      "metadata": {
        "id": "R1bPEIueO2Tk"
      }
    },
    {
      "cell_type": "markdown",
      "source": [
        "> **Bước 3.a**: Tiến hành kiểm định và tính toán các đại lượng cần thiết\n",
        "\n",
        "> **Bước 4.a**: Kết luận dựa trên kết quả kiểm định"
      ],
      "metadata": {
        "id": "AnJj7SCrO4Lo"
      }
    },
    {
      "cell_type": "code",
      "source": [
        "# Để kiểm định từng hàng, ta sử dụng vòng lặp for và so sánh giá trị p với mức ý nghĩa để tiến hành kiểm định\n",
        "for i in range(0, 5, 1):\n",
        "  p4 = st.shapiro(sample_converted_by_df4[i])[1]\n",
        "\n",
        "  # Phát biểu kết quả kiểm định từng nhóm\n",
        "  print(\"-------------------------------------------------------------------------\")\n",
        "  print(f\"Giá trị p4 của nhóm thứ {i+1} là: {np.round(p4, 2)}\")\n",
        "  if (p4 < alpha):\n",
        "    print(f\"Vì giá trị p4 của nhóm thứ {i+1} bé hơn mức ý nghĩa của bài toán ({np.round(p4, 2)} < {alpha}). Vì vậy không có bằng chứng bác bỏ giả thuyết H0\")\n",
        "  else:\n",
        "    print(f\"Vì giá trị p4 của nhóm thứ {i+1} không bé hơn mức ý nghĩa của bài toán ({np.round(p4, 2)} >= {alpha}). Vì vậy có bằng chứng bác bỏ giả thuyết H0\")\n",
        "\n",
        "print(\"-------------------------------------------------------------------------\")"
      ],
      "metadata": {
        "colab": {
          "base_uri": "https://localhost:8080/"
        },
        "id": "DLQ1tQGMiJpA",
        "outputId": "726dc944-651b-46f7-f1a9-18c7e6fc5580"
      },
      "execution_count": 54,
      "outputs": [
        {
          "output_type": "stream",
          "name": "stdout",
          "text": [
            "-------------------------------------------------------------------------\n",
            "Giá trị p4 của nhóm thứ 1 là: 0.74\n",
            "Vì giá trị p4 của nhóm thứ 1 không bé hơn mức ý nghĩa của bài toán (0.74 >= 0.05). Vì vậy có bằng chứng bác bỏ giả thuyết H0\n",
            "-------------------------------------------------------------------------\n",
            "Giá trị p4 của nhóm thứ 2 là: 0.56\n",
            "Vì giá trị p4 của nhóm thứ 2 không bé hơn mức ý nghĩa của bài toán (0.56 >= 0.05). Vì vậy có bằng chứng bác bỏ giả thuyết H0\n",
            "-------------------------------------------------------------------------\n",
            "Giá trị p4 của nhóm thứ 3 là: 0.39\n",
            "Vì giá trị p4 của nhóm thứ 3 không bé hơn mức ý nghĩa của bài toán (0.39 >= 0.05). Vì vậy có bằng chứng bác bỏ giả thuyết H0\n",
            "-------------------------------------------------------------------------\n",
            "Giá trị p4 của nhóm thứ 4 là: 0.58\n",
            "Vì giá trị p4 của nhóm thứ 4 không bé hơn mức ý nghĩa của bài toán (0.58 >= 0.05). Vì vậy có bằng chứng bác bỏ giả thuyết H0\n",
            "-------------------------------------------------------------------------\n",
            "Giá trị p4 của nhóm thứ 5 là: 0.17\n",
            "Vì giá trị p4 của nhóm thứ 5 không bé hơn mức ý nghĩa của bài toán (0.17 >= 0.05). Vì vậy có bằng chứng bác bỏ giả thuyết H0\n",
            "-------------------------------------------------------------------------\n"
          ]
        }
      ]
    },
    {
      "cell_type": "markdown",
      "source": [
        "### b) Kiểm định sự đồng nhất giữa phương sai các nhóm"
      ],
      "metadata": {
        "id": "p_EKlDV4iQGc"
      }
    },
    {
      "cell_type": "markdown",
      "source": [
        "> **Bước 2.b**: Phát biểu giả thuyết"
      ],
      "metadata": {
        "id": "bCR78zygPhmx"
      }
    },
    {
      "cell_type": "markdown",
      "source": [
        "Giả thuyết $H_0$:\n",
        "\n",
        "$$H_0: \\text{Không có sự khác biệt về phương sai của các nhóm}$$\n",
        "\n",
        "Giả thuyết $H_a$:\n",
        "\n",
        "$$H_a: \\text{Có sự khác biệt về phương sai của các nhóm}$$"
      ],
      "metadata": {
        "id": "ta01W9rCPjYx"
      }
    },
    {
      "cell_type": "markdown",
      "source": [
        "> **Bước 3.b**: Tiến hành kiểm định và tính toán các đại lượng cần thiết\n"
      ],
      "metadata": {
        "id": "z17WK1l1PldH"
      }
    },
    {
      "cell_type": "code",
      "source": [
        "# Khởi tạo biến stt4, p4 để lưu giá trị của stat4 value và p4 value\n",
        "stt4, p4 = st.levene(sample_converted_by_df4[0], sample_converted_by_df4[1], sample_converted_by_df4[2], sample_converted_by_df4[3], sample_converted_by_df4[4])   \n",
        "\n",
        "# Xuất kết quả stat4 value, p4 value ra màn hình\n",
        "print(f\"Giá trị stat4: {np.round(stt4, 2)}\")\n",
        "print(f\"Giá trị p4: {np.round(p4, 2)}\")"
      ],
      "metadata": {
        "colab": {
          "base_uri": "https://localhost:8080/"
        },
        "id": "J2lAphJciXmc",
        "outputId": "f9073257-2f28-4e5a-89dc-18a9b22559b2"
      },
      "execution_count": 56,
      "outputs": [
        {
          "output_type": "stream",
          "name": "stdout",
          "text": [
            "Giá trị stat4: 0.21\n",
            "Giá trị p4: 0.93\n"
          ]
        }
      ]
    },
    {
      "cell_type": "markdown",
      "source": [
        "> **Bước 4.b**: Kết luận dựa trên kết quả kiểm định"
      ],
      "metadata": {
        "id": "ZHNwHk1CP__0"
      }
    },
    {
      "cell_type": "code",
      "source": [
        "if (p4 < alpha):\n",
        "  print(f\"Vì giá trị p4  bé hơn mức ý nghĩa của bài toán ({np.round(p4, 2)} < {alpha}). Vì vậy không có bằng chứng bác bỏ giả thuyết H0\")\n",
        "else:\n",
        "  print(f\"Vì giá trị p4 không bé hơn mức ý nghĩa của bài toán ({np.round(p4, 2)} >= {alpha}). Vì vậy có bằng chứng bác bỏ giả thuyết H0\")"
      ],
      "metadata": {
        "colab": {
          "base_uri": "https://localhost:8080/"
        },
        "id": "uSNwOoyyQFpW",
        "outputId": "a7900d08-ba15-443d-8521-e66feb4844d7"
      },
      "execution_count": 58,
      "outputs": [
        {
          "output_type": "stream",
          "name": "stdout",
          "text": [
            "Vì giá trị p4 không bé hơn mức ý nghĩa của bài toán (0.93 >= 0.05). Vì vậy có bằng chứng bác bỏ giả thuyết H0\n"
          ]
        }
      ]
    },
    {
      "cell_type": "markdown",
      "source": [
        "Vì các nhóm độc lập, tuân theo phân phối chuẩn và có sự đồng nhất về phương sai giữa các nhóm nên ta **có thể tiến hành kiểm định ANOVA**"
      ],
      "metadata": {
        "id": "rK39HwsLiivw"
      }
    },
    {
      "cell_type": "markdown",
      "source": [
        "### TIẾN HÀNH PHÂN TÍCH ANOVA 1 CHIỀU"
      ],
      "metadata": {
        "id": "RIPOIHZjSaaK"
      }
    },
    {
      "cell_type": "markdown",
      "source": [
        "> **Bước 1**: Lấy dữ liệu và tính toán các thông số cần thiết"
      ],
      "metadata": {
        "id": "Jl1QcW0qScIX"
      }
    },
    {
      "cell_type": "markdown",
      "source": [
        "*   Dữ liệu được sử dụng là sample_converted_by_df4 (Dữ liệu đã được xử lí từ owan04.csv)\n",
        "*   alpha = 0.05 là ý nghĩa của bài toán trong quá trình kiểm định"
      ],
      "metadata": {
        "id": "g8uGttBqSeGx"
      }
    },
    {
      "cell_type": "markdown",
      "source": [
        "> **Bước 2**: Phát biểu giả thuyết"
      ],
      "metadata": {
        "id": "ItogKAjkSiqP"
      }
    },
    {
      "cell_type": "markdown",
      "source": [
        "Giả thuyết $H_0$:\n",
        "\n",
        "$$H_0: \\text{Không có sự khác biệt về trung bình độ tăng trưởng của các nhóm}$$\n",
        "\n",
        "Giả thuyết $H_a$:\n",
        "\n",
        "$$H_a: \\text{có sự khác biệt về trung bình độ tăng trưởng của các nhóm}$$"
      ],
      "metadata": {
        "id": "J9TvNytYSqJw"
      }
    },
    {
      "cell_type": "markdown",
      "source": [
        "> **Bước 3**: Tiến hành kiểm định ANOVA 1 chiều"
      ],
      "metadata": {
        "id": "2a4CtyFkStfY"
      }
    },
    {
      "cell_type": "code",
      "source": [
        "# Khởi tạo 2 biến f4 và p4 dùng để lưu trữ giá trị f4 stat và p4 value\n",
        "f4, p4 = st.f_oneway(sample_converted_by_df4[0], sample_converted_by_df4[1], sample_converted_by_df4[2], sample_converted_by_df4[3], sample_converted_by_df4[4])\n",
        "\n",
        "# Xuất giá trị p4 ra màn hình\n",
        "print(f\"Giá trị p4 khi tiến hành kiểm định: {np.round(p4, 2)}\")"
      ],
      "metadata": {
        "colab": {
          "base_uri": "https://localhost:8080/"
        },
        "id": "8Haxk1BCSv5b",
        "outputId": "48aa7b5d-fbd0-4706-9896-bd2efc4ce0e7"
      },
      "execution_count": 60,
      "outputs": [
        {
          "output_type": "stream",
          "name": "stdout",
          "text": [
            "Giá trị p4 khi tiến hành kiểm định: 0.02\n"
          ]
        }
      ]
    },
    {
      "cell_type": "markdown",
      "source": [
        "> **Bước 4**: Kết luận dựa trên kết quả kiểm định"
      ],
      "metadata": {
        "id": "GZkVT4FLS-gR"
      }
    },
    {
      "cell_type": "code",
      "source": [
        "if (p4 < alpha):\n",
        "  print(f\"Vì giá trị p4  bé hơn mức ý nghĩa của bài toán ({np.round(p4, 2)} < {alpha}). Vì vậy không có bằng chứng bác bỏ giả thuyết H0\")\n",
        "else:\n",
        "  print(f\"Vì giá trị p4 không bé hơn mức ý nghĩa của bài toán ({np.round(p4, 2)} >= {alpha}). Vì vậy có bằng chứng bác bỏ giả thuyết H0\")"
      ],
      "metadata": {
        "colab": {
          "base_uri": "https://localhost:8080/"
        },
        "id": "dTiY4-6pTH0S",
        "outputId": "03be828a-f394-412e-e9fb-cd6e420e9253"
      },
      "execution_count": 61,
      "outputs": [
        {
          "output_type": "stream",
          "name": "stdout",
          "text": [
            "Vì giá trị p4  bé hơn mức ý nghĩa của bài toán (0.02 < 0.05). Vì vậy không có bằng chứng bác bỏ giả thuyết H0\n"
          ]
        }
      ]
    },
    {
      "cell_type": "markdown",
      "source": [
        "## **PHÂN TÍCH ANOVA 1 CHIỀU VỚI TẬP DỮ LIỆU \"Weights of Football Players\"**"
      ],
      "metadata": {
        "id": "vTJ4OaBhjDjk"
      }
    },
    {
      "cell_type": "markdown",
      "source": [
        "> **Bước 1**: Tiến hành lấy tập dữ liệu owan04.csv từ drive để tiến hành phân tích"
      ],
      "metadata": {
        "id": "vXmo1LrLToEU"
      }
    },
    {
      "cell_type": "code",
      "source": [
        "df5 = pd.read_csv('/content/drive/MyDrive/Python/owan05.csv')\n",
        "print(f\"Dữ liệu của tập dữ liệu owan05.csv:\\n ----------------------------------\\n {df5}\")"
      ],
      "metadata": {
        "colab": {
          "base_uri": "https://localhost:8080/"
        },
        "id": "2ra0aJbJi5l-",
        "outputId": "8aad8ee9-a6c7-4c67-dcd8-9527a42849c6"
      },
      "execution_count": 62,
      "outputs": [
        {
          "output_type": "stream",
          "name": "stdout",
          "text": [
            "Dữ liệu của tập dữ liệu owan05.csv:\n",
            " ----------------------------------\n",
            "      X1   X2   X3   X4   X5\n",
            "0   250  260  270  260  247\n",
            "1   255  271  250  255  249\n",
            "2   255  258  281  265  255\n",
            "3   264  263  273  257  247\n",
            "4   250  267  257  268  244\n",
            "5   265  254  264  263  245\n",
            "6   245  255  233  247  249\n",
            "7   252  250  254  253  260\n",
            "8   266  248  268  251  217\n",
            "9   246  240  252  252  208\n",
            "10  251  254  256  266  228\n",
            "11  263  275  265  264  253\n",
            "12  248  270  252  210  249\n",
            "13  228  225  256  236  223\n",
            "14  221  222  235  225  221\n",
            "15  223  230  216  230  228\n",
            "16  220  225  241  232  271\n"
          ]
        }
      ]
    },
    {
      "cell_type": "code",
      "source": [
        "# Khởi tạo giá trị alpha = 0.05 là ý nghĩa của quá trình kiểm định\n",
        "alpha = 0.05\n",
        "\n",
        "# Khởi tạo biến sample_converted_by_df5 dùng để lưu trữ dữ liệu của biến df khi được chuyển đổi sang dạng list và sàng lọc dữ liệu\n",
        "sample_converted_by_df5 = [list(df5[\"X1\"].dropna()), \n",
        "                           list(df5[\"X2\"].dropna()),\n",
        "                           list(df5[\"X3\"].dropna()),\n",
        "                           list(df5[\"X4\"].dropna()),\n",
        "                           list(df5[\"X5\"].dropna())]\n",
        "\n",
        "print(f\"Dữ liệu của tập dữ liệu owan05.csv khi được chuyển đổi và xử lí số liệu:\\n --------------------------------------------------------------------\\n {sample_converted_by_df5}\")"
      ],
      "metadata": {
        "colab": {
          "base_uri": "https://localhost:8080/"
        },
        "id": "ghm-ODSUjUmH",
        "outputId": "cd27aa86-69da-4864-e836-8af5afd4f6c7"
      },
      "execution_count": 64,
      "outputs": [
        {
          "output_type": "stream",
          "name": "stdout",
          "text": [
            "Dữ liệu của tập dữ liệu owan05.csv khi được chuyển đổi và xử lí số liệu:\n",
            " --------------------------------------------------------------------\n",
            " [[250, 255, 255, 264, 250, 265, 245, 252, 266, 246, 251, 263, 248, 228, 221, 223, 220], [260, 271, 258, 263, 267, 254, 255, 250, 248, 240, 254, 275, 270, 225, 222, 230, 225], [270, 250, 281, 273, 257, 264, 233, 254, 268, 252, 256, 265, 252, 256, 235, 216, 241], [260, 255, 265, 257, 268, 263, 247, 253, 251, 252, 266, 264, 210, 236, 225, 230, 232], [247, 249, 255, 247, 244, 245, 249, 260, 217, 208, 228, 253, 249, 223, 221, 228, 271]]\n"
          ]
        }
      ]
    },
    {
      "cell_type": "markdown",
      "source": [
        "### a) Kiểm định các nhóm có tuân theo phân phối chuẩn không"
      ],
      "metadata": {
        "id": "8RC9fd8AjeV5"
      }
    },
    {
      "cell_type": "markdown",
      "source": [
        "> **Bước 2.a**: Phát biểu giả thuyết"
      ],
      "metadata": {
        "id": "ebizkNzET_wu"
      }
    },
    {
      "cell_type": "markdown",
      "source": [
        "Giả thuyết $H_0$:\n",
        "\n",
        "$$H_0: \\text{Nhóm tuân theo phân phối chuẩn}$$\n",
        "\n",
        "Giả thuyết $H_a$:\n",
        "\n",
        "$$H_a: \\text{Nhóm không tuân theo phân phối chuẩn}$$"
      ],
      "metadata": {
        "id": "xyZj7JOFUFCP"
      }
    },
    {
      "cell_type": "markdown",
      "source": [
        "> **Bước 3.a**: Tiến hành kiểm định và tính toán các đại lượng cần thiết\n",
        "\n",
        "> **Bước 4.a**: Kết luận dựa trên kết quả kiểm định"
      ],
      "metadata": {
        "id": "YqjE2GFXUHxS"
      }
    },
    {
      "cell_type": "code",
      "source": [
        "# Để kiểm định từng hàng, ta sử dụng vòng lặp for và so sánh giá trị p với mức ý nghĩa để tiến hành kiểm định\n",
        "for i in range(0, 5, 1):\n",
        "  p5 = st.shapiro(sample_converted_by_df5[i])[1]\n",
        "\n",
        "  # Phát biểu kết quả kiểm định từng nhóm\n",
        "  print(\"-------------------------------------------------------------------------\")\n",
        "  print(f\"Giá trị p5 của nhóm thứ {i+1} là: {np.round(p5, 2)}\")\n",
        "  if (p5 < alpha):\n",
        "    print(f\"Vì giá trị p5 của nhóm thứ {i+1} bé hơn mức ý nghĩa của bài toán ({np.round(p5, 2)} < {alpha}). Vì vậy không có bằng chứng bác bỏ giả thuyết H0\")\n",
        "  else:\n",
        "    print(f\"Vì giá trị p5 của nhóm thứ {i+1} không bé hơn mức ý nghĩa của bài toán ({np.round(p5, 2)} >= {alpha}). Vì vậy có bằng chứng bác bỏ giả thuyết H0\")\n",
        "\n",
        "print(\"-------------------------------------------------------------------------\")"
      ],
      "metadata": {
        "colab": {
          "base_uri": "https://localhost:8080/"
        },
        "id": "DkAf4-hVjcpE",
        "outputId": "f24bae6c-da21-42d1-fdec-ffadcbe4301f"
      },
      "execution_count": 65,
      "outputs": [
        {
          "output_type": "stream",
          "name": "stdout",
          "text": [
            "-------------------------------------------------------------------------\n",
            "Giá trị p5 của nhóm thứ 1 là: 0.03\n",
            "Vì giá trị p5 của nhóm thứ 1 bé hơn mức ý nghĩa của bài toán (0.03 < 0.05). Vì vậy không có bằng chứng bác bỏ giả thuyết H0\n",
            "-------------------------------------------------------------------------\n",
            "Giá trị p5 của nhóm thứ 2 là: 0.16\n",
            "Vì giá trị p5 của nhóm thứ 2 không bé hơn mức ý nghĩa của bài toán (0.16 >= 0.05). Vì vậy có bằng chứng bác bỏ giả thuyết H0\n",
            "-------------------------------------------------------------------------\n",
            "Giá trị p5 của nhóm thứ 3 là: 0.66\n",
            "Vì giá trị p5 của nhóm thứ 3 không bé hơn mức ý nghĩa của bài toán (0.66 >= 0.05). Vì vậy có bằng chứng bác bỏ giả thuyết H0\n",
            "-------------------------------------------------------------------------\n",
            "Giá trị p5 của nhóm thứ 4 là: 0.07\n",
            "Vì giá trị p5 của nhóm thứ 4 không bé hơn mức ý nghĩa của bài toán (0.07 >= 0.05). Vì vậy có bằng chứng bác bỏ giả thuyết H0\n",
            "-------------------------------------------------------------------------\n",
            "Giá trị p5 của nhóm thứ 5 là: 0.34\n",
            "Vì giá trị p5 của nhóm thứ 5 không bé hơn mức ý nghĩa của bài toán (0.34 >= 0.05). Vì vậy có bằng chứng bác bỏ giả thuyết H0\n",
            "-------------------------------------------------------------------------\n"
          ]
        }
      ]
    },
    {
      "cell_type": "markdown",
      "source": [
        "### b) Kiểm định sự đồng nhất giữa phương sai các nhóm"
      ],
      "metadata": {
        "id": "DWtJbEf5jonP"
      }
    },
    {
      "cell_type": "markdown",
      "source": [
        "> **Bước 2.b**: Phát biểu giả thuyết"
      ],
      "metadata": {
        "id": "nm6x5PD1UdRY"
      }
    },
    {
      "cell_type": "markdown",
      "source": [
        "Giả thuyết $H_0$:\n",
        "\n",
        "$$H_0: \\text{Không có sự khác biệt về phương sai của các nhóm}$$\n",
        "\n",
        "Giả thuyết $H_a$:\n",
        "\n",
        "$$H_a: \\text{Có sự khác biệt về phương sai của các nhóm}$$"
      ],
      "metadata": {
        "id": "ter92prJUfeh"
      }
    },
    {
      "cell_type": "markdown",
      "source": [
        "> **Bước 3.b**: Tiến hành kiểm định và tính toán các đại lượng cần thiết\n"
      ],
      "metadata": {
        "id": "O2fQZ2fPUhaA"
      }
    },
    {
      "cell_type": "code",
      "source": [
        "# Khởi tạo biến stt5, p5 để lưu giá trị của stat5 value và p5 value\n",
        "stt5, p5 = st.levene(sample_converted_by_df5[0], sample_converted_by_df5[1], sample_converted_by_df5[2], sample_converted_by_df5[3], sample_converted_by_df5[4])   \n",
        "\n",
        "# Xuất kết quả stat5 value, p5 value ra màn hình\n",
        "print(f\"Giá trị stat5: {np.round(stt5, 2)}\")\n",
        "print(f\"Giá trị p5: {np.round(p5, 2)}\")"
      ],
      "metadata": {
        "colab": {
          "base_uri": "https://localhost:8080/"
        },
        "id": "0hcgJbC_joV-",
        "outputId": "210fff16-03b8-4737-fce5-7f0b9129571f"
      },
      "execution_count": 66,
      "outputs": [
        {
          "output_type": "stream",
          "name": "stdout",
          "text": [
            "Giá trị stat5: 0.1\n",
            "Giá trị p5: 0.98\n"
          ]
        }
      ]
    },
    {
      "cell_type": "markdown",
      "source": [
        "> **Bước 4.b**: Kết luận dựa trên kết quả kiểm định"
      ],
      "metadata": {
        "id": "RtEoJVcEU1mC"
      }
    },
    {
      "cell_type": "code",
      "source": [
        "if (p5 < alpha):\n",
        "  print(f\"Vì giá trị p5  bé hơn mức ý nghĩa của bài toán ({np.round(p5, 2)} < {alpha}). Vì vậy không có bằng chứng bác bỏ giả thuyết H0\")\n",
        "else:\n",
        "  print(f\"Vì giá trị p5 không bé hơn mức ý nghĩa của bài toán ({np.round(p5, 2)} >= {alpha}). Vì vậy có bằng chứng bác bỏ giả thuyết H0\")"
      ],
      "metadata": {
        "colab": {
          "base_uri": "https://localhost:8080/"
        },
        "id": "cGVppFtJU5UI",
        "outputId": "13c7c8d7-3b56-4e22-b409-cfddc36016cd"
      },
      "execution_count": 67,
      "outputs": [
        {
          "output_type": "stream",
          "name": "stdout",
          "text": [
            "Vì giá trị p5 không bé hơn mức ý nghĩa của bài toán (0.98 >= 0.05). Vì vậy có bằng chứng bác bỏ giả thuyết H0\n"
          ]
        }
      ]
    },
    {
      "cell_type": "markdown",
      "source": [
        "Vì các nhóm độc lập, tuân theo phân phối chuẩn và có sự đồng nhất về phương sai giữa các nhóm nên ta **có thể tiến hành kiểm định ANOVA**"
      ],
      "metadata": {
        "id": "H_0nIx_Kj3EG"
      }
    },
    {
      "cell_type": "markdown",
      "source": [
        "### TIẾN HÀNH PHÂN TÍCH ANOVA 1 CHIỀU"
      ],
      "metadata": {
        "id": "DyULVGnyVIWX"
      }
    },
    {
      "cell_type": "markdown",
      "source": [
        "> **Bước 1**: Lấy dữ liệu và tính toán các thông số cần thiết"
      ],
      "metadata": {
        "id": "nIFPrgg4VRQB"
      }
    },
    {
      "cell_type": "markdown",
      "source": [
        "*   Dữ liệu được sử dụng là sample_converted_by_df5 (Dữ liệu đã được xử lí từ owan05.csv)\n",
        "*   alpha = 0.05 là ý nghĩa của bài toán trong quá trình kiểm định"
      ],
      "metadata": {
        "id": "JrE2Pfz9VTn5"
      }
    },
    {
      "cell_type": "markdown",
      "source": [
        "> **Bước 2**: Phát biểu giả thuyết"
      ],
      "metadata": {
        "id": "2k8HiatKVWwE"
      }
    },
    {
      "cell_type": "markdown",
      "source": [
        "Giả thuyết $H_0$:\n",
        "\n",
        "$$H_0: \\text{Không có sự khác biệt về trung bình độ tăng trưởng của các nhóm}$$\n",
        "\n",
        "Giả thuyết $H_a$:\n",
        "\n",
        "$$H_a: \\text{có sự khác biệt về trung bình độ tăng trưởng của các nhóm}$$"
      ],
      "metadata": {
        "id": "IyCMcAtwVYq5"
      }
    },
    {
      "cell_type": "markdown",
      "source": [
        "> **Bước 3**: Tiến hành kiểm định ANOVA 1 chiều"
      ],
      "metadata": {
        "id": "zGNcZWaeVcbB"
      }
    },
    {
      "cell_type": "code",
      "source": [
        "# Khởi tạo 2 biến f5 và p5 dùng để lưu trữ giá trị f5 stat và p5 value\n",
        "f5, p5 = st.f_oneway(sample_converted_by_df5[0], sample_converted_by_df5[1], sample_converted_by_df5[2], sample_converted_by_df5[3], sample_converted_by_df5[4])\n",
        "\n",
        "# Xuất giá trị p5 ra màn hình\n",
        "print(f\"Giá trị p5 khi tiến hành kiểm định: {np.round(p5, 2)}\")"
      ],
      "metadata": {
        "colab": {
          "base_uri": "https://localhost:8080/"
        },
        "id": "N_puCI-qj2w1",
        "outputId": "86b9e070-d162-4170-8dc8-244b5758021f"
      },
      "execution_count": 68,
      "outputs": [
        {
          "output_type": "stream",
          "name": "stdout",
          "text": [
            "Giá trị p5 khi tiến hành kiểm định: 0.19\n"
          ]
        }
      ]
    },
    {
      "cell_type": "markdown",
      "source": [
        "> **Bước 4**: Kết luận dựa trên kết quả kiểm định"
      ],
      "metadata": {
        "id": "VBnZaLnXVp9a"
      }
    },
    {
      "cell_type": "code",
      "source": [
        "if (p5 < alpha):\n",
        "  print(f\"Vì giá trị p5  bé hơn mức ý nghĩa của bài toán ({np.round(p5, 2)} < {alpha}). Vì vậy không có bằng chứng bác bỏ giả thuyết H0\")\n",
        "else:\n",
        "  print(f\"Vì giá trị p5 không bé hơn mức ý nghĩa của bài toán ({np.round(p5, 2)} >= {alpha}). Vì vậy có bằng chứng bác bỏ giả thuyết H0\")"
      ],
      "metadata": {
        "colab": {
          "base_uri": "https://localhost:8080/"
        },
        "id": "cglZLZZXVsp7",
        "outputId": "094339de-d852-45e2-f423-d43734129603"
      },
      "execution_count": 69,
      "outputs": [
        {
          "output_type": "stream",
          "name": "stdout",
          "text": [
            "Vì giá trị p5 không bé hơn mức ý nghĩa của bài toán (0.19 >= 0.05). Vì vậy có bằng chứng bác bỏ giả thuyết H0\n"
          ]
        }
      ]
    }
  ],
  "metadata": {
    "kernelspec": {
      "display_name": "Python 3",
      "language": "python",
      "name": "python3"
    },
    "language_info": {
      "codemirror_mode": {
        "name": "ipython",
        "version": 3
      },
      "file_extension": ".py",
      "mimetype": "text/x-python",
      "name": "python",
      "nbconvert_exporter": "python",
      "pygments_lexer": "ipython3",
      "version": "3.7.3"
    },
    "colab": {
      "name": "THỰC HÀNH PHÂN TÍCH ANOVA 1 CHIỀU",
      "provenance": [],
      "include_colab_link": true
    }
  },
  "nbformat": 4,
  "nbformat_minor": 0
}