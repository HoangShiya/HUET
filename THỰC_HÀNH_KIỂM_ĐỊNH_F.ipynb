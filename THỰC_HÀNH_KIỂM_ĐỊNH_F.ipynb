{
  "cells": [
    {
      "cell_type": "markdown",
      "metadata": {
        "id": "view-in-github",
        "colab_type": "text"
      },
      "source": [
        "<a href=\"https://colab.research.google.com/github/HoangShiya/HUET/blob/main/TH%E1%BB%B0C_H%C3%80NH_KI%E1%BB%82M_%C4%90%E1%BB%8ANH_F.ipynb\" target=\"_parent\"><img src=\"https://colab.research.google.com/assets/colab-badge.svg\" alt=\"Open In Colab\"/></a>"
      ]
    },
    {
      "cell_type": "markdown",
      "metadata": {
        "id": "u2gWsE2vG1n2"
      },
      "source": [
        "#  **THỰC HÀNH KIỂM ĐỊNH F**"
      ]
    },
    {
      "cell_type": "markdown",
      "source": [
        "***Đề bài***: Thống kê về số lượng nhân sự ở các phòng của 2 công ty con như sau:\n",
        "\n",
        "*Công ty 1*:\n",
        "18, 19, 22, 25, 27, 28, 41, 45, 51, 55\n",
        "\n",
        "*Công ty 2*: \n",
        "14, 15, 15, 17,1 8, 22, 25, 25, 27, 34\n",
        "\n",
        "Sử dụng kiểm định F để xác định xem 2 công ty với các mẫu ở trên có phương sai tương đương nhau hay không?\n",
        "\n",
        "\n",
        "---\n",
        "\n",
        "\n"
      ],
      "metadata": {
        "id": "fqUJ7FuTY3Pf"
      }
    },
    {
      "cell_type": "markdown",
      "source": [
        "Sử dụng các thư viện cần thiết"
      ],
      "metadata": {
        "id": "q4DCh0qyZ_7x"
      }
    },
    {
      "cell_type": "code",
      "execution_count": 6,
      "metadata": {
        "id": "xWihUqpNG1n3"
      },
      "outputs": [],
      "source": [
        "import numpy as np\n",
        "import pandas as pd\n",
        "import random\n",
        "import scipy\n",
        "from scipy import stats\n",
        "from statsmodels.stats.weightstats import ztest\n",
        "import warnings\n",
        "import matplotlib.pyplot as plt\n",
        "import seaborn as sns\n",
        "%matplotlib inline"
      ]
    },
    {
      "cell_type": "markdown",
      "source": [
        "**B1**: Lấy mẫu và tính toán các thông số cần thiết"
      ],
      "metadata": {
        "id": "EpdvFvC3aXNp"
      }
    },
    {
      "cell_type": "code",
      "source": [
        "samples_1 = [18, 19, 22, 25, 27, 28, 41, 45, 51, 55]\n",
        "samples_2 = [14, 15, 15, 17, 18, 22, 25, 25, 27, 34]"
      ],
      "metadata": {
        "id": "3Cs1CppGagIi"
      },
      "execution_count": 3,
      "outputs": []
    },
    {
      "cell_type": "markdown",
      "metadata": {
        "id": "wm451JJ9G1n9"
      },
      "source": [
        "**B2**: Phát biểu giả thuyết\n",
        "\n",
        "*Giả thuyết không*: Các phương sai tổng thể bằng nhau\n",
        "$$H_{0}: \\sigma_{1}^{2} = \\sigma_{2}^{2}$$\n",
        "*Giả thuyết thay thế*: Các phương sai tổng thể không bằng nhau\n",
        "$$H_{a}: \\sigma_{1}^{2} \\neq \\sigma_{2}^{2}$$"
      ]
    },
    {
      "cell_type": "markdown",
      "source": [
        "**B3**: Tiến hành kiểm định F"
      ],
      "metadata": {
        "id": "AQrKCJFwb7lS"
      }
    },
    {
      "cell_type": "code",
      "execution_count": 12,
      "metadata": {
        "id": "e_SiEEDnG1n-",
        "outputId": "c9f2602f-6c61-4a0b-de37-d8d67d94dd15",
        "colab": {
          "base_uri": "https://localhost:8080/"
        }
      },
      "outputs": [
        {
          "output_type": "stream",
          "name": "stdout",
          "text": [
            "Giá trị f test: 4.387\n",
            "Giá trị p: 0.019\n"
          ]
        }
      ],
      "source": [
        "'''\n",
        "*\n",
        "*\n",
        "*\n",
        "Name of function: f_test\n",
        "@param: sample_1, sample_2\n",
        "@return: f test, p value\n",
        "*\n",
        "'''\n",
        "def f_test(input_1, input_2):\n",
        "  arr_1 = np.array(input_1)\n",
        "  arr_2 = np.array(input_2)\n",
        "\n",
        "  # Tính toán chỉ số f test\n",
        "  f = np.round(np.var(arr_1, ddof = 1) / np.var(arr_2, ddof = 1), 3)\n",
        "\n",
        "  # Xác định tử số bậc tự do\n",
        "  dfn = arr_1.size - 1\n",
        "  dfd = arr_2.size - 1\n",
        "\n",
        "  # Tính giá trị p từ  f test\n",
        "  p = np.round(1 - scipy.stats.f.cdf(f, dfn, dfd), 3)\n",
        "  print(f\"Giá trị f test: {f}\")\n",
        "  print(f\"Giá trị p: {p}\")\n",
        "  return f, p\n",
        "\n",
        "\n",
        "# Gọi hàm f_test\n",
        "f, p_value = f_test(samples_1, samples_2)"
      ]
    },
    {
      "cell_type": "markdown",
      "source": [
        "**B4**: Kết luận dựa trên kết quả kiểm định"
      ],
      "metadata": {
        "id": "WqchzGhmfXtW"
      }
    },
    {
      "cell_type": "code",
      "execution_count": 15,
      "metadata": {
        "id": "jIpUnFfKG1n-",
        "outputId": "4e2425a6-327b-400d-8472-33c91c0b6799",
        "colab": {
          "base_uri": "https://localhost:8080/"
        }
      },
      "outputs": [
        {
          "output_type": "stream",
          "name": "stdout",
          "text": [
            "Vì giá trị p bé hơn 0.05 (0.019 < 0.05). Vì vậy ta có bằng chứng để bác bỏ giả thuyết H0\n"
          ]
        }
      ],
      "source": [
        "alpha = 0.05\n",
        "if (p_value <  alpha):\n",
        "  print(f\"Vì giá trị p bé hơn 0.05 ({p_value} < {alpha}). Vì vậy ta có bằng chứng để bác bỏ giả thuyết H0\")\n",
        "else:\n",
        "  print(f\"Vì giá trị p không bé hơn 0.05 ({p_value} >= {alpha}). Vì vậy ta Chưa có bằng chứng để bác bỏ giả thuyết H0\")"
      ]
    }
  ],
  "metadata": {
    "kernelspec": {
      "display_name": "Python 3",
      "language": "python",
      "name": "python3"
    },
    "language_info": {
      "codemirror_mode": {
        "name": "ipython",
        "version": 3
      },
      "file_extension": ".py",
      "mimetype": "text/x-python",
      "name": "python",
      "nbconvert_exporter": "python",
      "pygments_lexer": "ipython3",
      "version": "3.7.3"
    },
    "colab": {
      "name": "THỰC HÀNH KIỂM ĐỊNH F",
      "provenance": [],
      "include_colab_link": true
    }
  },
  "nbformat": 4,
  "nbformat_minor": 0
}