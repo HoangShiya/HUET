{
  "nbformat": 4,
  "nbformat_minor": 0,
  "metadata": {
    "colab": {
      "name": "numpy2.ipynb",
      "provenance": [],
      "collapsed_sections": [],
      "authorship_tag": "ABX9TyNDpN4UuhpC9ih/YCkQEiu5",
      "include_colab_link": true
    },
    "kernelspec": {
      "name": "python3",
      "display_name": "Python 3"
    },
    "language_info": {
      "name": "python"
    }
  },
  "cells": [
    {
      "cell_type": "markdown",
      "metadata": {
        "id": "view-in-github",
        "colab_type": "text"
      },
      "source": [
        "<a href=\"https://colab.research.google.com/github/HoangShiya/HUET/blob/main/numpy2.ipynb\" target=\"_parent\"><img src=\"https://colab.research.google.com/assets/colab-badge.svg\" alt=\"Open In Colab\"/></a>"
      ]
    },
    {
      "cell_type": "markdown",
      "source": [
        "**Bài 1 - Ma trận**: Trong toán học, ma trận (matrix) là một mảng 2 chiều chứa số hoặc các đối tượng toán học khác. Một cách tổng quát ma trận A có m hàng và n cột chứa các số thực, ký hiệu là A ∈ $R^{m*n}$ hay $A_{m*n}$ hay A = ($a_{i*j}$)$_{m*n}$\n",
        "\n",
        "A = (\\begin{array}{ccc}\n",
        "\\text{$A_{1,1}$}&\\text{$A_{1,2}$}&\\text{...}&\\text{$A_{1,n}$}\\\\\n",
        "\\text{$A_{2,1}$}&\\text{$A_{2,2}$}&\\text{...}&\\text{$A_{2,n}$}\\\\\n",
        "\\text{...}&\\text{...}&\\text{...}&\\text{...}\\\\\n",
        "\\text{$A_{1,1}$}&\\text{$A_{1,2}$}&\\text{...}&\\text{$A_{1,n}$}\n",
        "\\end{array})\n",
        "\n",
        "Sử dụng thư viện NumPy, hãy tạo ra một ma trận A ∈ $R^{7*5}$, gía trị các phần tử của ma trận được sinh ra ngẫu nhiên. Kết quả xuất ra màn hình."
      ],
      "metadata": {
        "id": "MvUrZNYjlbz_"
      }
    },
    {
      "cell_type": "code",
      "execution_count": null,
      "metadata": {
        "colab": {
          "base_uri": "https://localhost:8080/"
        },
        "id": "bcwK0EsTNRmN",
        "outputId": "331a680d-a233-4aaf-e29f-14139229844f"
      },
      "outputs": [
        {
          "output_type": "stream",
          "name": "stdout",
          "text": [
            "[[0.1 0.9 0.1 0.3 0.1]\n",
            " [0.1 0.2 0.2 0.  0.1]\n",
            " [1.  0.9 0.5 0.2 0.3]\n",
            " [0.2 0.2 0.  0.1 0.8]\n",
            " [0.8 0.4 0.7 0.4 0.8]\n",
            " [0.7 0.7 0.7 0.1 0.8]\n",
            " [0.9 1.  0.1 0.8 0.8]]\n"
          ]
        }
      ],
      "source": [
        "'''\n",
        "*\n",
        "* Sử dụng thư viện sau:\n",
        "*\n",
        "* numpy: Làm việc, xử lí trên dữ liệu Dataframe\n",
        "*\n",
        "'''\n",
        "import pandas \n",
        "\n",
        "\n",
        "'''\n",
        "*\n",
        "* Cú pháp np.random.rand (d0, d1, …, dn)\n",
        "*\n",
        "* Chức năng này của mô-đun ngẫu nhiên được sử dụng để tạo ra các số hoặc giá trị ngẫu nhiên trong một hình dạng nhất định.\n",
        "*\n",
        "* Cú pháp numpy.set_printoptions(precision=None, threshold=None, edgeitems=None, linewidth=None, suppress=None, nanstr=None, infstr=None, formatter=None, sign=None, floatmode=None, *, legacy=None)\n",
        "* => Chức này của mô-đun Đặt các tùy chọn in. Các tùy chọn này xác định cách số dấu phẩy động, mảng và các đối tượng NumPy khác được hiển thị.\n",
        "*\n",
        "'''\n",
        "np.set_printoptions(precision=1, suppress=True)\n",
        "\n",
        "matrix = np.random.rand(7, 5)\n",
        "\n",
        "\n",
        "# Xuất giá trị các phần tử của ma trận ra khỏi màn hình\n",
        "print(matrix)"
      ]
    },
    {
      "cell_type": "markdown",
      "source": [
        "**Bài 2 - Ma trận không (zero matrix)**: Ma trận $A_{m*n}$ được gọi là ma trận không khi $a_{i,j}$ = 0,∀*i,j*.\\\n",
        "Sử dụng thư viện Numpy, hãy tạo một ma trận 0 - $A_{6*7}$. Gợi ý: sử dụng hàm numpy.zeros((m,n)).\\\n",
        "Kết quả xuất ra màn hình."
      ],
      "metadata": {
        "id": "CTwHx9z6uD0W"
      }
    },
    {
      "cell_type": "code",
      "source": [
        "'''\n",
        "*\n",
        "* Sử dụng thư viện sau:\n",
        "*\n",
        "* numpy: Tính toán số học, vector, ma trận.\n",
        "*\n",
        "'''\n",
        "import numpy as np\n",
        "\n",
        "\n",
        "'''\n",
        "*\n",
        "* Cú pháp numpy.zeros(shape, dtype = None, order = 'C')\n",
        "*\n",
        "* Chức năng hàm trả về một mảng mới có hình dạng và kiểu đã cho, với các số không.\n",
        "*\n",
        "'''\n",
        "matrix = np.zeros((6, 7))\n",
        "\n",
        "\n",
        "# Xuất giá trị các phần tử của ma trận 0 - A(6*7) ra khỏi màn hình\n",
        "print(0 - matrix)"
      ],
      "metadata": {
        "colab": {
          "base_uri": "https://localhost:8080/"
        },
        "id": "oGDhXHRUNuhI",
        "outputId": "61f0efb1-28cf-4755-da7e-421cf8fd4480"
      },
      "execution_count": null,
      "outputs": [
        {
          "output_type": "stream",
          "name": "stdout",
          "text": [
            "[[0. 0. 0. 0. 0. 0. 0.]\n",
            " [0. 0. 0. 0. 0. 0. 0.]\n",
            " [0. 0. 0. 0. 0. 0. 0.]\n",
            " [0. 0. 0. 0. 0. 0. 0.]\n",
            " [0. 0. 0. 0. 0. 0. 0.]\n",
            " [0. 0. 0. 0. 0. 0. 0.]]\n"
          ]
        }
      ]
    },
    {
      "cell_type": "markdown",
      "source": [
        "**Bài 3 - Ma trận vuông:** Là ma trận có số hàng và số cột bằng nhau. Sử dụng thư viện NumPy, hãy tạo ra một ma trận A ∈ $R^{7*7}$, giá trị các phần tử của ma trận được sinh ngẫu nhiên. Kết quả xuất ra màn hình"
      ],
      "metadata": {
        "id": "-84Dmgnhw3M2"
      }
    },
    {
      "cell_type": "code",
      "source": [
        "'''\n",
        "*\n",
        "* Sử dụng thư viện sau:\n",
        "*\n",
        "* numpy: Tính toán số học, vector, ma trận.\n",
        "*\n",
        "'''\n",
        "import numpy as np\n",
        "\n",
        "\n",
        "'''\n",
        "*\n",
        "* Cú pháp np.random.rand (d0, d1, …, dn)\n",
        "*\n",
        "* Chức năng này của mô-đun ngẫu nhiên được sử dụng để tạo ra các số hoặc giá trị ngẫu nhiên trong một hình dạng nhất định.\n",
        "*\n",
        "* Cú pháp numpy.set_printoptions(precision=None, threshold=None, edgeitems=None, linewidth=None, suppress=None, nanstr=None, infstr=None, formatter=None, sign=None, floatmode=None, *, legacy=None)\n",
        "* => Chức này của mô-đun Đặt các tùy chọn in. Các tùy chọn này xác định cách số dấu phẩy động, mảng và các đối tượng NumPy khác được hiển thị.\n",
        "*\n",
        "'''\n",
        "np.set_printoptions(precision=1, suppress=True)\n",
        "\n",
        "matrix = np.random.rand(7, 7)\n",
        "\n",
        "\n",
        "# Xuất giá trị các phần tử của ma trận ra khỏi màn hình\n",
        "print(matrix)"
      ],
      "metadata": {
        "colab": {
          "base_uri": "https://localhost:8080/"
        },
        "id": "UgL0wzWpOPhh",
        "outputId": "ee9811d6-ad9a-4f3c-f0c7-b44e646df21e"
      },
      "execution_count": null,
      "outputs": [
        {
          "output_type": "stream",
          "name": "stdout",
          "text": [
            "[[0.2 0.8 0.8 0.8 0.9 1.  0.8]\n",
            " [0.5 0.5 0.2 0.8 0.2 0.6 0.3]\n",
            " [0.3 0.3 0.7 0.9 0.3 0.1 1. ]\n",
            " [0.6 0.6 0.3 0.8 0.4 0.7 0.9]\n",
            " [0.8 0.5 0.8 0.3 0.4 0.6 0.9]\n",
            " [0.8 0.9 0.8 0.7 0.5 0.4 0.8]\n",
            " [0.8 0.6 0.4 0.  0.9 0.3 0.6]]\n"
          ]
        }
      ]
    },
    {
      "cell_type": "markdown",
      "source": [
        "**Bài 4 - Ma trận chéo (diagonal matrix):** Ma trận vuông có các phần tử trên đường chéo *$a_{i,j}$* ≠ 0 trong khi các phần tử còn lại *$a_{i,j}$* = 0, ∀i ≠ j. \\\\\n",
        "Sử dụng thư viện NumPy, hãy tạo một ma trận chéo *$A_{6*6}$* với phần tử nằm trên đường chéo có giá trị là 15. Gợi ý: sử dụng kết hợp hàm numpy.zeros() và numpy.fill_digonal().\\\n",
        "Kết quả xuất ra màn hình. "
      ],
      "metadata": {
        "id": "EKFWU0zJxWVY"
      }
    },
    {
      "cell_type": "code",
      "source": [
        "'''\n",
        "*\n",
        "* Sử dụng thư viện sau:\n",
        "*\n",
        "* numpy: Tính toán số học, vector, ma trận.\n",
        "*\n",
        "'''\n",
        "import numpy as np\n",
        "\n",
        "\n",
        "'''\n",
        "*\n",
        "* 1) Cú pháp numpy.zeros(shape, dtype = None, order = 'C')\n",
        "* => Chức năng hàm trả về một mảng mới có hình dạng và kiểu đã cho, với các số không.\n",
        "*\n",
        "* 2) Cú pháp numpy.fill_diagonal(a, val, wrap=False)\n",
        "* =>  Chức năng hàm điền vào đường chéo chính của mảng bất kỳ chiều nào đã cho.\n",
        "*\n",
        "'''\n",
        "matrix = np.zeros((6,6), int)\n",
        "np.fill_diagonal(matrix, 15)\n",
        "\n",
        "\n",
        "# Xuất giá trị các phần tử của ma trận ra khỏi màn hình\n",
        "print(matrix)"
      ],
      "metadata": {
        "colab": {
          "base_uri": "https://localhost:8080/"
        },
        "id": "uHzKryfFyY9N",
        "outputId": "79150a29-1f05-49e4-9d4d-2aeae1e9dc0c"
      },
      "execution_count": null,
      "outputs": [
        {
          "output_type": "stream",
          "name": "stdout",
          "text": [
            "[[15  0  0  0  0  0]\n",
            " [ 0 15  0  0  0  0]\n",
            " [ 0  0 15  0  0  0]\n",
            " [ 0  0  0 15  0  0]\n",
            " [ 0  0  0  0 15  0]\n",
            " [ 0  0  0  0  0 15]]\n"
          ]
        }
      ]
    },
    {
      "cell_type": "markdown",
      "source": [
        "**Bài 5-Ma trận tam giác trên (upper triangular matrix)**: Ma trận vuông $A_{n*n}$ được gọi là ma trận tam giác trên nếu các phần tử nằm trên đường chéo đều khác 0 và các phần tử nằm dưới đường chéo đều bằng 0. \\\\\n",
        "Sử dụng thư viện NumPy, hãy tạo một ma trận tam giác trên $A_{8*8}$. Gợi ý: sử dụng hàm numpy.triu(). Kết quả xuất ra màn hình"
      ],
      "metadata": {
        "id": "K_2vsAc7-Aty"
      }
    },
    {
      "cell_type": "code",
      "source": [
        "'''\n",
        "*\n",
        "* Sử dụng thư viện sau:\n",
        "*\n",
        "* numpy: Tính toán số học, vector, ma trận.\n",
        "*\n",
        "'''\n",
        "import numpy as np\n",
        "\n",
        "\n",
        "'''\n",
        "*\n",
        "* Cú pháp numpy.set_printoptions(precision=None, threshold=None, edgeitems=None, linewidth=None, suppress=None, nanstr=None, infstr=None, formatter=None, sign=None, floatmode=None, *, legacy=None)\n",
        "* => Chức này của mô-đun Đặt các tùy chọn in. Các tùy chọn này xác định cách số dấu phẩy động, mảng và các đối tượng NumPy khác được hiển thị.\n",
        "*\n",
        "* Cú pháp np.triu(m, k=0)\n",
        "* => Chức năng này của mô-đun trả về bản sao của một mảng với các phần tử bên dưới đường chéo thứ k được làm bằng 0. Đối với mảng có ndim vượt quá 2, triu sẽ áp dụng cho hai trục cuối cùng.\n",
        "*\n",
        "* Cú pháp np.random.rand (d0, d1, …, dn)\n",
        "* => Chức năng này của mô-đun ngẫu nhiên được sử dụng để tạo ra các số hoặc giá trị ngẫu nhiên trong một hình dạng nhất định.\n",
        "*\n",
        "'''\n",
        "np.set_printoptions(precision=1, suppress=True)\n",
        "\n",
        "matrix = np.triu(np.random.rand(8, 8), -1)\n",
        "\n",
        "\n",
        "# Xuất giá trị các phần tử của ma trận ra khỏi màn hình\n",
        "print(matrix)"
      ],
      "metadata": {
        "colab": {
          "base_uri": "https://localhost:8080/"
        },
        "id": "B2VzBv5F-iFX",
        "outputId": "ea85c1d8-c4ab-4167-a995-8ad168547b00"
      },
      "execution_count": null,
      "outputs": [
        {
          "output_type": "stream",
          "name": "stdout",
          "text": [
            "[[0.7 0.  0.7 1.  0.4 0.1 0.4 0.3]\n",
            " [0.9 0.  0.5 0.3 0.2 0.2 0.8 0.2]\n",
            " [0.  0.5 0.2 0.2 0.4 0.2 0.1 0.2]\n",
            " [0.  0.  0.3 0.5 0.4 0.3 0.7 0.6]\n",
            " [0.  0.  0.  0.1 0.8 0.4 0.7 0.3]\n",
            " [0.  0.  0.  0.  0.9 0.2 0.7 0.5]\n",
            " [0.  0.  0.  0.  0.  0.6 0.2 0.6]\n",
            " [0.  0.  0.  0.  0.  0.  0.7 0.8]]\n"
          ]
        }
      ]
    },
    {
      "cell_type": "markdown",
      "source": [
        "**Bài 6 - Ma trận tam giác dưới (lower triangular matrix)**: Tương tự bài 5, bạn hãy xây dựng ma trận tam giác dưới. Kết quả xuất ra màn hình."
      ],
      "metadata": {
        "id": "lr27moxpAlti"
      }
    },
    {
      "cell_type": "code",
      "source": [
        "'''\n",
        "*\n",
        "* Sử dụng thư viện sau:\n",
        "*\n",
        "* numpy: Tính toán số học, vector, ma trận.\n",
        "*\n",
        "'''\n",
        "import numpy as np\n",
        "\n",
        "\n",
        "'''\n",
        "*\n",
        "* Cú pháp numpy.set_printoptions(precision=None, threshold=None, edgeitems=None, linewidth=None, suppress=None, nanstr=None, infstr=None, formatter=None, sign=None, floatmode=None, *, legacy=None)\n",
        "* => Chức này của mô-đun Đặt các tùy chọn in. Các tùy chọn này xác định cách số dấu phẩy động, mảng và các đối tượng NumPy khác được hiển thị.\n",
        "*\n",
        "* Cú pháp np.tril(m, k=0)\n",
        "* => Chức năng này của mô-đun trả về bản sao của một mảng với các phần tử bên trên đường chéo thứ k được làm bằng 0. Đối với mảng có ndim vượt quá 2, triu sẽ áp dụng cho hai trục cuối cùng.\n",
        "*\n",
        "* Cú pháp np.random.rand (d0, d1, …, dn)\n",
        "* => Chức năng này của mô-đun ngẫu nhiên được sử dụng để tạo ra các số hoặc giá trị ngẫu nhiên trong một hình dạng nhất định.\n",
        "*\n",
        "'''\n",
        "np.set_printoptions(precision=1, suppress=True)\n",
        "\n",
        "matrix = np.tril(np.random.rand(8, 8), -1)\n",
        "\n",
        "\n",
        "# Xuất giá trị các phần tử của ma trận ra khỏi màn hình\n",
        "print(matrix)"
      ],
      "metadata": {
        "colab": {
          "base_uri": "https://localhost:8080/"
        },
        "id": "7bjXYS5CAwdM",
        "outputId": "86428ebc-ddee-42c0-9f4c-a5812d3b40c8"
      },
      "execution_count": null,
      "outputs": [
        {
          "output_type": "stream",
          "name": "stdout",
          "text": [
            "[[0.  0.  0.  0.  0.  0.  0.  0. ]\n",
            " [1.  0.  0.  0.  0.  0.  0.  0. ]\n",
            " [0.6 0.2 0.  0.  0.  0.  0.  0. ]\n",
            " [0.3 0.4 0.1 0.  0.  0.  0.  0. ]\n",
            " [0.2 0.2 0.9 0.4 0.  0.  0.  0. ]\n",
            " [0.9 0.9 0.4 0.5 0.6 0.  0.  0. ]\n",
            " [0.9 0.9 0.4 0.6 0.2 0.9 0.  0. ]\n",
            " [0.5 0.4 0.5 0.1 0.9 0.6 0.7 0. ]]\n"
          ]
        }
      ]
    },
    {
      "cell_type": "markdown",
      "source": [
        "**Bài 7-Ma trận đơn vị (identity matrix)**: Ma trận đơn vị *$I_{n}$* có số chiều n là một ma trận vuông mà mọi phần tử trên đường chéo chính bằng 1. \\\\\n",
        "Sử dụng thư viện NumPy, hãy tạo ra một ma trận *$I_{9}$*. Kết quả xuất ra màn hình. Gợi ý: Sử dụng hàm numpy.identity()"
      ],
      "metadata": {
        "id": "lSPUdTwrBSEi"
      }
    },
    {
      "cell_type": "code",
      "source": [
        "'''\n",
        "*\n",
        "* Sử dụng thư viện sau:\n",
        "*\n",
        "* numpy: Tính toán số học, vector, ma trận.\n",
        "*\n",
        "'''\n",
        "import numpy as np\n",
        "\n",
        "\n",
        "'''\n",
        "*\n",
        "* Cú pháp numpy.identity(n, dtype=None, *, like=None)\n",
        "* => Chức năng này của mô-đun trả về mảng nhận dạng là một mảng ma trận vuông với các giá trị 1 nằm trên đường chéo chính.\n",
        "*\n",
        "'''\n",
        "matrix = np.identity(9)\n",
        "\n",
        "\n",
        "# Xuất giá trị các phần tử của ma trận ra khỏi màn hình\n",
        "print(matrix)"
      ],
      "metadata": {
        "colab": {
          "base_uri": "https://localhost:8080/"
        },
        "id": "L7KMLZVhCngQ",
        "outputId": "7b77bf73-7c4f-44b5-b59e-9487f75d3b82"
      },
      "execution_count": null,
      "outputs": [
        {
          "output_type": "stream",
          "name": "stdout",
          "text": [
            "[[1. 0. 0. 0. 0. 0. 0. 0. 0.]\n",
            " [0. 1. 0. 0. 0. 0. 0. 0. 0.]\n",
            " [0. 0. 1. 0. 0. 0. 0. 0. 0.]\n",
            " [0. 0. 0. 1. 0. 0. 0. 0. 0.]\n",
            " [0. 0. 0. 0. 1. 0. 0. 0. 0.]\n",
            " [0. 0. 0. 0. 0. 1. 0. 0. 0.]\n",
            " [0. 0. 0. 0. 0. 0. 1. 0. 0.]\n",
            " [0. 0. 0. 0. 0. 0. 0. 1. 0.]\n",
            " [0. 0. 0. 0. 0. 0. 0. 0. 1.]]\n"
          ]
        }
      ]
    },
    {
      "cell_type": "markdown",
      "source": [
        "**Bài 8-Phép toán trên ma trận**: Sử dụng thư viện NumPy để thực hiện các yêu cầu sau:\n",
        "\n",
        "*   Phép cộng ma trận: *$A_{m*n}$* + *$B_{m*n}$* = *$C_{m*n}$*. Hãy sinh ngẫu nhiên 2 ma trận có kích thước 6x7. Thực hiện phép cộng 2 ma trận trên. Xuất giá trị các ma trận ra màn hình\n",
        "*   Phép nhân vô hướng một số với ma trận: Hãy sinh ngẫu nhiên 2 ma trận có kích thước 5x8. Thực hiện nhân vô hướng 1 số được nhập từ bàn phím với ma trận này. Kết quả xuất ra màn hình\n",
        "*   Phép chuyển vị ma trận: Sinh ngẫu nhiên một ma trận có kích thước 3x7. Thực hiện phép chuyển vị đối với ma trận này. Xuất các ma trận này ra màn hình.\n",
        "*   Phép nhân 2 ma trận: *$A_{m*n}$*.*$B_{n*p}$* = *$C_{m*p}$*. Hãy sinh ngẫu nhiên 2 ma trận *$A_{5*7}$* và *$B_{7*3}$*, tiến hành nhân 2 ma trận này để thu được ma trận *$C_{5*3}$*. Xuất các ma trận trên ra màn hình.\\\n",
        "Gợi ý: Sử dụng hàm numpy.dot()\n",
        "*   Ma trận khả nghịch: ma trận vuông *$A_{n*m}$* gọi là khả nghịch (hay không suy biến) nếu tồn tại một ma trận vuông *$B_{n*n}$* sao cho *A . B* = *$I_{n}$*. Khi này, B được gọi là ma trận nghịch đảo của A và ký hiệu là *$A^{-1}$*. Cho ma trận *$A_{5*5}$*, hãy tính ma trận khả nghịch của A.\\\n",
        "Gợi ý: Sử dụng hàm numpy.linalg.inv()\n",
        "\n",
        "\n",
        "\n",
        "\n",
        "\n"
      ],
      "metadata": {
        "id": "11bcJvnBDhpt"
      }
    },
    {
      "cell_type": "code",
      "source": [
        "'''\n",
        "*\n",
        "* Sử dụng thư viện sau:\n",
        "*\n",
        "* numpy: Tính toán số học, vector, ma trận.\n",
        "*\n",
        "'''\n",
        "import numpy as np\n",
        "\n",
        "\n",
        "'''\n",
        "*\n",
        "* \\\\MỘT SỐ CÚ PHÁP THÔNG DỤNG DÙNG ĐỂ XỬ LÍ CÁC BÀI TOÁN\n",
        "*\n",
        "* Cú pháp numpy.set_printoptions(precision=None, threshold=None, edgeitems=None, linewidth=None, suppress=None, nanstr=None, infstr=None, formatter=None, sign=None, floatmode=None, *, legacy=None)\n",
        "* => Chức này của mô-đun Đặt các tùy chọn in. Các tùy chọn này xác định cách số dấu phẩy động, mảng và các đối tượng NumPy khác được hiển thị.\n",
        "*\n",
        "* Cú pháp np.random.rand (d0, d1, …, dn)\n",
        "* => Chức năng này của mô-đun ngẫu nhiên được sử dụng để tạo ra các số hoặc giá trị ngẫu nhiên trong một hình dạng nhất định.\n",
        "*\n",
        "'''\n",
        "np.set_printoptions(precision=1, suppress=True)\n",
        "\n",
        "''' \n",
        "* \\\\BÀI TOÁN 1:Phép cộng ma trận:  Am∗n  +  Bm∗n  =  Cm∗n . Hãy sinh ngẫu nhiên 2 ma trận có kích thước 6x7. Thực hiện phép cộng 2 ma trận trên. Xuất giá trị các ma trận ra màn hình\n",
        "* \n",
        "* Ý TƯỞNG:\n",
        "* STEP1: Khởi tạo 2 biến matrix_1, matrix_2 dùng để lưu giá trị 2 ma trận\n",
        "* STEP2: Sử dụng cú pháp np.random.rand(6,7) để khởi tạo 2 ma trận ngẫu nhiên kích thước (6x7)\n",
        "* STEP3: Khởi tạo biến matrix_sum để lưu giá trị là kết quả của phép cộng 2 ma trận matrix_1 và matrix_2\n",
        "* STEP4: Xuất giá trị matrix_sum(Phép cộng 2 ma trận) ra màn hình  \n",
        "* \n",
        "'''\n",
        "print(\"-----------------------------------------------------------------------\")\n",
        "print(\"BÀI TOÁN 1: Phép cộng ma trận:  Am∗n  +  Bm∗n  =  Cm∗n . Hãy sinh ngẫu nhiên 2 ma trận có kích thước 6x7. Thực hiện phép cộng 2 ma trận trên. Xuất giá trị các ma trận ra màn hình\")\n",
        "matrix_1 = np.random.rand(6, 7)\n",
        "matrix_2 = np.random.rand(6, 7)\n",
        "\n",
        "matrix_sum = matrix_1 + matrix_2\n",
        "\n",
        "# Xuất giá trị các phần tử của ma trận ra khỏi màn hình\n",
        "print(f\"\\nMa trận 1:\\n {matrix_1}\")\n",
        "print(f\"Ma trận 2:\\n {matrix_2}\")\n",
        "print(f\"Giá trị tổng của 2 ma trận:\\n {matrix_sum}\")\n",
        "print(\"-----------------------------------------------------------------------\")\n",
        "print(\"\\n\")\n",
        "\n",
        "\n",
        "''' \n",
        "* \\\\BÀI TOÁN 2:Phép nhân vô hướng một số với ma trận: Hãy sinh ngẫu nhiên 2 ma trận có kích thước 5x8. Thực hiện nhân vô hướng 1 số được nhập từ bàn phím với ma trận này. Kết quả xuất ra màn hình\n",
        "* \n",
        "* Ý TƯỞNG:\n",
        "* STEP1: Khởi tạo 2 biến matrix_1, matrix_2 dùng để lưu giá trị 2 ma trận\n",
        "* STEP2: Sử dụng cú pháp np.random.rand(5, 8) để khởi tạo 2 ma trận ngẫu nhiên kích thước (5, 8)\n",
        "* STEP3: Khởi tạo một biến lưu trữ giá trị được nhập vào từ bàn phím\n",
        "* STEP3: Khởi tạo biến matrix_Multiplication_1,matrix_Multiplication_2 để lưu giá trị là kết quả của tích vô hướng 2 ma trận matrix_1 và matrix_2\n",
        "* STEP4: Xuất giá trị matrix_Multiplication_1,matrix_Multiplication_2 ra màn hình  \n",
        "* \n",
        "'''\n",
        "print(\"-----------------------------------------------------------------------\")\n",
        "print(\"BÀI TOÁN 2:Phép nhân vô hướng một số với ma trận: Hãy sinh ngẫu nhiên 2 ma trận có kích thước 5x8. Thực hiện nhân vô hướng 1 số được nhập từ bàn phím với ma trận này. Kết quả xuất ra màn hình\")\n",
        "matrix_1 = np.random.rand(6, 7)\n",
        "matrix_2 = np.random.rand(6, 7)\n",
        "\n",
        "inp = float(input(\"Mời bạn nhập giá trị n: \"))\n",
        "\n",
        "matrix_Multiplication_1 = matrix_1 * inp\n",
        "matrix_Multiplication_2 = matrix_2 * inp\n",
        "\n",
        "# Xuất giá trị các phần tử của ma trận ra khỏi màn hình\n",
        "print(f\"\\nMa trận 1:\\n {matrix_1}\")\n",
        "print(f\"Ma trận 2:\\n {matrix_2}\")\n",
        "print(f\"Giá trị tích vô hướng ma trận 1 với {inp}:\\n {matrix_Multiplication_1}\")\n",
        "print(f\"Giá trị tích vô hướng ma trận 2 với {inp}:\\n {matrix_Multiplication_2}\")\n",
        "print(\"-----------------------------------------------------------------------\")\n",
        "print(\"\\n\")\n",
        "\n",
        "\n",
        "''' \n",
        "* \\\\BÀI TOÁN 3:Phép chuyển vị ma trận: Sinh ngẫu nhiên một ma trận có kích thước 3x7. Thực hiện phép chuyển vị đối với ma trận này. Xuất các ma trận này ra màn hình.\n",
        "* \n",
        "* Ý TƯỞNG:\n",
        "* STEP1: Khởi tạo 1 biến matrix để lưu giá trị ma trận\n",
        "* STEP2: Sử dụng cú pháp np.random.rand(3, 7) để khởi tạo 2 ma trận ngẫu nhiên kích thước (3, 7)\n",
        "* STEP3: Khởi tạo biến matrix_transposition để lưu giá trị ma trận chuyển vị của biến matrix thông qua hàm np.transpose()\n",
        "* STEP3: Xuất giá trị ma trận chuyển vị\n",
        "* \n",
        "'''\n",
        "print(\"-----------------------------------------------------------------------\")\n",
        "print(\"BÀI TOÁN 3:Phép chuyển vị ma trận: Sinh ngẫu nhiên một ma trận có kích thước 3x7. Thực hiện phép chuyển vị đối với ma trận này. Xuất các ma trận này ra màn hình.\")\n",
        "matrix = np.random.rand(3, 7)\n",
        "matrix_transposition = np.transpose(matrix)\n",
        "\n",
        "# Xuất giá trị các phần tử của ma trận ra khỏi màn hình\n",
        "print(f\"\\nMa trận ban đầu:\\n {matrix}\")\n",
        "print(f\"Ma trận sau khi chuyển vị:\\n {matrix_transposition}\")\n",
        "print(\"-----------------------------------------------------------------------\")\n",
        "print(\"\\n\")\n",
        "\n",
        "\n",
        "''' \n",
        "* \\\\BÀI TOÁN 4:Phép nhân 2 ma trận:  Am∗n . Bn∗p  =  Cm∗p . Hãy sinh ngẫu nhiên 2 ma trận  A5∗7  và  B7∗3 , tiến hành nhân 2 ma trận này để thu được ma trận  C5∗3 . Xuất các ma trận trên ra màn hình.\n",
        "Gợi ý: Sử dụng hàm numpy.dot()\n",
        "* \n",
        "* Ý TƯỞNG:\n",
        "* STEP1: Khởi tạo 2 ma trận matrix_1, matrix_2\n",
        "* STEP2: Sử dụng cú pháp np.random.rand(3, 7) để khởi tạo 2 ma trận ngẫu nhiên kích thước (3, 7)\n",
        "* STEP3: Khởi tạo biến matrix_multiplication để lưu giá trị phép nhân ma trận matrix_1 * matrix_2 bằng hàm np.miltiply()\n",
        "* STEP3: Xuất giá trị ma trận\n",
        "* \n",
        "'''\n",
        "print(\"-----------------------------------------------------------------------\")\n",
        "print(\"BÀI TOÁN 4:Phép nhân 2 ma trận:  Am∗n . Bn∗p  =  Cm∗p . Hãy sinh ngẫu nhiên 2 ma trận  A5∗7  và  B7∗3 , tiến hành nhân 2 ma trận này để thu được ma trận  C5∗3 . Xuất các ma trận trên ra màn hình. Gợi ý: Sử dụng hàm numpy.dot()\")\n",
        "matrix_1 = np.random.rand(5, 7)\n",
        "matrix_2 = np.random.rand(7, 3)\n",
        "matrix_multiplication = np.multiply(matrix_1, matrix_2)\n",
        "\n",
        "# Xuất giá trị các phần tử của ma trận ra khỏi màn hình\n",
        "print(f\"\\nMa trận 1:\\n {matrix_1}\")\n",
        "print(f\"\\nMa trận 2:\\n {matrix_2}\")\n",
        "print(f\"\\nMa trận nhân:\\n {matrix_multiplication}\")\n",
        "print(\"-----------------------------------------------------------------------\")\n",
        "print(\"\\n\")\n",
        "\n",
        "''' \n",
        "* \\\\BÀI TOÁN 5: Ma trận khả nghịch: ma trận vuông  An∗m  gọi là khả nghịch (hay không suy biến) nếu tồn tại một ma trận vuông  Bn∗n  sao cho A . B =  In . Khi này, B được gọi là ma trận nghịch đảo của A và ký hiệu là  A−1 . Cho ma trận  A5∗7 , hãy tính ma trận khả nghịch của A.\n",
        "Gợi ý: Sử dụng hàm numpy.linalg.inv()\n",
        "* \n",
        "* Ý TƯỞNG:\n",
        "* STEP1: Khởi tạo 1 biến matrix_A (5*7)\n",
        "* STEP2: Khởi tạo biến matrix_B là ma trận khả nghịch matrx_A thông qua hàm numpy.linalg.inv()\n",
        "* STEP3: Xuất giá trị ma trận ra màn hình\n",
        "* \n",
        "'''\n",
        "print(\"-----------------------------------------------------------------------\")\n",
        "print(\"BÀI TOÁN 5: Ma trận khả nghịch: ma trận vuông  An∗m  gọi là khả nghịch (hay không suy biến) nếu tồn tại một ma trận vuông  Bn∗n  sao cho A . B =  In . Khi này, B được gọi là ma trận nghịch đảo của A và ký hiệu là  A−1 . Cho ma trận  A5∗7 , hãy tính ma trận khả nghịch của A. Gợi ý: Sử dụng hàm numpy.linalg.inv()\")\n",
        "matrix_A = np.random.rand(5, 5)\n",
        "matrix_B = np.linalg.inv(matrix_A)\n",
        "\n",
        "# Xuất giá trị các phần tử của ma trận ra khỏi màn hình\n",
        "print(f\"\\nMa trận A:\\n {matrix_A}\")\n",
        "print(f\"\\nMa trận B:\\n {matrix_B}\")\n",
        "print(\"-----------------------------------------------------------------------\")\n",
        "print(\"\\n\")"
      ],
      "metadata": {
        "colab": {
          "base_uri": "https://localhost:8080/",
          "height": 1000
        },
        "id": "LnYGZ-WnGenb",
        "outputId": "dced9a4e-42d2-4002-e4e2-7b7235d30cf5"
      },
      "execution_count": null,
      "outputs": [
        {
          "output_type": "stream",
          "name": "stdout",
          "text": [
            "-----------------------------------------------------------------------\n",
            "BÀI TOÁN 1: Phép cộng ma trận:  Am∗n  +  Bm∗n  =  Cm∗n . Hãy sinh ngẫu nhiên 2 ma trận có kích thước 6x7. Thực hiện phép cộng 2 ma trận trên. Xuất giá trị các ma trận ra màn hình\n",
            "\n",
            "Ma trận 1:\n",
            " [[0.7 0.  0.8 0.2 0.8 0.8 0.1]\n",
            " [0.4 0.4 0.7 0.4 0.9 0.1 0.2]\n",
            " [0.3 0.1 1.  0.1 0.9 0.2 0.1]\n",
            " [0.3 0.7 0.4 0.3 0.2 0.7 0.9]\n",
            " [0.7 1.  0.5 0.3 0.1 0.7 0.5]\n",
            " [0.1 0.6 0.5 0.4 0.6 0.4 0.1]]\n",
            "Ma trận 2:\n",
            " [[0.8 0.3 0.4 0.5 0.3 0.4 0.5]\n",
            " [0.2 1.  0.2 0.9 0.5 1.  0.4]\n",
            " [0.7 0.2 0.8 0.1 0.1 0.8 0.9]\n",
            " [0.2 0.5 0.4 0.7 0.7 0.9 0.4]\n",
            " [0.6 0.9 0.3 0.3 0.8 0.6 0.8]\n",
            " [0.1 0.1 0.4 0.4 0.2 0.6 0.2]]\n",
            "Giá trị tổng của 2 ma trận:\n",
            " [[1.5 0.3 1.2 0.8 1.1 1.2 0.6]\n",
            " [0.6 1.4 0.9 1.3 1.3 1.  0.6]\n",
            " [1.1 0.3 1.7 0.2 1.  0.9 0.9]\n",
            " [0.6 1.2 0.9 1.  0.8 1.6 1.3]\n",
            " [1.3 1.9 0.8 0.6 0.9 1.3 1.3]\n",
            " [0.2 0.8 1.  0.8 0.8 1.1 0.2]]\n",
            "-----------------------------------------------------------------------\n",
            "\n",
            "\n",
            "-----------------------------------------------------------------------\n",
            "BÀI TOÁN 2:Phép nhân vô hướng một số với ma trận: Hãy sinh ngẫu nhiên 2 ma trận có kích thước 5x8. Thực hiện nhân vô hướng 1 số được nhập từ bàn phím với ma trận này. Kết quả xuất ra màn hình\n",
            "Mời bạn nhập giá trị n: 5\n",
            "\n",
            "Ma trận 1:\n",
            " [[0.7 0.6 0.4 0.4 0.2 0.5 0.4]\n",
            " [0.6 0.  0.3 0.3 0.3 0.6 0.4]\n",
            " [0.2 0.3 1.  0.8 0.6 0.2 1. ]\n",
            " [0.8 1.  0.2 0.8 0.3 0.5 0.6]\n",
            " [0.8 1.  0.2 0.5 0.6 0.5 0.4]\n",
            " [0.8 0.7 0.3 0.4 0.2 0.1 0.3]]\n",
            "Ma trận 2:\n",
            " [[0.  0.3 0.5 0.6 0.8 0.2 0.1]\n",
            " [0.9 0.6 0.3 0.2 0.5 0.2 0. ]\n",
            " [0.3 0.3 0.5 0.8 0.9 0.2 0.8]\n",
            " [0.9 0.5 1.  0.8 0.8 0.8 0.8]\n",
            " [0.3 0.1 0.1 0.8 0.5 0.7 0.5]\n",
            " [1.  0.2 0.3 0.7 1.  0.7 0.5]]\n",
            "Giá trị tích vô hướng ma trận 1 với 5.0:\n",
            " [[3.7 3.  2.  2.  0.9 2.4 1.9]\n",
            " [3.  0.2 1.4 1.3 1.3 3.  2. ]\n",
            " [0.9 1.6 4.9 3.9 2.9 0.9 4.9]\n",
            " [3.8 4.8 0.9 3.8 1.5 2.4 3. ]\n",
            " [4.2 5.  0.8 2.6 2.8 2.5 1.9]\n",
            " [3.9 3.3 1.7 2.2 0.8 0.6 1.3]]\n",
            "Giá trị tích vô hướng ma trận 2 với 5.0:\n",
            " [[0.2 1.3 2.6 3.1 3.8 0.9 0.3]\n",
            " [4.7 3.1 1.3 1.  2.4 1.1 0.2]\n",
            " [1.7 1.6 2.5 4.2 4.6 1.2 4.2]\n",
            " [4.5 2.5 4.9 4.1 4.1 3.9 4.1]\n",
            " [1.5 0.3 0.6 4.  2.5 3.6 2.3]\n",
            " [4.9 0.9 1.4 3.3 4.9 3.4 2.7]]\n",
            "-----------------------------------------------------------------------\n",
            "\n",
            "\n",
            "-----------------------------------------------------------------------\n",
            "BÀI TOÁN 3:Phép chuyển vị ma trận: Sinh ngẫu nhiên một ma trận có kích thước 3x7. Thực hiện phép chuyển vị đối với ma trận này. Xuất các ma trận này ra màn hình.\n",
            "\n",
            "Ma trận ban đầu:\n",
            " [[0.8 0.8 0.8 1.  0.9 0.8 0.1]\n",
            " [0.4 0.4 0.5 0.6 0.9 0.7 0.7]\n",
            " [0.9 0.9 0.5 0.9 0.5 0.2 0.3]]\n",
            "Ma trận sau khi chuyển vị:\n",
            " [[0.8 0.4 0.9]\n",
            " [0.8 0.4 0.9]\n",
            " [0.8 0.5 0.5]\n",
            " [1.  0.6 0.9]\n",
            " [0.9 0.9 0.5]\n",
            " [0.8 0.7 0.2]\n",
            " [0.1 0.7 0.3]]\n",
            "-----------------------------------------------------------------------\n",
            "\n",
            "\n",
            "-----------------------------------------------------------------------\n",
            "BÀI TOÁN 4:Phép nhân 2 ma trận:  Am∗n . Bn∗p  =  Cm∗p . Hãy sinh ngẫu nhiên 2 ma trận  A5∗7  và  B7∗3 , tiến hành nhân 2 ma trận này để thu được ma trận  C5∗3 . Xuất các ma trận trên ra màn hình. Gợi ý: Sử dụng hàm numpy.dot()\n"
          ]
        },
        {
          "output_type": "error",
          "ename": "ValueError",
          "evalue": "ignored",
          "traceback": [
            "\u001b[0;31m---------------------------------------------------------------------------\u001b[0m",
            "\u001b[0;31mValueError\u001b[0m                                Traceback (most recent call last)",
            "\u001b[0;32m<ipython-input-3-11669336c85e>\u001b[0m in \u001b[0;36m<module>\u001b[0;34m()\u001b[0m\n\u001b[1;32m    114\u001b[0m \u001b[0mmatrix_1\u001b[0m \u001b[0;34m=\u001b[0m \u001b[0mnp\u001b[0m\u001b[0;34m.\u001b[0m\u001b[0mrandom\u001b[0m\u001b[0;34m.\u001b[0m\u001b[0mrand\u001b[0m\u001b[0;34m(\u001b[0m\u001b[0;36m5\u001b[0m\u001b[0;34m,\u001b[0m \u001b[0;36m7\u001b[0m\u001b[0;34m)\u001b[0m\u001b[0;34m\u001b[0m\u001b[0;34m\u001b[0m\u001b[0m\n\u001b[1;32m    115\u001b[0m \u001b[0mmatrix_2\u001b[0m \u001b[0;34m=\u001b[0m \u001b[0mnp\u001b[0m\u001b[0;34m.\u001b[0m\u001b[0mrandom\u001b[0m\u001b[0;34m.\u001b[0m\u001b[0mrand\u001b[0m\u001b[0;34m(\u001b[0m\u001b[0;36m7\u001b[0m\u001b[0;34m,\u001b[0m \u001b[0;36m3\u001b[0m\u001b[0;34m)\u001b[0m\u001b[0;34m\u001b[0m\u001b[0;34m\u001b[0m\u001b[0m\n\u001b[0;32m--> 116\u001b[0;31m \u001b[0mmatrix_multiplication\u001b[0m \u001b[0;34m=\u001b[0m \u001b[0mnp\u001b[0m\u001b[0;34m.\u001b[0m\u001b[0mmultiply\u001b[0m\u001b[0;34m(\u001b[0m\u001b[0mmatrix_1\u001b[0m\u001b[0;34m,\u001b[0m \u001b[0mmatrix_2\u001b[0m\u001b[0;34m)\u001b[0m\u001b[0;34m\u001b[0m\u001b[0;34m\u001b[0m\u001b[0m\n\u001b[0m\u001b[1;32m    117\u001b[0m \u001b[0;34m\u001b[0m\u001b[0m\n\u001b[1;32m    118\u001b[0m \u001b[0;31m# Xuất giá trị các phần tử của ma trận ra khỏi màn hình\u001b[0m\u001b[0;34m\u001b[0m\u001b[0;34m\u001b[0m\u001b[0;34m\u001b[0m\u001b[0m\n",
            "\u001b[0;31mValueError\u001b[0m: operands could not be broadcast together with shapes (5,7) (7,3) "
          ]
        }
      ]
    },
    {
      "cell_type": "markdown",
      "source": [
        "**BÀI 9- Vector là dạng ma trận đặc biệt**: Sử dụng numpy để thực hiện các yêu cầu sau:\n",
        "*   Vector hàng (row vector) thực chất là ma trận có kích thức 1 x *n*. Hãy tạo ngẫu nhiên 1 vector hàng - x có kích thước 1 x 8. Kết quả xuất ra màn hình.\n",
        "*   Vector cột (column vector) thực chất là ma trận có kích thước *m* x 1. Hãy tạo ngẫu nhiên 1 vector cột - x có kích thước 8 x 1. Kết quả xuất ra màn hình\n",
        "\n"
      ],
      "metadata": {
        "id": "ZZP4RYmG364l"
      }
    },
    {
      "cell_type": "code",
      "source": [
        "'''\n",
        "*\n",
        "* Sử dụng thư viện sau:\n",
        "*\n",
        "* numpy: Tính toán số học, vector, ma trận.\n",
        "*\n",
        "'''\n",
        "import numpy as np\n",
        "\n",
        "'''\n",
        "*\n",
        "* Cú pháp np.random.rand (d0, d1, …, dn)\n",
        "* => Chức năng này của mô-đun ngẫu nhiên được sử dụng để tạo ra các số hoặc giá trị ngẫu nhiên trong một hình dạng nhất định.\n",
        "*\n",
        "'''\n",
        "\n",
        "# Tạo ngẫu nhiên 1 vector hàng - x có kích thước 1 x 8\n",
        "matrix_row = np.random.rand(1, 8)\n",
        "\n",
        "# Tạo ngẫu nhiên 1 vector cột - x có kích thước 8 x 1\n",
        "matrix_column = np.random.rand(8, 1)\n",
        "\n",
        "# Xuất giá trị các phần tử của ma trận ra khỏi màn hình\n",
        "print(f\"\\nMa trận hàng:\\n {matrix_row}\")\n",
        "print(f\"\\nMa trận cột:\\n {matrix_column}\")\n"
      ],
      "metadata": {
        "colab": {
          "base_uri": "https://localhost:8080/"
        },
        "id": "n6j3LOP64hhD",
        "outputId": "1279901e-b808-4d9e-c522-a3d22f4de027"
      },
      "execution_count": null,
      "outputs": [
        {
          "output_type": "stream",
          "name": "stdout",
          "text": [
            "\n",
            "Ma trận hàng:\n",
            " [[0.2 0.6 0.1 0.2 0.1 0.6 0.2 0.6]]\n",
            "\n",
            "Ma trận cột:\n",
            " [[0.4]\n",
            " [0.3]\n",
            " [0.8]\n",
            " [0.4]\n",
            " [0.4]\n",
            " [0.1]\n",
            " [0.9]\n",
            " [0.9]]\n"
          ]
        }
      ]
    }
  ]
}