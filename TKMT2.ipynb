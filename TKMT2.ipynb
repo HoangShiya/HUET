{
  "nbformat": 4,
  "nbformat_minor": 0,
  "metadata": {
    "colab": {
      "name": "Untitled14.ipynb",
      "provenance": [],
      "include_colab_link": true
    },
    "kernelspec": {
      "name": "python3",
      "display_name": "Python 3"
    },
    "language_info": {
      "name": "python"
    }
  },
  "cells": [
    {
      "cell_type": "markdown",
      "metadata": {
        "id": "view-in-github",
        "colab_type": "text"
      },
      "source": [
        "<a href=\"https://colab.research.google.com/github/HoangShiya/HUET/blob/main/TKMT2.ipynb\" target=\"_parent\"><img src=\"https://colab.research.google.com/assets/colab-badge.svg\" alt=\"Open In Colab\"/></a>"
      ]
    },
    {
      "cell_type": "code",
      "execution_count": null,
      "metadata": {
        "colab": {
          "base_uri": "https://localhost:8080/"
        },
        "id": "b0gH1eHbL7sH",
        "outputId": "7b6be48c-2f6a-4332-e1de-fe9c97c5cdc3"
      },
      "outputs": [
        {
          "output_type": "stream",
          "name": "stdout",
          "text": [
            "Drive already mounted at /content/gdrive; to attempt to forcibly remount, call drive.mount(\"/content/gdrive\", force_remount=True).\n",
            "        State  Population  Murder.Rate\n",
            "0         NaN     Alabama   4779736.00\n",
            "1         NaN      Alaska    710231.00\n",
            "2         NaN     Arizona   6392017.00\n",
            "3         NaN    Arkansas   2915918.00\n",
            "4         NaN  California  37253956.00\n",
            "..        ...         ...          ...\n",
            "196   default      11.663        26.09\n",
            "197   default     2.97641        16.41\n",
            "198   default     1.96846        19.98\n",
            "199  paid off       9.642        20.17\n",
            "200  paid off     7.03924        13.88\n",
            "\n",
            "[201 rows x 3 columns]\n"
          ]
        },
        {
          "output_type": "execute_result",
          "data": {
            "text/plain": [
              "Index(['State', 'Population', 'Murder.Rate'], dtype='object')"
            ]
          },
          "metadata": {},
          "execution_count": 34
        }
      ],
      "source": [
        "from google.colab import drive\n",
        "import numpy as np\n",
        "import pandas as pd\n",
        "from collections import namedtuple\n",
        "\n",
        "drive.mount('/content/gdrive')\n",
        "\n",
        "# 1. Khởi tạo DataFrame\n",
        "data =  pd.read_csv('gdrive/My Drive/Python/loan200.csv')\n",
        "\n",
        "df = pd.DataFrame(data)\n",
        "print(df)\n",
        "pd.DataFrame(df, index=[\"1\", \"2\", \"3\"], columns=[\"Population\", \"Murder.Rate\"])\n",
        "df.index\n",
        "df.columns\n",
        "Point = namedtuple(\"Point\", \"x y\")\n",
        "Point3D = namedtuple(\"Point3D\", \"x y z\")\n",
        "pd.DataFrame([Point3D(0, 0, 0), Point3D(0, 3, 5), Point(2, 3)])"
      ]
    }
  ]
}