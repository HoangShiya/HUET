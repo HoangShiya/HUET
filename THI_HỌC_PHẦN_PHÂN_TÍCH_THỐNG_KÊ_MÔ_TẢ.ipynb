{
  "nbformat": 4,
  "nbformat_minor": 0,
  "metadata": {
    "colab": {
      "name": "THI HỌC PHẦN: PHÂN TÍCH THỐNG KÊ MÔ TẢ",
      "provenance": [],
      "include_colab_link": true
    },
    "kernelspec": {
      "name": "python3",
      "display_name": "Python 3"
    },
    "language_info": {
      "name": "python"
    }
  },
  "cells": [
    {
      "cell_type": "markdown",
      "metadata": {
        "id": "view-in-github",
        "colab_type": "text"
      },
      "source": [
        "<a href=\"https://colab.research.google.com/github/HoangShiya/HUET/blob/main/THI_H%E1%BB%8CC_PH%E1%BA%A6N_PH%C3%82N_T%C3%8DCH_TH%E1%BB%90NG_K%C3%8A_M%C3%94_T%E1%BA%A2.ipynb\" target=\"_parent\"><img src=\"https://colab.research.google.com/assets/colab-badge.svg\" alt=\"Open In Colab\"/></a>"
      ]
    },
    {
      "cell_type": "markdown",
      "source": [
        "# **THỰC HÀNH PHÂN TÍCH THỐNG KÊ MÔ TẢ**\n",
        "\n",
        "---\n",
        "\n",
        "\n",
        "\n",
        "\n",
        "---\n",
        "\n"
      ],
      "metadata": {
        "id": "8OIDc4YFmMiQ"
      }
    },
    {
      "cell_type": "markdown",
      "source": [
        "Sử dụng các thư viện cần thiết"
      ],
      "metadata": {
        "id": "VgDaM3TEwaYu"
      }
    },
    {
      "cell_type": "code",
      "execution_count": 1,
      "metadata": {
        "id": "MTDV9MVrwTX9"
      },
      "outputs": [],
      "source": [
        "from google.colab import drive\n",
        "import math\n",
        "import numpy as np\n",
        "import scipy.stats as stats\n",
        "import pandas as pd\n",
        "import matplotlib.pyplot as plt\n",
        "import statistics as sts\n",
        "import seaborn as sns"
      ]
    },
    {
      "cell_type": "markdown",
      "source": [
        "## **PHÂN TÍCH THỐNG KÊ MÔ TẢ  VỚI TẬP DỮ LIỆU \"Inc_Exp_Data.csv\"**"
      ],
      "metadata": {
        "id": "cq_-MVy0yeWi"
      }
    },
    {
      "cell_type": "markdown",
      "source": [
        "> **Bước 1**: Tiến hành lấy tập dữ liệu Inc_Exp_Data.csv từ drive để tiến hành phân tích"
      ],
      "metadata": {
        "id": "p0sagLiuyvPr"
      }
    },
    {
      "cell_type": "code",
      "source": [
        "drive.mount('/content/drive')\n",
        "df = pd.read_csv('/content/drive/MyDrive/Python/Inc_Exp_Data.csv')\n",
        "print(f\"Dữ liệu của tập dữ liệu Inc_Exp_Data.csv:\\n ----------------------------------\\n {df}\")"
      ],
      "metadata": {
        "id": "3NhUjHoGnXUQ",
        "colab": {
          "base_uri": "https://localhost:8080/"
        },
        "outputId": "b551a8ed-8b76-4618-9e72-be47c8628edb"
      },
      "execution_count": 2,
      "outputs": [
        {
          "output_type": "stream",
          "name": "stdout",
          "text": [
            "Mounted at /content/drive\n",
            "Dữ liệu của tập dữ liệu Inc_Exp_Data.csv:\n",
            " ----------------------------------\n",
            "     Mthly_HH_Income  Mthly_HH_Expense  No_of_Fly_Members  Emi_or_Rent_Amt  \\\n",
            "0              5000              8000                  3             2000   \n",
            "1              6000              7000                  2             3000   \n",
            "2             10000              4500                  2                0   \n",
            "3             10000              2000                  1                0   \n",
            "4             12500             12000                  2             3000   \n",
            "5             14000              8000                  2                0   \n",
            "6             15000             16000                  3            35000   \n",
            "7             18000             20000                  5             8000   \n",
            "8             19000              9000                  2                0   \n",
            "9             20000              9000                  4                0   \n",
            "10            20000             18000                  4             8000   \n",
            "11            22000             25000                  6            12000   \n",
            "12            23400              5000                  3                0   \n",
            "13            24000             10500                  6                0   \n",
            "14            24000             10000                  4                0   \n",
            "15            25000             12300                  3                0   \n",
            "16            25000             20000                  3             3500   \n",
            "17            25000             10000                  6                0   \n",
            "18            29000              6600                  2             2000   \n",
            "19            30000             13000                  4                0   \n",
            "20            30500             25000                  5             5000   \n",
            "21            32000             15000                  4                0   \n",
            "22            34000             19000                  6                0   \n",
            "23            34000             25000                  3             4000   \n",
            "24            35000             12000                  3                0   \n",
            "25            35000             25000                  4                0   \n",
            "26            39000              8000                  4                0   \n",
            "27            40000             10000                  4                0   \n",
            "28            42000             15000                  4                0   \n",
            "29            43000             12000                  4                0   \n",
            "30            45000             25000                  6                0   \n",
            "31            45000             40000                  6             3500   \n",
            "32            45000             10000                  2             1000   \n",
            "33            45000             22000                  4             2500   \n",
            "34            46000             25000                  5             3500   \n",
            "35            47000             15000                  7                0   \n",
            "36            50000             20000                  4                0   \n",
            "37            50500             20000                  3                0   \n",
            "38            55000             45000                  6            12000   \n",
            "39            60000             10000                  3                0   \n",
            "40            60000             50000                  6            10000   \n",
            "41            65000             20000                  4             5000   \n",
            "42            70000              9000                  2                0   \n",
            "43            80000             20000                  4                0   \n",
            "44            85000             25000                  5                0   \n",
            "45            90000             48000                  7                0   \n",
            "46            98000             25000                  5                0   \n",
            "47           100000             30000                  6                0   \n",
            "48           100000             50000                  4            20000   \n",
            "49           100000             40000                  6            10000   \n",
            "\n",
            "    Annual_HH_Income Highest_Qualified_Member  No_of_Earning_Members  \n",
            "0              64200           Under-Graduate                      1  \n",
            "1              79920               Illiterate                      1  \n",
            "2             112800           Under-Graduate                      1  \n",
            "3              97200               Illiterate                      1  \n",
            "4             147000                 Graduate                      1  \n",
            "5             196560                 Graduate                      1  \n",
            "6             167400            Post-Graduate                      1  \n",
            "7             216000                 Graduate                      1  \n",
            "8             218880           Under-Graduate                      1  \n",
            "9             220800           Under-Graduate                      2  \n",
            "10            278400           Under-Graduate                      2  \n",
            "11            279840               Illiterate                      1  \n",
            "12            292032               Illiterate                      1  \n",
            "13            316800                 Graduate                      2  \n",
            "14            244800                 Graduate                      2  \n",
            "15            246000                 Graduate                      1  \n",
            "16            261000                 Graduate                      1  \n",
            "17            258000           Under-Graduate                      3  \n",
            "18            348000                 Graduate                      1  \n",
            "19            385200                 Graduate                      1  \n",
            "20            351360           Under-Graduate                      1  \n",
            "21            445440             Professional                      1  \n",
            "22            330480             Professional                      1  \n",
            "23            469200             Professional                      1  \n",
            "24            466200                 Graduate                      1  \n",
            "25            449400             Professional                      2  \n",
            "26            556920           Under-Graduate                      1  \n",
            "27            412800           Under-Graduate                      1  \n",
            "28            488880                 Graduate                      1  \n",
            "29            619200                 Graduate                      1  \n",
            "30            523800                 Graduate                      3  \n",
            "31            507600             Professional                      2  \n",
            "32            437400            Post-Graduate                      1  \n",
            "33            610200            Post-Graduate                      1  \n",
            "34            596160                 Graduate                      1  \n",
            "35            456840             Professional                      4  \n",
            "36            570000             Professional                      1  \n",
            "37            581760             Professional                      2  \n",
            "38            600600                 Graduate                      2  \n",
            "39            590400            Post-Graduate                      1  \n",
            "40            590400                 Graduate                      1  \n",
            "41            647400               Illiterate                      2  \n",
            "42            756000                 Graduate                      1  \n",
            "43           1075200                 Graduate                      1  \n",
            "44           1142400           Under-Graduate                      2  \n",
            "45            885600            Post-Graduate                      3  \n",
            "46           1152480             Professional                      2  \n",
            "47           1404000                 Graduate                      3  \n",
            "48           1032000             Professional                      2  \n",
            "49           1320000            Post-Graduate                      1  \n"
          ]
        }
      ]
    },
    {
      "cell_type": "code",
      "source": [
        "# Đọc tất cả dữ liệu và xuất ra màn hình\n",
        "df.head()"
      ],
      "metadata": {
        "colab": {
          "base_uri": "https://localhost:8080/",
          "height": 206
        },
        "id": "QqpekWTS4gne",
        "outputId": "5615188a-d7df-4fee-89c9-c10a149f969b"
      },
      "execution_count": 3,
      "outputs": [
        {
          "output_type": "execute_result",
          "data": {
            "text/plain": [
              "   Mthly_HH_Income  Mthly_HH_Expense  No_of_Fly_Members  Emi_or_Rent_Amt  \\\n",
              "0             5000              8000                  3             2000   \n",
              "1             6000              7000                  2             3000   \n",
              "2            10000              4500                  2                0   \n",
              "3            10000              2000                  1                0   \n",
              "4            12500             12000                  2             3000   \n",
              "\n",
              "   Annual_HH_Income Highest_Qualified_Member  No_of_Earning_Members  \n",
              "0             64200           Under-Graduate                      1  \n",
              "1             79920               Illiterate                      1  \n",
              "2            112800           Under-Graduate                      1  \n",
              "3             97200               Illiterate                      1  \n",
              "4            147000                 Graduate                      1  "
            ],
            "text/html": [
              "\n",
              "  <div id=\"df-ed8d37dd-4e4a-4761-84bc-58260ad197df\">\n",
              "    <div class=\"colab-df-container\">\n",
              "      <div>\n",
              "<style scoped>\n",
              "    .dataframe tbody tr th:only-of-type {\n",
              "        vertical-align: middle;\n",
              "    }\n",
              "\n",
              "    .dataframe tbody tr th {\n",
              "        vertical-align: top;\n",
              "    }\n",
              "\n",
              "    .dataframe thead th {\n",
              "        text-align: right;\n",
              "    }\n",
              "</style>\n",
              "<table border=\"1\" class=\"dataframe\">\n",
              "  <thead>\n",
              "    <tr style=\"text-align: right;\">\n",
              "      <th></th>\n",
              "      <th>Mthly_HH_Income</th>\n",
              "      <th>Mthly_HH_Expense</th>\n",
              "      <th>No_of_Fly_Members</th>\n",
              "      <th>Emi_or_Rent_Amt</th>\n",
              "      <th>Annual_HH_Income</th>\n",
              "      <th>Highest_Qualified_Member</th>\n",
              "      <th>No_of_Earning_Members</th>\n",
              "    </tr>\n",
              "  </thead>\n",
              "  <tbody>\n",
              "    <tr>\n",
              "      <th>0</th>\n",
              "      <td>5000</td>\n",
              "      <td>8000</td>\n",
              "      <td>3</td>\n",
              "      <td>2000</td>\n",
              "      <td>64200</td>\n",
              "      <td>Under-Graduate</td>\n",
              "      <td>1</td>\n",
              "    </tr>\n",
              "    <tr>\n",
              "      <th>1</th>\n",
              "      <td>6000</td>\n",
              "      <td>7000</td>\n",
              "      <td>2</td>\n",
              "      <td>3000</td>\n",
              "      <td>79920</td>\n",
              "      <td>Illiterate</td>\n",
              "      <td>1</td>\n",
              "    </tr>\n",
              "    <tr>\n",
              "      <th>2</th>\n",
              "      <td>10000</td>\n",
              "      <td>4500</td>\n",
              "      <td>2</td>\n",
              "      <td>0</td>\n",
              "      <td>112800</td>\n",
              "      <td>Under-Graduate</td>\n",
              "      <td>1</td>\n",
              "    </tr>\n",
              "    <tr>\n",
              "      <th>3</th>\n",
              "      <td>10000</td>\n",
              "      <td>2000</td>\n",
              "      <td>1</td>\n",
              "      <td>0</td>\n",
              "      <td>97200</td>\n",
              "      <td>Illiterate</td>\n",
              "      <td>1</td>\n",
              "    </tr>\n",
              "    <tr>\n",
              "      <th>4</th>\n",
              "      <td>12500</td>\n",
              "      <td>12000</td>\n",
              "      <td>2</td>\n",
              "      <td>3000</td>\n",
              "      <td>147000</td>\n",
              "      <td>Graduate</td>\n",
              "      <td>1</td>\n",
              "    </tr>\n",
              "  </tbody>\n",
              "</table>\n",
              "</div>\n",
              "      <button class=\"colab-df-convert\" onclick=\"convertToInteractive('df-ed8d37dd-4e4a-4761-84bc-58260ad197df')\"\n",
              "              title=\"Convert this dataframe to an interactive table.\"\n",
              "              style=\"display:none;\">\n",
              "        \n",
              "  <svg xmlns=\"http://www.w3.org/2000/svg\" height=\"24px\"viewBox=\"0 0 24 24\"\n",
              "       width=\"24px\">\n",
              "    <path d=\"M0 0h24v24H0V0z\" fill=\"none\"/>\n",
              "    <path d=\"M18.56 5.44l.94 2.06.94-2.06 2.06-.94-2.06-.94-.94-2.06-.94 2.06-2.06.94zm-11 1L8.5 8.5l.94-2.06 2.06-.94-2.06-.94L8.5 2.5l-.94 2.06-2.06.94zm10 10l.94 2.06.94-2.06 2.06-.94-2.06-.94-.94-2.06-.94 2.06-2.06.94z\"/><path d=\"M17.41 7.96l-1.37-1.37c-.4-.4-.92-.59-1.43-.59-.52 0-1.04.2-1.43.59L10.3 9.45l-7.72 7.72c-.78.78-.78 2.05 0 2.83L4 21.41c.39.39.9.59 1.41.59.51 0 1.02-.2 1.41-.59l7.78-7.78 2.81-2.81c.8-.78.8-2.07 0-2.86zM5.41 20L4 18.59l7.72-7.72 1.47 1.35L5.41 20z\"/>\n",
              "  </svg>\n",
              "      </button>\n",
              "      \n",
              "  <style>\n",
              "    .colab-df-container {\n",
              "      display:flex;\n",
              "      flex-wrap:wrap;\n",
              "      gap: 12px;\n",
              "    }\n",
              "\n",
              "    .colab-df-convert {\n",
              "      background-color: #E8F0FE;\n",
              "      border: none;\n",
              "      border-radius: 50%;\n",
              "      cursor: pointer;\n",
              "      display: none;\n",
              "      fill: #1967D2;\n",
              "      height: 32px;\n",
              "      padding: 0 0 0 0;\n",
              "      width: 32px;\n",
              "    }\n",
              "\n",
              "    .colab-df-convert:hover {\n",
              "      background-color: #E2EBFA;\n",
              "      box-shadow: 0px 1px 2px rgba(60, 64, 67, 0.3), 0px 1px 3px 1px rgba(60, 64, 67, 0.15);\n",
              "      fill: #174EA6;\n",
              "    }\n",
              "\n",
              "    [theme=dark] .colab-df-convert {\n",
              "      background-color: #3B4455;\n",
              "      fill: #D2E3FC;\n",
              "    }\n",
              "\n",
              "    [theme=dark] .colab-df-convert:hover {\n",
              "      background-color: #434B5C;\n",
              "      box-shadow: 0px 1px 3px 1px rgba(0, 0, 0, 0.15);\n",
              "      filter: drop-shadow(0px 1px 2px rgba(0, 0, 0, 0.3));\n",
              "      fill: #FFFFFF;\n",
              "    }\n",
              "  </style>\n",
              "\n",
              "      <script>\n",
              "        const buttonEl =\n",
              "          document.querySelector('#df-ed8d37dd-4e4a-4761-84bc-58260ad197df button.colab-df-convert');\n",
              "        buttonEl.style.display =\n",
              "          google.colab.kernel.accessAllowed ? 'block' : 'none';\n",
              "\n",
              "        async function convertToInteractive(key) {\n",
              "          const element = document.querySelector('#df-ed8d37dd-4e4a-4761-84bc-58260ad197df');\n",
              "          const dataTable =\n",
              "            await google.colab.kernel.invokeFunction('convertToInteractive',\n",
              "                                                     [key], {});\n",
              "          if (!dataTable) return;\n",
              "\n",
              "          const docLinkHtml = 'Like what you see? Visit the ' +\n",
              "            '<a target=\"_blank\" href=https://colab.research.google.com/notebooks/data_table.ipynb>data table notebook</a>'\n",
              "            + ' to learn more about interactive tables.';\n",
              "          element.innerHTML = '';\n",
              "          dataTable['output_type'] = 'display_data';\n",
              "          await google.colab.output.renderOutput(dataTable, element);\n",
              "          const docLink = document.createElement('div');\n",
              "          docLink.innerHTML = docLinkHtml;\n",
              "          element.appendChild(docLink);\n",
              "        }\n",
              "      </script>\n",
              "    </div>\n",
              "  </div>\n",
              "  "
            ]
          },
          "metadata": {},
          "execution_count": 3
        }
      ]
    },
    {
      "cell_type": "code",
      "source": [
        "# Hiển thị các trường dữ liệu cột\n",
        "df.columns"
      ],
      "metadata": {
        "colab": {
          "base_uri": "https://localhost:8080/"
        },
        "id": "uBIct6ZGHdI1",
        "outputId": "3e010e9f-71ee-43af-ad43-8eb35613accf"
      },
      "execution_count": 4,
      "outputs": [
        {
          "output_type": "execute_result",
          "data": {
            "text/plain": [
              "Index(['Mthly_HH_Income', 'Mthly_HH_Expense', 'No_of_Fly_Members',\n",
              "       'Emi_or_Rent_Amt', 'Annual_HH_Income', 'Highest_Qualified_Member',\n",
              "       'No_of_Earning_Members'],\n",
              "      dtype='object')"
            ]
          },
          "metadata": {},
          "execution_count": 4
        }
      ]
    },
    {
      "cell_type": "code",
      "source": [
        "df.info()"
      ],
      "metadata": {
        "colab": {
          "base_uri": "https://localhost:8080/"
        },
        "id": "J4kN0IWDvAMC",
        "outputId": "2ce67098-4818-48d2-f4ac-cfd98e4e3754"
      },
      "execution_count": 5,
      "outputs": [
        {
          "output_type": "stream",
          "name": "stdout",
          "text": [
            "<class 'pandas.core.frame.DataFrame'>\n",
            "RangeIndex: 50 entries, 0 to 49\n",
            "Data columns (total 7 columns):\n",
            " #   Column                    Non-Null Count  Dtype \n",
            "---  ------                    --------------  ----- \n",
            " 0   Mthly_HH_Income           50 non-null     int64 \n",
            " 1   Mthly_HH_Expense          50 non-null     int64 \n",
            " 2   No_of_Fly_Members         50 non-null     int64 \n",
            " 3   Emi_or_Rent_Amt           50 non-null     int64 \n",
            " 4   Annual_HH_Income          50 non-null     int64 \n",
            " 5   Highest_Qualified_Member  50 non-null     object\n",
            " 6   No_of_Earning_Members     50 non-null     int64 \n",
            "dtypes: int64(6), object(1)\n",
            "memory usage: 2.9+ KB\n"
          ]
        }
      ]
    },
    {
      "cell_type": "markdown",
      "source": [
        "> **Bước 2**: Đối với các cột dữ liệu định lượng, ta áp dụng các phép tính hướng tâm, phép tính phương sai - độ lệch chuẩn, các phép tính phân vị, cực đại - cực tiểu để tính các thông sô cơ bản của các cột dữ liệu định lượng này."
      ],
      "metadata": {
        "id": "fvgy3-zJNZJQ"
      }
    },
    {
      "cell_type": "code",
      "source": [
        "# Lựa chọn các cột dữ liệu có kiểu dữ liệu định lượng\n",
        "df1 = pd.DataFrame(df, columns = ['Mthly_HH_Income' , 'Mthly_HH_Expense' , 'No_of_Fly_Members' , 'Emi_or_Rent_Amt' , 'Annual_HH_Income'])\n",
        "df1.head()"
      ],
      "metadata": {
        "id": "Q7HD17hm7oh-",
        "colab": {
          "base_uri": "https://localhost:8080/",
          "height": 206
        },
        "outputId": "12732e07-ffa1-451a-f347-1037754a1e9a"
      },
      "execution_count": 52,
      "outputs": [
        {
          "output_type": "execute_result",
          "data": {
            "text/plain": [
              "   Mthly_HH_Income  Mthly_HH_Expense  No_of_Fly_Members  Emi_or_Rent_Amt  \\\n",
              "0             5000              8000                  3             2000   \n",
              "1             6000              7000                  2             3000   \n",
              "2            10000              4500                  2                0   \n",
              "3            10000              2000                  1                0   \n",
              "4            12500             12000                  2             3000   \n",
              "\n",
              "   Annual_HH_Income  \n",
              "0             64200  \n",
              "1             79920  \n",
              "2            112800  \n",
              "3             97200  \n",
              "4            147000  "
            ],
            "text/html": [
              "\n",
              "  <div id=\"df-792c4680-8669-425c-881f-44412f37cf44\">\n",
              "    <div class=\"colab-df-container\">\n",
              "      <div>\n",
              "<style scoped>\n",
              "    .dataframe tbody tr th:only-of-type {\n",
              "        vertical-align: middle;\n",
              "    }\n",
              "\n",
              "    .dataframe tbody tr th {\n",
              "        vertical-align: top;\n",
              "    }\n",
              "\n",
              "    .dataframe thead th {\n",
              "        text-align: right;\n",
              "    }\n",
              "</style>\n",
              "<table border=\"1\" class=\"dataframe\">\n",
              "  <thead>\n",
              "    <tr style=\"text-align: right;\">\n",
              "      <th></th>\n",
              "      <th>Mthly_HH_Income</th>\n",
              "      <th>Mthly_HH_Expense</th>\n",
              "      <th>No_of_Fly_Members</th>\n",
              "      <th>Emi_or_Rent_Amt</th>\n",
              "      <th>Annual_HH_Income</th>\n",
              "    </tr>\n",
              "  </thead>\n",
              "  <tbody>\n",
              "    <tr>\n",
              "      <th>0</th>\n",
              "      <td>5000</td>\n",
              "      <td>8000</td>\n",
              "      <td>3</td>\n",
              "      <td>2000</td>\n",
              "      <td>64200</td>\n",
              "    </tr>\n",
              "    <tr>\n",
              "      <th>1</th>\n",
              "      <td>6000</td>\n",
              "      <td>7000</td>\n",
              "      <td>2</td>\n",
              "      <td>3000</td>\n",
              "      <td>79920</td>\n",
              "    </tr>\n",
              "    <tr>\n",
              "      <th>2</th>\n",
              "      <td>10000</td>\n",
              "      <td>4500</td>\n",
              "      <td>2</td>\n",
              "      <td>0</td>\n",
              "      <td>112800</td>\n",
              "    </tr>\n",
              "    <tr>\n",
              "      <th>3</th>\n",
              "      <td>10000</td>\n",
              "      <td>2000</td>\n",
              "      <td>1</td>\n",
              "      <td>0</td>\n",
              "      <td>97200</td>\n",
              "    </tr>\n",
              "    <tr>\n",
              "      <th>4</th>\n",
              "      <td>12500</td>\n",
              "      <td>12000</td>\n",
              "      <td>2</td>\n",
              "      <td>3000</td>\n",
              "      <td>147000</td>\n",
              "    </tr>\n",
              "  </tbody>\n",
              "</table>\n",
              "</div>\n",
              "      <button class=\"colab-df-convert\" onclick=\"convertToInteractive('df-792c4680-8669-425c-881f-44412f37cf44')\"\n",
              "              title=\"Convert this dataframe to an interactive table.\"\n",
              "              style=\"display:none;\">\n",
              "        \n",
              "  <svg xmlns=\"http://www.w3.org/2000/svg\" height=\"24px\"viewBox=\"0 0 24 24\"\n",
              "       width=\"24px\">\n",
              "    <path d=\"M0 0h24v24H0V0z\" fill=\"none\"/>\n",
              "    <path d=\"M18.56 5.44l.94 2.06.94-2.06 2.06-.94-2.06-.94-.94-2.06-.94 2.06-2.06.94zm-11 1L8.5 8.5l.94-2.06 2.06-.94-2.06-.94L8.5 2.5l-.94 2.06-2.06.94zm10 10l.94 2.06.94-2.06 2.06-.94-2.06-.94-.94-2.06-.94 2.06-2.06.94z\"/><path d=\"M17.41 7.96l-1.37-1.37c-.4-.4-.92-.59-1.43-.59-.52 0-1.04.2-1.43.59L10.3 9.45l-7.72 7.72c-.78.78-.78 2.05 0 2.83L4 21.41c.39.39.9.59 1.41.59.51 0 1.02-.2 1.41-.59l7.78-7.78 2.81-2.81c.8-.78.8-2.07 0-2.86zM5.41 20L4 18.59l7.72-7.72 1.47 1.35L5.41 20z\"/>\n",
              "  </svg>\n",
              "      </button>\n",
              "      \n",
              "  <style>\n",
              "    .colab-df-container {\n",
              "      display:flex;\n",
              "      flex-wrap:wrap;\n",
              "      gap: 12px;\n",
              "    }\n",
              "\n",
              "    .colab-df-convert {\n",
              "      background-color: #E8F0FE;\n",
              "      border: none;\n",
              "      border-radius: 50%;\n",
              "      cursor: pointer;\n",
              "      display: none;\n",
              "      fill: #1967D2;\n",
              "      height: 32px;\n",
              "      padding: 0 0 0 0;\n",
              "      width: 32px;\n",
              "    }\n",
              "\n",
              "    .colab-df-convert:hover {\n",
              "      background-color: #E2EBFA;\n",
              "      box-shadow: 0px 1px 2px rgba(60, 64, 67, 0.3), 0px 1px 3px 1px rgba(60, 64, 67, 0.15);\n",
              "      fill: #174EA6;\n",
              "    }\n",
              "\n",
              "    [theme=dark] .colab-df-convert {\n",
              "      background-color: #3B4455;\n",
              "      fill: #D2E3FC;\n",
              "    }\n",
              "\n",
              "    [theme=dark] .colab-df-convert:hover {\n",
              "      background-color: #434B5C;\n",
              "      box-shadow: 0px 1px 3px 1px rgba(0, 0, 0, 0.15);\n",
              "      filter: drop-shadow(0px 1px 2px rgba(0, 0, 0, 0.3));\n",
              "      fill: #FFFFFF;\n",
              "    }\n",
              "  </style>\n",
              "\n",
              "      <script>\n",
              "        const buttonEl =\n",
              "          document.querySelector('#df-792c4680-8669-425c-881f-44412f37cf44 button.colab-df-convert');\n",
              "        buttonEl.style.display =\n",
              "          google.colab.kernel.accessAllowed ? 'block' : 'none';\n",
              "\n",
              "        async function convertToInteractive(key) {\n",
              "          const element = document.querySelector('#df-792c4680-8669-425c-881f-44412f37cf44');\n",
              "          const dataTable =\n",
              "            await google.colab.kernel.invokeFunction('convertToInteractive',\n",
              "                                                     [key], {});\n",
              "          if (!dataTable) return;\n",
              "\n",
              "          const docLinkHtml = 'Like what you see? Visit the ' +\n",
              "            '<a target=\"_blank\" href=https://colab.research.google.com/notebooks/data_table.ipynb>data table notebook</a>'\n",
              "            + ' to learn more about interactive tables.';\n",
              "          element.innerHTML = '';\n",
              "          dataTable['output_type'] = 'display_data';\n",
              "          await google.colab.output.renderOutput(dataTable, element);\n",
              "          const docLink = document.createElement('div');\n",
              "          docLink.innerHTML = docLinkHtml;\n",
              "          element.appendChild(docLink);\n",
              "        }\n",
              "      </script>\n",
              "    </div>\n",
              "  </div>\n",
              "  "
            ]
          },
          "metadata": {},
          "execution_count": 52
        }
      ]
    },
    {
      "cell_type": "code",
      "source": [
        "# Tính toán các thông số cần thiết\n",
        "df1.describe()"
      ],
      "metadata": {
        "id": "I5TCfJlgmB3m",
        "outputId": "c47ff3a3-aa8f-4cbc-b89e-3095be1b9fc2",
        "colab": {
          "base_uri": "https://localhost:8080/",
          "height": 300
        }
      },
      "execution_count": 53,
      "outputs": [
        {
          "output_type": "execute_result",
          "data": {
            "text/plain": [
              "       Mthly_HH_Income  Mthly_HH_Expense  No_of_Fly_Members  Emi_or_Rent_Amt  \\\n",
              "count        50.000000         50.000000          50.000000        50.000000   \n",
              "mean      41558.000000      18818.000000           4.060000      3060.000000   \n",
              "std       26097.908979      12090.216824           1.517382      6241.434948   \n",
              "min        5000.000000       2000.000000           1.000000         0.000000   \n",
              "25%       23550.000000      10000.000000           3.000000         0.000000   \n",
              "50%       35000.000000      15500.000000           4.000000         0.000000   \n",
              "75%       50375.000000      25000.000000           5.000000      3500.000000   \n",
              "max      100000.000000      50000.000000           7.000000     35000.000000   \n",
              "\n",
              "       Annual_HH_Income  \n",
              "count      5.000000e+01  \n",
              "mean       4.900190e+05  \n",
              "std        3.201358e+05  \n",
              "min        6.420000e+04  \n",
              "25%        2.587500e+05  \n",
              "50%        4.474200e+05  \n",
              "75%        5.947200e+05  \n",
              "max        1.404000e+06  "
            ],
            "text/html": [
              "\n",
              "  <div id=\"df-a735bcb9-9332-45a1-9ea8-24138c063506\">\n",
              "    <div class=\"colab-df-container\">\n",
              "      <div>\n",
              "<style scoped>\n",
              "    .dataframe tbody tr th:only-of-type {\n",
              "        vertical-align: middle;\n",
              "    }\n",
              "\n",
              "    .dataframe tbody tr th {\n",
              "        vertical-align: top;\n",
              "    }\n",
              "\n",
              "    .dataframe thead th {\n",
              "        text-align: right;\n",
              "    }\n",
              "</style>\n",
              "<table border=\"1\" class=\"dataframe\">\n",
              "  <thead>\n",
              "    <tr style=\"text-align: right;\">\n",
              "      <th></th>\n",
              "      <th>Mthly_HH_Income</th>\n",
              "      <th>Mthly_HH_Expense</th>\n",
              "      <th>No_of_Fly_Members</th>\n",
              "      <th>Emi_or_Rent_Amt</th>\n",
              "      <th>Annual_HH_Income</th>\n",
              "    </tr>\n",
              "  </thead>\n",
              "  <tbody>\n",
              "    <tr>\n",
              "      <th>count</th>\n",
              "      <td>50.000000</td>\n",
              "      <td>50.000000</td>\n",
              "      <td>50.000000</td>\n",
              "      <td>50.000000</td>\n",
              "      <td>5.000000e+01</td>\n",
              "    </tr>\n",
              "    <tr>\n",
              "      <th>mean</th>\n",
              "      <td>41558.000000</td>\n",
              "      <td>18818.000000</td>\n",
              "      <td>4.060000</td>\n",
              "      <td>3060.000000</td>\n",
              "      <td>4.900190e+05</td>\n",
              "    </tr>\n",
              "    <tr>\n",
              "      <th>std</th>\n",
              "      <td>26097.908979</td>\n",
              "      <td>12090.216824</td>\n",
              "      <td>1.517382</td>\n",
              "      <td>6241.434948</td>\n",
              "      <td>3.201358e+05</td>\n",
              "    </tr>\n",
              "    <tr>\n",
              "      <th>min</th>\n",
              "      <td>5000.000000</td>\n",
              "      <td>2000.000000</td>\n",
              "      <td>1.000000</td>\n",
              "      <td>0.000000</td>\n",
              "      <td>6.420000e+04</td>\n",
              "    </tr>\n",
              "    <tr>\n",
              "      <th>25%</th>\n",
              "      <td>23550.000000</td>\n",
              "      <td>10000.000000</td>\n",
              "      <td>3.000000</td>\n",
              "      <td>0.000000</td>\n",
              "      <td>2.587500e+05</td>\n",
              "    </tr>\n",
              "    <tr>\n",
              "      <th>50%</th>\n",
              "      <td>35000.000000</td>\n",
              "      <td>15500.000000</td>\n",
              "      <td>4.000000</td>\n",
              "      <td>0.000000</td>\n",
              "      <td>4.474200e+05</td>\n",
              "    </tr>\n",
              "    <tr>\n",
              "      <th>75%</th>\n",
              "      <td>50375.000000</td>\n",
              "      <td>25000.000000</td>\n",
              "      <td>5.000000</td>\n",
              "      <td>3500.000000</td>\n",
              "      <td>5.947200e+05</td>\n",
              "    </tr>\n",
              "    <tr>\n",
              "      <th>max</th>\n",
              "      <td>100000.000000</td>\n",
              "      <td>50000.000000</td>\n",
              "      <td>7.000000</td>\n",
              "      <td>35000.000000</td>\n",
              "      <td>1.404000e+06</td>\n",
              "    </tr>\n",
              "  </tbody>\n",
              "</table>\n",
              "</div>\n",
              "      <button class=\"colab-df-convert\" onclick=\"convertToInteractive('df-a735bcb9-9332-45a1-9ea8-24138c063506')\"\n",
              "              title=\"Convert this dataframe to an interactive table.\"\n",
              "              style=\"display:none;\">\n",
              "        \n",
              "  <svg xmlns=\"http://www.w3.org/2000/svg\" height=\"24px\"viewBox=\"0 0 24 24\"\n",
              "       width=\"24px\">\n",
              "    <path d=\"M0 0h24v24H0V0z\" fill=\"none\"/>\n",
              "    <path d=\"M18.56 5.44l.94 2.06.94-2.06 2.06-.94-2.06-.94-.94-2.06-.94 2.06-2.06.94zm-11 1L8.5 8.5l.94-2.06 2.06-.94-2.06-.94L8.5 2.5l-.94 2.06-2.06.94zm10 10l.94 2.06.94-2.06 2.06-.94-2.06-.94-.94-2.06-.94 2.06-2.06.94z\"/><path d=\"M17.41 7.96l-1.37-1.37c-.4-.4-.92-.59-1.43-.59-.52 0-1.04.2-1.43.59L10.3 9.45l-7.72 7.72c-.78.78-.78 2.05 0 2.83L4 21.41c.39.39.9.59 1.41.59.51 0 1.02-.2 1.41-.59l7.78-7.78 2.81-2.81c.8-.78.8-2.07 0-2.86zM5.41 20L4 18.59l7.72-7.72 1.47 1.35L5.41 20z\"/>\n",
              "  </svg>\n",
              "      </button>\n",
              "      \n",
              "  <style>\n",
              "    .colab-df-container {\n",
              "      display:flex;\n",
              "      flex-wrap:wrap;\n",
              "      gap: 12px;\n",
              "    }\n",
              "\n",
              "    .colab-df-convert {\n",
              "      background-color: #E8F0FE;\n",
              "      border: none;\n",
              "      border-radius: 50%;\n",
              "      cursor: pointer;\n",
              "      display: none;\n",
              "      fill: #1967D2;\n",
              "      height: 32px;\n",
              "      padding: 0 0 0 0;\n",
              "      width: 32px;\n",
              "    }\n",
              "\n",
              "    .colab-df-convert:hover {\n",
              "      background-color: #E2EBFA;\n",
              "      box-shadow: 0px 1px 2px rgba(60, 64, 67, 0.3), 0px 1px 3px 1px rgba(60, 64, 67, 0.15);\n",
              "      fill: #174EA6;\n",
              "    }\n",
              "\n",
              "    [theme=dark] .colab-df-convert {\n",
              "      background-color: #3B4455;\n",
              "      fill: #D2E3FC;\n",
              "    }\n",
              "\n",
              "    [theme=dark] .colab-df-convert:hover {\n",
              "      background-color: #434B5C;\n",
              "      box-shadow: 0px 1px 3px 1px rgba(0, 0, 0, 0.15);\n",
              "      filter: drop-shadow(0px 1px 2px rgba(0, 0, 0, 0.3));\n",
              "      fill: #FFFFFF;\n",
              "    }\n",
              "  </style>\n",
              "\n",
              "      <script>\n",
              "        const buttonEl =\n",
              "          document.querySelector('#df-a735bcb9-9332-45a1-9ea8-24138c063506 button.colab-df-convert');\n",
              "        buttonEl.style.display =\n",
              "          google.colab.kernel.accessAllowed ? 'block' : 'none';\n",
              "\n",
              "        async function convertToInteractive(key) {\n",
              "          const element = document.querySelector('#df-a735bcb9-9332-45a1-9ea8-24138c063506');\n",
              "          const dataTable =\n",
              "            await google.colab.kernel.invokeFunction('convertToInteractive',\n",
              "                                                     [key], {});\n",
              "          if (!dataTable) return;\n",
              "\n",
              "          const docLinkHtml = 'Like what you see? Visit the ' +\n",
              "            '<a target=\"_blank\" href=https://colab.research.google.com/notebooks/data_table.ipynb>data table notebook</a>'\n",
              "            + ' to learn more about interactive tables.';\n",
              "          element.innerHTML = '';\n",
              "          dataTable['output_type'] = 'display_data';\n",
              "          await google.colab.output.renderOutput(dataTable, element);\n",
              "          const docLink = document.createElement('div');\n",
              "          docLink.innerHTML = docLinkHtml;\n",
              "          element.appendChild(docLink);\n",
              "        }\n",
              "      </script>\n",
              "    </div>\n",
              "  </div>\n",
              "  "
            ]
          },
          "metadata": {},
          "execution_count": 53
        }
      ]
    },
    {
      "cell_type": "markdown",
      "source": [
        "> **Bước 2**: Vẽ biểu đồ boxplot cho từng cột dữ liệu định lượng và xác định xem có xuất hiện các  ngoại lệ hay không"
      ],
      "metadata": {
        "id": "yNFqCsKomWtZ"
      }
    },
    {
      "cell_type": "code",
      "source": [
        "df1.boxplot('Mthly_HH_Income')"
      ],
      "metadata": {
        "id": "1q_-DC8B7wZv",
        "colab": {
          "base_uri": "https://localhost:8080/",
          "height": 284
        },
        "outputId": "e6b2e6b0-0315-41d2-f1f6-45e7914edac0"
      },
      "execution_count": 10,
      "outputs": [
        {
          "output_type": "execute_result",
          "data": {
            "text/plain": [
              "<matplotlib.axes._subplots.AxesSubplot at 0x7f35b2cecfd0>"
            ]
          },
          "metadata": {},
          "execution_count": 10
        },
        {
          "output_type": "display_data",
          "data": {
            "text/plain": [
              "<Figure size 432x288 with 1 Axes>"
            ],
            "image/png": "[encoded data removed]"
          },
          "metadata": {
            "needs_background": "light"
          }
        }
      ]
    },
    {
      "cell_type": "code",
      "source": [
        "df1.boxplot('Mthly_HH_Expense')"
      ],
      "metadata": {
        "id": "9GcWjKr6EjB7",
        "colab": {
          "base_uri": "https://localhost:8080/",
          "height": 284
        },
        "outputId": "e42c0c7c-fea8-438e-e4f2-1fbb07b20ec9"
      },
      "execution_count": 11,
      "outputs": [
        {
          "output_type": "execute_result",
          "data": {
            "text/plain": [
              "<matplotlib.axes._subplots.AxesSubplot at 0x7f35b2c4c890>"
            ]
          },
          "metadata": {},
          "execution_count": 11
        },
        {
          "output_type": "display_data",
          "data": {
            "text/plain": [
              "<Figure size 432x288 with 1 Axes>"
            ],
            "image/png": "[encoded data removed]"
          },
          "metadata": {
            "needs_background": "light"
          }
        }
      ]
    },
    {
      "cell_type": "code",
      "source": [
        "df1.boxplot('No_of_Fly_Members')"
      ],
      "metadata": {
        "colab": {
          "base_uri": "https://localhost:8080/",
          "height": 284
        },
        "id": "ORAPVEpRpn33",
        "outputId": "0867c990-0783-4ff1-e299-784ce08d5c1a"
      },
      "execution_count": 12,
      "outputs": [
        {
          "output_type": "execute_result",
          "data": {
            "text/plain": [
              "<matplotlib.axes._subplots.AxesSubplot at 0x7f35b2762d50>"
            ]
          },
          "metadata": {},
          "execution_count": 12
        },
        {
          "output_type": "display_data",
          "data": {
            "text/plain": [
              "<Figure size 432x288 with 1 Axes>"
            ],
            "image/png": "[encoded data removed]"
          },
          "metadata": {
            "needs_background": "light"
          }
        }
      ]
    },
    {
      "cell_type": "code",
      "source": [
        "df1.boxplot('Emi_or_Rent_Amt')"
      ],
      "metadata": {
        "colab": {
          "base_uri": "https://localhost:8080/",
          "height": 284
        },
        "id": "MeNCXnEipuU5",
        "outputId": "50055d16-8117-4d20-8ee9-93e14742d75a"
      },
      "execution_count": 13,
      "outputs": [
        {
          "output_type": "execute_result",
          "data": {
            "text/plain": [
              "<matplotlib.axes._subplots.AxesSubplot at 0x7f35b26eb710>"
            ]
          },
          "metadata": {},
          "execution_count": 13
        },
        {
          "output_type": "display_data",
          "data": {
            "text/plain": [
              "<Figure size 432x288 with 1 Axes>"
            ],
            "image/png": "[encoded data removed]"
          },
          "metadata": {
            "needs_background": "light"
          }
        }
      ]
    },
    {
      "cell_type": "code",
      "source": [
        "df1.boxplot('Annual_HH_Income')"
      ],
      "metadata": {
        "colab": {
          "base_uri": "https://localhost:8080/",
          "height": 295
        },
        "id": "0zqrTTK56rcA",
        "outputId": "ed598c57-1948-499d-8263-c65a3547bf19"
      },
      "execution_count": 54,
      "outputs": [
        {
          "output_type": "execute_result",
          "data": {
            "text/plain": [
              "<matplotlib.axes._subplots.AxesSubplot at 0x7f35ae7f2550>"
            ]
          },
          "metadata": {},
          "execution_count": 54
        },
        {
          "output_type": "display_data",
          "data": {
            "text/plain": [
              "<Figure size 432x288 with 1 Axes>"
            ],
            "image/png": "[encoded data removed]"
          },
          "metadata": {
            "needs_background": "light"
          }
        }
      ]
    },
    {
      "cell_type": "markdown",
      "source": [
        "  **Nhận xét:**\n",
        "\n",
        "Các cột định lượng chứa giá trị ngoại lệ, bao gồm:\n",
        "\n",
        "1) Mthly_HH_Income\n",
        "\n",
        "2) Mthly_HH_Expense\n",
        "\n",
        "3) No_of_Fly_Members\tEmi_or_Rent_Amt\n",
        "\n",
        "4) Annual_HH_Income\n",
        "\t\t"
      ],
      "metadata": {
        "id": "g_C3FnaLoJRU"
      }
    },
    {
      "cell_type": "markdown",
      "source": [
        "> **Bước 3**: Loại bỏ các hàng có chứa giá trị ngoại lệ ra khỏi dataframe."
      ],
      "metadata": {
        "id": "GooWDoM2Q8Qh"
      }
    },
    {
      "cell_type": "code",
      "source": [
        "# Gộp các cột chứa giá trị ngoại lệ vào biến df2\n",
        "df2 = pd.DataFrame(df, columns = ['Mthly_HH_Income' ,\t'Mthly_HH_Expense' , 'No_of_Fly_Members' ,\t'Emi_or_Rent_Amt' , 'Annual_HH_Income'])"
      ],
      "metadata": {
        "id": "sHjW1SlLcLD1"
      },
      "execution_count": 55,
      "outputs": []
    },
    {
      "cell_type": "code",
      "source": [
        "# Thay thế các giá trị nan bằng giá trị trung bình của các cột 'Mthly_HH_Income' ,\t'Mthly_HH_Expense' , 'No_of_Fly_Members' ,\t'Emi_or_Rent_Amt'\n",
        "colname_df2= df2.columns \n",
        "for i in colname_df2:\n",
        "  df2[i] = df2[i].fillna(df2[i].mean())"
      ],
      "metadata": {
        "id": "FqSb-yB5RcLF"
      },
      "execution_count": 56,
      "outputs": []
    },
    {
      "cell_type": "code",
      "source": [
        "# Sử dụng thư viện scipy để thực hiện tính toán giá trị zscore.\n",
        "df2_zscore = np.abs(stats.zscore(df2))\n",
        "\n",
        "# Loại bỏ giá trị ngoại biên\n",
        "df2_zscore = df2[(df2_zscore < 3).all(axis=1)]\n",
        "\n",
        "print(f\"Dũe liệu sau khi được loại bỏ các giá trị ngoại biên:\\n {df2_zscore}\")\n"
      ],
      "metadata": {
        "id": "1_0nE3zORzB5",
        "colab": {
          "base_uri": "https://localhost:8080/"
        },
        "outputId": "98b9914e-5f2a-4f49-fce7-c2dcc355117b"
      },
      "execution_count": 57,
      "outputs": [
        {
          "output_type": "stream",
          "name": "stdout",
          "text": [
            "Dũe liệu sau khi được loại bỏ các giá trị ngoại biên:\n",
            "     Mthly_HH_Income  Mthly_HH_Expense  No_of_Fly_Members  Emi_or_Rent_Amt  \\\n",
            "0              5000              8000                  3             2000   \n",
            "1              6000              7000                  2             3000   \n",
            "2             10000              4500                  2                0   \n",
            "3             10000              2000                  1                0   \n",
            "4             12500             12000                  2             3000   \n",
            "5             14000              8000                  2                0   \n",
            "7             18000             20000                  5             8000   \n",
            "8             19000              9000                  2                0   \n",
            "9             20000              9000                  4                0   \n",
            "10            20000             18000                  4             8000   \n",
            "11            22000             25000                  6            12000   \n",
            "12            23400              5000                  3                0   \n",
            "13            24000             10500                  6                0   \n",
            "14            24000             10000                  4                0   \n",
            "15            25000             12300                  3                0   \n",
            "16            25000             20000                  3             3500   \n",
            "17            25000             10000                  6                0   \n",
            "18            29000              6600                  2             2000   \n",
            "19            30000             13000                  4                0   \n",
            "20            30500             25000                  5             5000   \n",
            "21            32000             15000                  4                0   \n",
            "22            34000             19000                  6                0   \n",
            "23            34000             25000                  3             4000   \n",
            "24            35000             12000                  3                0   \n",
            "25            35000             25000                  4                0   \n",
            "26            39000              8000                  4                0   \n",
            "27            40000             10000                  4                0   \n",
            "28            42000             15000                  4                0   \n",
            "29            43000             12000                  4                0   \n",
            "30            45000             25000                  6                0   \n",
            "31            45000             40000                  6             3500   \n",
            "32            45000             10000                  2             1000   \n",
            "33            45000             22000                  4             2500   \n",
            "34            46000             25000                  5             3500   \n",
            "35            47000             15000                  7                0   \n",
            "36            50000             20000                  4                0   \n",
            "37            50500             20000                  3                0   \n",
            "38            55000             45000                  6            12000   \n",
            "39            60000             10000                  3                0   \n",
            "40            60000             50000                  6            10000   \n",
            "41            65000             20000                  4             5000   \n",
            "42            70000              9000                  2                0   \n",
            "43            80000             20000                  4                0   \n",
            "44            85000             25000                  5                0   \n",
            "45            90000             48000                  7                0   \n",
            "46            98000             25000                  5                0   \n",
            "47           100000             30000                  6                0   \n",
            "48           100000             50000                  4            20000   \n",
            "49           100000             40000                  6            10000   \n",
            "\n",
            "    Annual_HH_Income  \n",
            "0              64200  \n",
            "1              79920  \n",
            "2             112800  \n",
            "3              97200  \n",
            "4             147000  \n",
            "5             196560  \n",
            "7             216000  \n",
            "8             218880  \n",
            "9             220800  \n",
            "10            278400  \n",
            "11            279840  \n",
            "12            292032  \n",
            "13            316800  \n",
            "14            244800  \n",
            "15            246000  \n",
            "16            261000  \n",
            "17            258000  \n",
            "18            348000  \n",
            "19            385200  \n",
            "20            351360  \n",
            "21            445440  \n",
            "22            330480  \n",
            "23            469200  \n",
            "24            466200  \n",
            "25            449400  \n",
            "26            556920  \n",
            "27            412800  \n",
            "28            488880  \n",
            "29            619200  \n",
            "30            523800  \n",
            "31            507600  \n",
            "32            437400  \n",
            "33            610200  \n",
            "34            596160  \n",
            "35            456840  \n",
            "36            570000  \n",
            "37            581760  \n",
            "38            600600  \n",
            "39            590400  \n",
            "40            590400  \n",
            "41            647400  \n",
            "42            756000  \n",
            "43           1075200  \n",
            "44           1142400  \n",
            "45            885600  \n",
            "46           1152480  \n",
            "47           1404000  \n",
            "48           1032000  \n",
            "49           1320000  \n"
          ]
        }
      ]
    },
    {
      "cell_type": "markdown",
      "source": [
        "> **Bước 4**: Tính toán các thông số cần thiết và vẽ biểu đồ sau khi loại bỏ các giá trị ngoại lệ"
      ],
      "metadata": {
        "id": "J26St71VSi_p"
      }
    },
    {
      "cell_type": "code",
      "source": [
        "df2_zscore.describe() "
      ],
      "metadata": {
        "id": "_Y518tqiq3-b",
        "colab": {
          "base_uri": "https://localhost:8080/",
          "height": 300
        },
        "outputId": "b2cb3603-192f-4eba-c296-f15ddbae04ad"
      },
      "execution_count": 58,
      "outputs": [
        {
          "output_type": "execute_result",
          "data": {
            "text/plain": [
              "       Mthly_HH_Income  Mthly_HH_Expense  No_of_Fly_Members  Emi_or_Rent_Amt  \\\n",
              "count        49.000000         49.000000          49.000000        49.000000   \n",
              "mean      42100.000000      18875.510204           4.081633      2408.163265   \n",
              "std       26082.489337      12208.595514           1.525297      4252.050326   \n",
              "min        5000.000000       2000.000000           1.000000         0.000000   \n",
              "25%       24000.000000      10000.000000           3.000000         0.000000   \n",
              "50%       35000.000000      15000.000000           4.000000         0.000000   \n",
              "75%       50500.000000      25000.000000           5.000000      3500.000000   \n",
              "max      100000.000000      50000.000000           7.000000     20000.000000   \n",
              "\n",
              "       Annual_HH_Income  \n",
              "count      4.900000e+01  \n",
              "mean       4.966031e+05  \n",
              "std        3.200147e+05  \n",
              "min        6.420000e+04  \n",
              "25%        2.610000e+05  \n",
              "50%        4.494000e+05  \n",
              "75%        5.961600e+05  \n",
              "max        1.404000e+06  "
            ],
            "text/html": [
              "\n",
              "  <div id=\"df-0a86356d-6de0-4464-b737-15dd2d2266f1\">\n",
              "    <div class=\"colab-df-container\">\n",
              "      <div>\n",
              "<style scoped>\n",
              "    .dataframe tbody tr th:only-of-type {\n",
              "        vertical-align: middle;\n",
              "    }\n",
              "\n",
              "    .dataframe tbody tr th {\n",
              "        vertical-align: top;\n",
              "    }\n",
              "\n",
              "    .dataframe thead th {\n",
              "        text-align: right;\n",
              "    }\n",
              "</style>\n",
              "<table border=\"1\" class=\"dataframe\">\n",
              "  <thead>\n",
              "    <tr style=\"text-align: right;\">\n",
              "      <th></th>\n",
              "      <th>Mthly_HH_Income</th>\n",
              "      <th>Mthly_HH_Expense</th>\n",
              "      <th>No_of_Fly_Members</th>\n",
              "      <th>Emi_or_Rent_Amt</th>\n",
              "      <th>Annual_HH_Income</th>\n",
              "    </tr>\n",
              "  </thead>\n",
              "  <tbody>\n",
              "    <tr>\n",
              "      <th>count</th>\n",
              "      <td>49.000000</td>\n",
              "      <td>49.000000</td>\n",
              "      <td>49.000000</td>\n",
              "      <td>49.000000</td>\n",
              "      <td>4.900000e+01</td>\n",
              "    </tr>\n",
              "    <tr>\n",
              "      <th>mean</th>\n",
              "      <td>42100.000000</td>\n",
              "      <td>18875.510204</td>\n",
              "      <td>4.081633</td>\n",
              "      <td>2408.163265</td>\n",
              "      <td>4.966031e+05</td>\n",
              "    </tr>\n",
              "    <tr>\n",
              "      <th>std</th>\n",
              "      <td>26082.489337</td>\n",
              "      <td>12208.595514</td>\n",
              "      <td>1.525297</td>\n",
              "      <td>4252.050326</td>\n",
              "      <td>3.200147e+05</td>\n",
              "    </tr>\n",
              "    <tr>\n",
              "      <th>min</th>\n",
              "      <td>5000.000000</td>\n",
              "      <td>2000.000000</td>\n",
              "      <td>1.000000</td>\n",
              "      <td>0.000000</td>\n",
              "      <td>6.420000e+04</td>\n",
              "    </tr>\n",
              "    <tr>\n",
              "      <th>25%</th>\n",
              "      <td>24000.000000</td>\n",
              "      <td>10000.000000</td>\n",
              "      <td>3.000000</td>\n",
              "      <td>0.000000</td>\n",
              "      <td>2.610000e+05</td>\n",
              "    </tr>\n",
              "    <tr>\n",
              "      <th>50%</th>\n",
              "      <td>35000.000000</td>\n",
              "      <td>15000.000000</td>\n",
              "      <td>4.000000</td>\n",
              "      <td>0.000000</td>\n",
              "      <td>4.494000e+05</td>\n",
              "    </tr>\n",
              "    <tr>\n",
              "      <th>75%</th>\n",
              "      <td>50500.000000</td>\n",
              "      <td>25000.000000</td>\n",
              "      <td>5.000000</td>\n",
              "      <td>3500.000000</td>\n",
              "      <td>5.961600e+05</td>\n",
              "    </tr>\n",
              "    <tr>\n",
              "      <th>max</th>\n",
              "      <td>100000.000000</td>\n",
              "      <td>50000.000000</td>\n",
              "      <td>7.000000</td>\n",
              "      <td>20000.000000</td>\n",
              "      <td>1.404000e+06</td>\n",
              "    </tr>\n",
              "  </tbody>\n",
              "</table>\n",
              "</div>\n",
              "      <button class=\"colab-df-convert\" onclick=\"convertToInteractive('df-0a86356d-6de0-4464-b737-15dd2d2266f1')\"\n",
              "              title=\"Convert this dataframe to an interactive table.\"\n",
              "              style=\"display:none;\">\n",
              "        \n",
              "  <svg xmlns=\"http://www.w3.org/2000/svg\" height=\"24px\"viewBox=\"0 0 24 24\"\n",
              "       width=\"24px\">\n",
              "    <path d=\"M0 0h24v24H0V0z\" fill=\"none\"/>\n",
              "    <path d=\"M18.56 5.44l.94 2.06.94-2.06 2.06-.94-2.06-.94-.94-2.06-.94 2.06-2.06.94zm-11 1L8.5 8.5l.94-2.06 2.06-.94-2.06-.94L8.5 2.5l-.94 2.06-2.06.94zm10 10l.94 2.06.94-2.06 2.06-.94-2.06-.94-.94-2.06-.94 2.06-2.06.94z\"/><path d=\"M17.41 7.96l-1.37-1.37c-.4-.4-.92-.59-1.43-.59-.52 0-1.04.2-1.43.59L10.3 9.45l-7.72 7.72c-.78.78-.78 2.05 0 2.83L4 21.41c.39.39.9.59 1.41.59.51 0 1.02-.2 1.41-.59l7.78-7.78 2.81-2.81c.8-.78.8-2.07 0-2.86zM5.41 20L4 18.59l7.72-7.72 1.47 1.35L5.41 20z\"/>\n",
              "  </svg>\n",
              "      </button>\n",
              "      \n",
              "  <style>\n",
              "    .colab-df-container {\n",
              "      display:flex;\n",
              "      flex-wrap:wrap;\n",
              "      gap: 12px;\n",
              "    }\n",
              "\n",
              "    .colab-df-convert {\n",
              "      background-color: #E8F0FE;\n",
              "      border: none;\n",
              "      border-radius: 50%;\n",
              "      cursor: pointer;\n",
              "      display: none;\n",
              "      fill: #1967D2;\n",
              "      height: 32px;\n",
              "      padding: 0 0 0 0;\n",
              "      width: 32px;\n",
              "    }\n",
              "\n",
              "    .colab-df-convert:hover {\n",
              "      background-color: #E2EBFA;\n",
              "      box-shadow: 0px 1px 2px rgba(60, 64, 67, 0.3), 0px 1px 3px 1px rgba(60, 64, 67, 0.15);\n",
              "      fill: #174EA6;\n",
              "    }\n",
              "\n",
              "    [theme=dark] .colab-df-convert {\n",
              "      background-color: #3B4455;\n",
              "      fill: #D2E3FC;\n",
              "    }\n",
              "\n",
              "    [theme=dark] .colab-df-convert:hover {\n",
              "      background-color: #434B5C;\n",
              "      box-shadow: 0px 1px 3px 1px rgba(0, 0, 0, 0.15);\n",
              "      filter: drop-shadow(0px 1px 2px rgba(0, 0, 0, 0.3));\n",
              "      fill: #FFFFFF;\n",
              "    }\n",
              "  </style>\n",
              "\n",
              "      <script>\n",
              "        const buttonEl =\n",
              "          document.querySelector('#df-0a86356d-6de0-4464-b737-15dd2d2266f1 button.colab-df-convert');\n",
              "        buttonEl.style.display =\n",
              "          google.colab.kernel.accessAllowed ? 'block' : 'none';\n",
              "\n",
              "        async function convertToInteractive(key) {\n",
              "          const element = document.querySelector('#df-0a86356d-6de0-4464-b737-15dd2d2266f1');\n",
              "          const dataTable =\n",
              "            await google.colab.kernel.invokeFunction('convertToInteractive',\n",
              "                                                     [key], {});\n",
              "          if (!dataTable) return;\n",
              "\n",
              "          const docLinkHtml = 'Like what you see? Visit the ' +\n",
              "            '<a target=\"_blank\" href=https://colab.research.google.com/notebooks/data_table.ipynb>data table notebook</a>'\n",
              "            + ' to learn more about interactive tables.';\n",
              "          element.innerHTML = '';\n",
              "          dataTable['output_type'] = 'display_data';\n",
              "          await google.colab.output.renderOutput(dataTable, element);\n",
              "          const docLink = document.createElement('div');\n",
              "          docLink.innerHTML = docLinkHtml;\n",
              "          element.appendChild(docLink);\n",
              "        }\n",
              "      </script>\n",
              "    </div>\n",
              "  </div>\n",
              "  "
            ]
          },
          "metadata": {},
          "execution_count": 58
        }
      ]
    },
    {
      "cell_type": "code",
      "source": [
        "#Biểu đổ boxplot của cột Mthly_HH_Income sau khi loại bỏ giá trị ngoại biên\n",
        "df2_zscore.boxplot('Mthly_HH_Income')"
      ],
      "metadata": {
        "colab": {
          "base_uri": "https://localhost:8080/",
          "height": 284
        },
        "id": "apYtzgUGwf8p",
        "outputId": "5d940a19-bad0-4532-dc8a-9667496c5984"
      },
      "execution_count": 59,
      "outputs": [
        {
          "output_type": "execute_result",
          "data": {
            "text/plain": [
              "<matplotlib.axes._subplots.AxesSubplot at 0x7f35ae75b150>"
            ]
          },
          "metadata": {},
          "execution_count": 59
        },
        {
          "output_type": "display_data",
          "data": {
            "text/plain": [
              "<Figure size 432x288 with 1 Axes>"
            ],
            "image/png": "[encoded data removed]"
          },
          "metadata": {
            "needs_background": "light"
          }
        }
      ]
    },
    {
      "cell_type": "code",
      "source": [
        "#Biểu đồ boxplot của cột Mthly_HH_Expense sau khi loại bỏ giá trị ngoại biên\n",
        "df2_zscore.boxplot('Mthly_HH_Expense')"
      ],
      "metadata": {
        "colab": {
          "base_uri": "https://localhost:8080/",
          "height": 284
        },
        "id": "H9VLk7xgxgNi",
        "outputId": "1ff870e6-6f05-4673-c573-ad951db79363"
      },
      "execution_count": 60,
      "outputs": [
        {
          "output_type": "execute_result",
          "data": {
            "text/plain": [
              "<matplotlib.axes._subplots.AxesSubplot at 0x7f35ae73f050>"
            ]
          },
          "metadata": {},
          "execution_count": 60
        },
        {
          "output_type": "display_data",
          "data": {
            "text/plain": [
              "<Figure size 432x288 with 1 Axes>"
            ],
            "image/png": "[encoded data removed]"
          },
          "metadata": {
            "needs_background": "light"
          }
        }
      ]
    },
    {
      "cell_type": "code",
      "source": [
        "#Biểu đồ boxplot của cột No_of_Fly_Members sau khi loại bỏ giá trị ngoại biên\n",
        "df2_zscore.boxplot('No_of_Fly_Members')"
      ],
      "metadata": {
        "colab": {
          "base_uri": "https://localhost:8080/",
          "height": 284
        },
        "id": "61qDUcHQQGZP",
        "outputId": "c09b8ff9-4721-4e6b-b3fc-36171fef383f"
      },
      "execution_count": 61,
      "outputs": [
        {
          "output_type": "execute_result",
          "data": {
            "text/plain": [
              "<matplotlib.axes._subplots.AxesSubplot at 0x7f35ae6a9210>"
            ]
          },
          "metadata": {},
          "execution_count": 61
        },
        {
          "output_type": "display_data",
          "data": {
            "text/plain": [
              "<Figure size 432x288 with 1 Axes>"
            ],
            "image/png": "[encoded data removed]"
          },
          "metadata": {
            "needs_background": "light"
          }
        }
      ]
    },
    {
      "cell_type": "code",
      "source": [
        "#Biểu đồ boxplot của cột Emi_or_Rent_Amt sau khi loại bỏ giá trị ngoại biên\n",
        "df2_zscore.boxplot('Emi_or_Rent_Amt')"
      ],
      "metadata": {
        "colab": {
          "base_uri": "https://localhost:8080/",
          "height": 284
        },
        "id": "KCDlMaNlTodt",
        "outputId": "b9532ef4-bb19-4187-c9a1-a3c0d0101d75"
      },
      "execution_count": 62,
      "outputs": [
        {
          "output_type": "execute_result",
          "data": {
            "text/plain": [
              "<matplotlib.axes._subplots.AxesSubplot at 0x7f35ae628750>"
            ]
          },
          "metadata": {},
          "execution_count": 62
        },
        {
          "output_type": "display_data",
          "data": {
            "text/plain": [
              "<Figure size 432x288 with 1 Axes>"
            ],
            "image/png": "[encoded data removed]"
          },
          "metadata": {
            "needs_background": "light"
          }
        }
      ]
    },
    {
      "cell_type": "code",
      "source": [
        "#Biểu đồ boxplot của cột Annual_HH_Income sau khi loại bỏ giá trị ngoại biên\n",
        "df2_zscore.boxplot('Annual_HH_Income')"
      ],
      "metadata": {
        "colab": {
          "base_uri": "https://localhost:8080/",
          "height": 295
        },
        "id": "7ASRw0WJ67QV",
        "outputId": "6c1e35fc-8b5c-44f5-e29c-d6d092a2b402"
      },
      "execution_count": 63,
      "outputs": [
        {
          "output_type": "execute_result",
          "data": {
            "text/plain": [
              "<matplotlib.axes._subplots.AxesSubplot at 0x7f35ae59da50>"
            ]
          },
          "metadata": {},
          "execution_count": 63
        },
        {
          "output_type": "display_data",
          "data": {
            "text/plain": [
              "<Figure size 432x288 with 1 Axes>"
            ],
            "image/png": "[encoded data removed]"
          },
          "metadata": {
            "needs_background": "light"
          }
        }
      ]
    },
    {
      "cell_type": "markdown",
      "source": [
        "> **Bước 4**: Tính độ tương quan (correlation) giữa các cột định lượng."
      ],
      "metadata": {
        "id": "FTtB6774XW1a"
      }
    },
    {
      "cell_type": "code",
      "source": [
        "corr_matrix = df1.corr()\n",
        "print(corr_matrix)"
      ],
      "metadata": {
        "colab": {
          "base_uri": "https://localhost:8080/"
        },
        "id": "Rl9F9bJCTwoB",
        "outputId": "29fcb32b-4f96-42c4-d22b-4d775ffcab65"
      },
      "execution_count": 64,
      "outputs": [
        {
          "output_type": "stream",
          "name": "stdout",
          "text": [
            "                   Mthly_HH_Income  Mthly_HH_Expense  No_of_Fly_Members  \\\n",
            "Mthly_HH_Income           1.000000          0.649215           0.448317   \n",
            "Mthly_HH_Expense          0.649215          1.000000           0.639702   \n",
            "No_of_Fly_Members         0.448317          0.639702           1.000000   \n",
            "Emi_or_Rent_Amt           0.036976          0.405280           0.085808   \n",
            "Annual_HH_Income          0.970315          0.591222           0.430868   \n",
            "\n",
            "                   Emi_or_Rent_Amt  Annual_HH_Income  \n",
            "Mthly_HH_Income           0.036976          0.970315  \n",
            "Mthly_HH_Expense          0.405280          0.591222  \n",
            "No_of_Fly_Members         0.085808          0.430868  \n",
            "Emi_or_Rent_Amt           1.000000          0.002716  \n",
            "Annual_HH_Income          0.002716          1.000000  \n"
          ]
        }
      ]
    },
    {
      "cell_type": "markdown",
      "source": [
        "> **Bước 5**: Vẽ các biểu đồ cần thiết\n",
        "\n",
        "1) Heat map (biểu đồ nhiệt)\n",
        "\n",
        "2) Pair plot (biểu đồ cặp)"
      ],
      "metadata": {
        "id": "Hq9nTeSgaPlD"
      }
    },
    {
      "cell_type": "code",
      "source": [
        "# Biểu đồ nhiệt từ bảng correlation (Heat map)\n",
        "sns.heatmap(corr_matrix, annot=True)\n",
        "plt.gcf().set_size_inches(15,8)"
      ],
      "metadata": {
        "colab": {
          "base_uri": "https://localhost:8080/",
          "height": 576
        },
        "id": "W1gVah1oYjBe",
        "outputId": "0d54522f-c4c9-4a12-eac9-7a003c38c586"
      },
      "execution_count": 65,
      "outputs": [
        {
          "output_type": "display_data",
          "data": {
            "text/plain": [
              "<Figure size 1080x576 with 2 Axes>"
            ],
            "image/png": "[encoded data removed]"
          },
          "metadata": {
            "needs_background": "light"
          }
        }
      ]
    },
    {
      "cell_type": "code",
      "source": [
        "# Biểu đồ cặp từ bảng correlation (Pair plot)\n",
        "sns.pairplot(df1)\n",
        "plt.gcf().set_size_inches(20,8)"
      ],
      "metadata": {
        "colab": {
          "base_uri": "https://localhost:8080/",
          "height": 600
        },
        "id": "Cn1yAQ5iarSY",
        "outputId": "fbad5239-29b1-409a-c44e-3606997c34cf"
      },
      "execution_count": 66,
      "outputs": [
        {
          "output_type": "display_data",
          "data": {
            "text/plain": [
              "<Figure size 1440x576 with 30 Axes>"
            ],
            "image/png": "[encoded data removed]"
          },
          "metadata": {
            "needs_background": "light"
          }
        }
      ]
    },
    {
      "cell_type": "markdown",
      "source": [
        "> **Bước 6**: Đối với các cột dữ liệu định tính, vẽ các biểu đồ:\n",
        "\n",
        "1) Vẽ biểu đồ cột dạng đứng\n",
        "\n",
        "2) Vẽ biểu đồ cột dạng ngang\n",
        "\n",
        "3) Vẽ biểu đồ đường tròn\n",
        "\n",
        "4) Vẽ biểu đồ Pareto"
      ],
      "metadata": {
        "id": "JoMfgm1Jbwbi"
      }
    },
    {
      "cell_type": "markdown",
      "source": [
        "**Biểu đồ cột dạng đứng**\n",
        "\n",
        "Đại diện: Cột Highest_Qualified_Member"
      ],
      "metadata": {
        "id": "VyNeuZJsQ5h1"
      }
    },
    {
      "cell_type": "code",
      "source": [
        "x = dict(df[\"Highest_Qualified_Member\"].value_counts()).keys()\n",
        "y = dict(df[\"Highest_Qualified_Member\"].value_counts()).values()\n",
        "plt.bar(x,y)"
      ],
      "metadata": {
        "colab": {
          "base_uri": "https://localhost:8080/",
          "height": 283
        },
        "id": "nLBuZR1UPlBi",
        "outputId": "a12da662-ba5a-470d-dd8a-28cae842bd9f"
      },
      "execution_count": 48,
      "outputs": [
        {
          "output_type": "execute_result",
          "data": {
            "text/plain": [
              "<BarContainer object of 5 artists>"
            ]
          },
          "metadata": {},
          "execution_count": 48
        },
        {
          "output_type": "display_data",
          "data": {
            "text/plain": [
              "<Figure size 432x288 with 1 Axes>"
            ],
            "image/png": "[encoded data removed]"
          },
          "metadata": {
            "needs_background": "light"
          }
        }
      ]
    },
    {
      "cell_type": "markdown",
      "source": [
        "**Biểu đồ cột dạng ngang**\n",
        "\n",
        "Đại diện: Cột Highest_Qualified_Member"
      ],
      "metadata": {
        "id": "IZDuKIYEfZvU"
      }
    },
    {
      "cell_type": "code",
      "source": [
        "x = dict(df[\"Highest_Qualified_Member\"].value_counts()).keys()\n",
        "y = dict(df[\"Highest_Qualified_Member\"].value_counts()).values()\n",
        "plt.barh(list(x),list(y))"
      ],
      "metadata": {
        "colab": {
          "base_uri": "https://localhost:8080/",
          "height": 283
        },
        "id": "FTKvIUhrdsd4",
        "outputId": "3efac133-01c9-40d2-8030-2fb5d290839b"
      },
      "execution_count": 70,
      "outputs": [
        {
          "output_type": "execute_result",
          "data": {
            "text/plain": [
              "<BarContainer object of 5 artists>"
            ]
          },
          "metadata": {},
          "execution_count": 70
        },
        {
          "output_type": "display_data",
          "data": {
            "text/plain": [
              "<Figure size 432x288 with 1 Axes>"
            ],
            "image/png": "[encoded data removed]"
          },
          "metadata": {
            "needs_background": "light"
          }
        }
      ]
    },
    {
      "cell_type": "markdown",
      "source": [
        "**Biểu đồ tròn**\n",
        "\n",
        "Đại diện: Cột No_of_Earning_Members"
      ],
      "metadata": {
        "id": "rfo1TPHguRRv"
      }
    },
    {
      "cell_type": "code",
      "source": [
        "bdtron = df['No_of_Earning_Members'].value_counts()\n",
        "bdtron "
      ],
      "metadata": {
        "colab": {
          "base_uri": "https://localhost:8080/"
        },
        "id": "3Anex2gbuW5M",
        "outputId": "ce834cea-9313-44cd-d38b-4ae977ceed60"
      },
      "execution_count": 68,
      "outputs": [
        {
          "output_type": "execute_result",
          "data": {
            "text/plain": [
              "1    33\n",
              "2    12\n",
              "3     4\n",
              "4     1\n",
              "Name: No_of_Earning_Members, dtype: int64"
            ]
          },
          "metadata": {},
          "execution_count": 68
        }
      ]
    },
    {
      "cell_type": "code",
      "source": [
        "plt.pie(bdtron,\n",
        "        autopct='%1.1f%%',\n",
        "        wedgeprops={'linewidth': 3.0, 'edgecolor': 'white'},\n",
        "        startangle=140)\n",
        "plt.axis('equal')\n",
        "plt.show()"
      ],
      "metadata": {
        "colab": {
          "base_uri": "https://localhost:8080/",
          "height": 248
        },
        "id": "0vzCohhAuzeL",
        "outputId": "ebb1599f-3931-4422-9cc7-336470077e41"
      },
      "execution_count": 69,
      "outputs": [
        {
          "output_type": "display_data",
          "data": {
            "text/plain": [
              "<Figure size 432x288 with 1 Axes>"
            ],
            "image/png": "[encoded data removed]"
          },
          "metadata": {}
        }
      ]
    },
    {
      "cell_type": "markdown",
      "source": [
        "**Biểu đồ đường Pareto**\n",
        "\n",
        "Đại diện: No_of_Earning_Members"
      ],
      "metadata": {
        "id": "6M7rykwzw8Pj"
      }
    },
    {
      "cell_type": "code",
      "source": [
        "from matplotlib.ticker import PercentFormatter"
      ],
      "metadata": {
        "id": "Z8oXNURimo9m"
      },
      "execution_count": 71,
      "outputs": []
    },
    {
      "cell_type": "code",
      "source": [
        "count_enginetype = dict(df['No_of_Earning_Members'].value_counts()).values()\n",
        "\n",
        "pareto_df = pd.DataFrame({'count':count_enginetype})\n",
        "pareto_df.index = list(dict(df['No_of_Earning_Members'].value_counts()).keys())\n",
        "\n",
        "pareto_df['cumperc'] = pareto_df['count'].cumsum()/pareto_df['count'].sum()*100\n",
        "print(pareto_df)"
      ],
      "metadata": {
        "id": "vMudp7TSvkhk",
        "colab": {
          "base_uri": "https://localhost:8080/"
        },
        "outputId": "d0f3ecdf-a458-4889-9b72-c77a51be7463"
      },
      "execution_count": 72,
      "outputs": [
        {
          "output_type": "stream",
          "name": "stdout",
          "text": [
            "   count  cumperc\n",
            "1     33     66.0\n",
            "2     12     90.0\n",
            "3      4     98.0\n",
            "4      1    100.0\n"
          ]
        }
      ]
    },
    {
      "cell_type": "code",
      "source": [
        "color1 = 'steelblue'\n",
        "color2 = 'red'\n",
        "line_size = 4\n",
        "\n",
        "fig, ax = plt.subplots()\n",
        "ax.bar(pareto_df.index, pareto_df['count'], color=color1)\n",
        "\n",
        "ax2 = ax.twinx()\n",
        "ax2.plot(pareto_df.index, pareto_df['cumperc'], color=color2, marker=\"D\", ms=line_size)\n",
        "ax2.yaxis.set_major_formatter(PercentFormatter())\n",
        "\n",
        "ax.tick_params(axis='y', colors=color1)\n",
        "ax2.tick_params(axis='y', colors=color2)\n",
        "plt.show()"
      ],
      "metadata": {
        "colab": {
          "base_uri": "https://localhost:8080/",
          "height": 265
        },
        "id": "aoJKwuIskd7J",
        "outputId": "7f8fee86-e56a-4908-c0e9-47c1d5462967"
      },
      "execution_count": 73,
      "outputs": [
        {
          "output_type": "display_data",
          "data": {
            "text/plain": [
              "<Figure size 432x288 with 2 Axes>"
            ],
            "image/png": "[encoded data removed]"
          },
          "metadata": {
            "needs_background": "light"
          }
        }
      ]
    }
  ]
}