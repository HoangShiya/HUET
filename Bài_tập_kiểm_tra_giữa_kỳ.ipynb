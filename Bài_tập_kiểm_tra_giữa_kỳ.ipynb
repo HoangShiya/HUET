{
  "cells": [
    {
      "cell_type": "markdown",
      "metadata": {
        "id": "view-in-github",
        "colab_type": "text"
      },
      "source": [
        "<a href=\"https://colab.research.google.com/github/HoangShiya/HUET/blob/main/B%C3%A0i_t%E1%BA%ADp_ki%E1%BB%83m_tra_gi%E1%BB%AFa_k%E1%BB%B3.ipynb\" target=\"_parent\"><img src=\"https://colab.research.google.com/assets/colab-badge.svg\" alt=\"Open In Colab\"/></a>"
      ]
    },
    {
      "cell_type": "markdown",
      "metadata": {
        "id": "dxfh83Wvtk9w"
      },
      "source": [
        "1./ Giới thiệu kho dữ liệu UCI\n",
        "\n",
        "Để xây dựng các mô hình phân lớp hữu hiệu, điều cần thiết là phải có bộ dữ liệu huấn luyện\n",
        "(dữ liệu đã được gán nhãn – do vậy các mô hình phân lớp còn được gọi là mô hình học có giám\n",
        "sát – supervised learning model). Những bộ dữ liệu huấn luyện tin cậy và hợp pháp (dữ liệu thu\n",
        "thập tuân thủ quy định của pháp luật. Ví dụ: dữ liệu về lĩnh vực y học phải tuân thủ các quy định\n",
        "về y đức) thường có giá thành rất cao. Trường đại học University of California, Irvine cung cấp\n",
        "kho dữ liệu miễn phí cho các nghiên cứu học máy được biết đến dưới tên gọi UCI Machine\n",
        "Learning Repository. Hầu hết các nghiên cứu về Học Máy đều sử dụng các tập dữ liệu này để huấn\n",
        "luyện và đánh giá mô hình.\n",
        "\n",
        "2./ Ghi chú\n",
        "\n",
        "Ghi chú: Kho github thiết lập chế độ hạn chế người xem chỉ có tài khoản của tác giả và tài khoản github của thầy (ndhcuong@hueuni.edu.vn) mới được xem bài tập. Đây là yêu cầu tính điểm. \n",
        "\n",
        "Mọi bài nộp vi phạm nguyên tắc này đều tính 0 điểm"
      ]
    },
    {
      "cell_type": "markdown",
      "source": [
        "## 1./ Yêu cầu:\n",
        "\n",
        "+ Thực hiện viết chương trình dạng hàm,thành chương trình chuẩn,để tái sử dụng.\n",
        "\n",
        "+ Dữ liệu coi như đầu vào độc lập,chỉ việc gọi và chèn\n",
        "\n"
      ],
      "metadata": {
        "id": "GZfxsbxBdCQ7"
      }
    },
    {
      "cell_type": "markdown",
      "metadata": {
        "id": "u1hAMP6ItqAV"
      },
      "source": [
        "# Câu 1./"
      ]
    },
    {
      "cell_type": "markdown",
      "metadata": {
        "id": "nv-FeCKst5BU"
      },
      "source": [
        "Câu 1: Hãy tải về tập dữ liệu:\n",
        "\n",
        "1. Breast cancer\n",
        "\n",
        "2. Wine"
      ]
    },
    {
      "cell_type": "code",
      "execution_count": null,
      "metadata": {
        "colab": {
          "base_uri": "https://localhost:8080/"
        },
        "id": "87TpNdlcwry1",
        "outputId": "a5e21227-23bc-4b87-8902-800e33f5d5b3"
      },
      "outputs": [
        {
          "output_type": "stream",
          "name": "stdout",
          "text": [
            "Mounted at /content/drive\n"
          ]
        }
      ],
      "source": [
        "from google.colab import drive\n",
        "drive.mount('/content/drive')"
      ]
    },
    {
      "cell_type": "code",
      "execution_count": null,
      "metadata": {
        "id": "C653A3K7wsab"
      },
      "outputs": [],
      "source": [
        "path = 'drive/MyDrive/datasets/uci'"
      ]
    },
    {
      "cell_type": "code",
      "execution_count": null,
      "metadata": {
        "colab": {
          "base_uri": "https://localhost:8080/"
        },
        "id": "gTVX6YjAxEAm",
        "outputId": "2b23f835-e094-4917-9e6d-444ff9b3658c"
      },
      "outputs": [
        {
          "name": "stdout",
          "output_type": "stream",
          "text": [
            "breast-cancer-wisconsin.data   Wine.csv   wine.names\n",
            "breast-cancer-wisconsin.names  wine.data\n"
          ]
        }
      ],
      "source": [
        "!ls \"drive/MyDrive/datasets/uci\""
      ]
    },
    {
      "cell_type": "markdown",
      "metadata": {
        "id": "-ZsZbWmvtzpc"
      },
      "source": [
        "# Câu 2./"
      ]
    },
    {
      "cell_type": "markdown",
      "metadata": {
        "id": "lUutxLE8t74T"
      },
      "source": [
        "Câu 2: Đối với từng tập dữ liệu hãy xác định:\n",
        "\n",
        "1. Thuộc tính nào đóng vai trò nhãn lớp?\n",
        "\n",
        "2. Tập dữ liệu nào phục vụ bài toán phân lớp nhị phân? Bài toán phân lớp đa nhãn?\n",
        "\n",
        "3. Thuộc tính nào không cần thiết trong huấn luyện mô hình?"
      ]
    },
    {
      "cell_type": "markdown",
      "metadata": {
        "id": "CF2z4S9Ljw-S"
      },
      "source": [
        "## 2.1/ Thuộc tính nào đóng vai trò nhãn lớp?"
      ]
    },
    {
      "cell_type": "markdown",
      "metadata": {
        "id": "npMCasWxiWfG"
      },
      "source": [
        "**2.1/ Dựa vào các tập tin *.names ta có 1 số mô tả như sau cho 2 tập dữ liệu Breast Cancer Wisconsin và Wine như sau:**\n",
        "\n",
        "**2.1.1/ Tập dữ liệu Breast Cancer Wisconsin**\n",
        "\n",
        "Bộ dữ liệu BCW chứa 699 mẫu bệnh phẩm được lấy từ các tế bào ung thư vú của bệnh nhân\n",
        "Có 11 thuộc tính cho mỗi quan sát tương ứng với miền giá trị của nó:\n",
        "\n",
        "1 Sample code number (ID - Các con số dùng để định danh)\n",
        "\n",
        "2 Clump Thickness (1-10) (Tức là giá trị của nó là số nguyên nằm từ 1 đến 10)\n",
        "\n",
        "3 Uniformity of Cell Size (1-10)\n",
        "\n",
        "4 Uniformity of Cell Shape (1-10)\n",
        "\n",
        "5 Marginal Adhesion (1-10)\n",
        "\n",
        "6 Single Epithelial Cell Size (1-10)\n",
        "\n",
        "7 Bare Nuclei (1-10)\n",
        "\n",
        "8 Bland Chromatin (1-10)\n",
        "\n",
        "9 Normal Nucleoli (1-10)\n",
        "\n",
        "10 Mitoses (1-10)\n",
        "\n",
        "11 **Class (2- cho bệnh lành tính và 4 - cho bệnh ác tính) (Đây chính là biến nhãn lớp)**\n",
        "\n",
        "\n",
        "**2.1.2/ Tập dữ liệu Wine**\n",
        "\n",
        "Bộ dữ liệu Wine chứa thông tin về 3 loại rượu\n",
        "\n",
        "Có 14 biến (1 biến phân loại và 13 biến feature):\n",
        "\n",
        "1 **class (biến phân loại - biến nhãn lớp)**\n",
        "\n",
        "2 Alcohol\n",
        "\n",
        "3 Malic acid\n",
        "\n",
        "4 Ash\n",
        "\n",
        "5 Alcalinity of ash\n",
        "\n",
        "6 Magnesium\n",
        "\n",
        "7 Flavonoids\n",
        "\n",
        "8 Nonflavanoid phenols\n",
        "\n",
        "9 Proanthocyanins\n",
        "\n",
        "10 Color intensity\n",
        "\n",
        "11 Hue\n",
        "\n",
        "12 OD280/OD315 of diluted wines\n",
        "\n",
        "13 Proline\n",
        "\n",
        "Biến class có 3 nhãn lớp là 1,2 và 3.\n",
        "\n",
        "Trong đó nhãn lớp 1 có 59 instances, nhãn lớp 2 có 71 instances và nhãn lớp 3 có 48 instances.  (Mỗi instances chính là một row)\n",
        "\n",
        "Ngoài biến class (cột đầu tiên), các biến còn lại đều là biến liên tục và có thể nằm ở các miền giá trị khác nhau\n"
      ]
    },
    {
      "cell_type": "markdown",
      "metadata": {
        "id": "d3FnE7O_j2XM"
      },
      "source": [
        "## 2.2/ Tập dữ liệu nào phục vụ bài toán phân lớp nhị phân? Bài toán phân lớp đa nhãn?"
      ]
    },
    {
      "cell_type": "markdown",
      "metadata": {
        "id": "ch1sGkH9kAz6"
      },
      "source": [
        "+ Tập dữ liệu phục vụ bài toán phân lớp nhị phân:\n",
        "\n",
        "**=> Tập dữ liệu Breast Cancer Winconsin**\n",
        "\n",
        "+ Tập dữ liệu phục vụ bài toán phân lớp đa nhãn:\n",
        "\n",
        "**=> Tập dữ liệu Wines**"
      ]
    },
    {
      "cell_type": "markdown",
      "metadata": {
        "id": "ZRR3Ux4kj5HK"
      },
      "source": [
        "## 2.3/ Thuộc tính nào không cần thiết trong huấn luyện mô hình?"
      ]
    },
    {
      "cell_type": "markdown",
      "metadata": {
        "id": "g3gAYU53j3-J"
      },
      "source": [
        "**2.3.1/ Thuộc tính không cần thiết trong huấn luyện mô hình**\n"
      ]
    },
    {
      "cell_type": "markdown",
      "metadata": {
        "id": "0e2srNoDldAl"
      },
      "source": [
        "**=> Tập dữ liệu Breast Cancer Winconsin**"
      ]
    },
    {
      "cell_type": "markdown",
      "metadata": {
        "id": "9tCK5Rsvlleq"
      },
      "source": [
        "Thuộc tính **Sample Code Number** (ID - Các số định danh) không có nhiều ý nghĩa trong việc huấn luyện mô hình."
      ]
    },
    {
      "cell_type": "markdown",
      "metadata": {
        "id": "8fAEdYNrjp4O"
      },
      "source": [
        "**=> Tập dữ liệu Wine**"
      ]
    },
    {
      "cell_type": "markdown",
      "metadata": {
        "id": "V2Jk8z7no-p6"
      },
      "source": [
        "Không có"
      ]
    },
    {
      "cell_type": "markdown",
      "metadata": {
        "id": "ZbvLNP_Jt1Av"
      },
      "source": [
        "# 3./ Câu 3"
      ]
    },
    {
      "cell_type": "markdown",
      "metadata": {
        "id": "ALLNV6qLt25t"
      },
      "source": [
        "Câu 3: Hãy xây dựng mô hình phân lớp LogisticRegression, k-NN và Naïve Bayes cho 2 tập dữ\n",
        "liệu trên. Yêu cầu:\n",
        "0. Xây dựng lần lượt 3 mô hình **Logistic Regression** , **k-NN** , **Naïve Bayes**\n",
        "\n",
        "1. Xác định nhãn lớp có cân bằng hay không?\n",
        "\n",
        "2. Phân chia train – test theo tỉ lệ 80% - 20% có cần thực hiện xáo trộn dữ liệu hay không?\n",
        "\n",
        "3. Thông báo kết quả 10-fold CV của quá trình huấn luyện từng mô hình (sử dụng\n",
        "cross_val_scores)\n",
        "\n",
        "4. Dựa vào kết quả dự đoán của từng mô hình - ŷ và tập dữ liệu kiểm chứng - ytest, hãy:\n",
        "\n",
        "a. Đánh giá hiệu năng của từng mô hình theo các bộ chỉ số: (i) accuracy; (ii) precision;\n",
        "(iii) recall; và (iv) f1-measure.\n",
        "\n",
        "https://scikit-learn.org/stable/modules/generated/sklearn.metrics.classification_report.html\n",
        "\n",
        "b. Vẽ bảng ghi kết quả so sánh các chỉ số trên của từng mô hình\n",
        "\n",
        "=> Tham khảo tại link sau:\n",
        "\n",
        "https://scikit-learn.org/stable/modules/generated/sklearn.metrics.classification_report.html\n",
        "\n",
        "\n",
        "\n",
        "c. Xác định mô hình vượt trội? (Cho từng tập dữ liệu)\n",
        "\n",
        "\n"
      ]
    },
    {
      "cell_type": "markdown",
      "source": [
        "## 3.0/ Import thư viện"
      ],
      "metadata": {
        "id": "5Zh2k8bls4OL"
      }
    },
    {
      "cell_type": "code",
      "source": [
        "# Import thư viện\n",
        "import os\n",
        "import numpy as np\n",
        "import pandas as pd\n",
        "from sklearn.model_selection import train_test_split\n",
        "from sklearn.preprocessing import MinMaxScaler\n",
        "from sklearn.naive_bayes import GaussianNB\n",
        "from sklearn.metrics import accuracy_score\n",
        "from sklearn.model_selection import cross_val_score\n",
        "\n",
        "from math import sqrt\n",
        "from sklearn.model_selection import train_test_split\n",
        "from sklearn.neighbors import KNeighborsRegressor\n",
        "from sklearn.metrics import mean_squared_error\n",
        "from sklearn.model_selection import GridSearchCV\n",
        "from sklearn.preprocessing import MinMaxScaler\n",
        "\n",
        "from sklearn.linear_model import LogisticRegression\n",
        "\n",
        "from sklearn.metrics import classification_report"
      ],
      "metadata": {
        "id": "Pfrq70UFs9Sg"
      },
      "execution_count": null,
      "outputs": []
    },
    {
      "cell_type": "code",
      "source": [
        "# Xử lý dữ liệu đầu vào:\n",
        "def readFile(path, file_name):\n",
        "  from google.colab import drive\n",
        "  drive.mount('/content/drive')\n",
        "  data = pd.read_csv(f\"{path}{file_name}\")\n",
        "  return data"
      ],
      "metadata": {
        "id": "4SWDLJxAtEK7"
      },
      "execution_count": null,
      "outputs": []
    },
    {
      "cell_type": "markdown",
      "source": [
        "**Đọc dữ liệu tệp Rượu Vang**"
      ],
      "metadata": {
        "id": "C9Qfgvex--eB"
      }
    },
    {
      "cell_type": "code",
      "source": [
        "path = 'drive/MyDrive/datasets/uci/'\n",
        "file_name = \"wine-origin-1.csv\"\n",
        "data = readFile(path, file_name)"
      ],
      "metadata": {
        "colab": {
          "base_uri": "https://localhost:8080/"
        },
        "id": "_xLWxzHVtfdG",
        "outputId": "d178e829-0a0d-4d6c-c6fe-4c440415369c"
      },
      "execution_count": null,
      "outputs": [
        {
          "output_type": "stream",
          "name": "stdout",
          "text": [
            "Drive already mounted at /content/drive; to attempt to forcibly remount, call drive.mount(\"/content/drive\", force_remount=True).\n"
          ]
        }
      ]
    },
    {
      "cell_type": "code",
      "source": [
        "y = data['Class Label']\n",
        "X = data.drop(['Class Label'], axis = 1)"
      ],
      "metadata": {
        "id": "H0J8w9poua8Y"
      },
      "execution_count": null,
      "outputs": []
    },
    {
      "cell_type": "code",
      "source": [
        "# Xác định các nhãn lớp và số lượng phần tử mỗi nhãn của 'Class Label'\n",
        "unique, counts = np.unique(y, return_counts=True)\n",
        "result = dict(zip(unique, counts))\n",
        "print(result)"
      ],
      "metadata": {
        "colab": {
          "base_uri": "https://localhost:8080/"
        },
        "id": "Sqku0buLxF61",
        "outputId": "7f21706a-8fbb-4407-e626-6e8124095c5a"
      },
      "execution_count": null,
      "outputs": [
        {
          "output_type": "stream",
          "name": "stdout",
          "text": [
            "{1: 59, 2: 71, 3: 48}\n"
          ]
        }
      ]
    },
    {
      "cell_type": "code",
      "source": [
        "# Fix Imbalanced Data:\n",
        "def fix_imbalance(X, y):\n",
        "  from imblearn.over_sampling import SMOTE\n",
        "  sm = SMOTE()\n",
        "  X_sm, y_sm = sm.fit_resample(X, y)\n",
        "  return (X_sm, y_sm)"
      ],
      "metadata": {
        "id": "l54EP-nXvgZe"
      },
      "execution_count": null,
      "outputs": []
    },
    {
      "cell_type": "markdown",
      "source": [
        "## 3.1/ Xây dựng mô hình Logistic Regression"
      ],
      "metadata": {
        "id": "V_jRGvwbJVou"
      }
    },
    {
      "cell_type": "code",
      "source": [
        "# Logistic Regression Model:\n",
        "def lr_model(X, y, imbalance = True, shuffle = True, test_size = 0.2, report = True):\n",
        "  # Fix Imbalanced Data:\n",
        "  def fix_imbalance(X, y):\n",
        "    from imblearn.over_sampling import SMOTE\n",
        "    sm = SMOTE()\n",
        "    X_sm, y_sm = sm.fit_resample(X, y)\n",
        "    return (X_sm, y_sm)\n",
        "  # Fix Imbalance\n",
        "  if imbalance == True:\n",
        "    X_sm, y_sm = fix_imbalance(X, y)\n",
        "  # Phan chia train test\n",
        "  X_train, X_test, y_train, y_test = train_test_split(X_sm, y_sm, shuffle=shuffle,random_state=15,test_size=test_size)\n",
        "  #Bước lặp 1500; multi_class = 'auto' để tự phát hiện nhãn lớp nhị phân hay đa nhãn lớp\n",
        "  model = LogisticRegression(solver='liblinear', max_iter=1500, multi_class='auto')\n",
        "  model.fit(X_train, y_train)\n",
        "  y_hat = model.predict(X_test)\n",
        "\n",
        "  # Print report phan lop classify:\n",
        "  if report == True:\n",
        "    # labels = list(unique)\n",
        "    # print(labels)\n",
        "    print(classification_report(y_test, y_hat, labels= [1,2,3]))"
      ],
      "metadata": {
        "id": "3Skei1oo5XQ-"
      },
      "execution_count": null,
      "outputs": []
    },
    {
      "cell_type": "markdown",
      "source": [
        "## 3.2/ Xây dựng mô hình kNN"
      ],
      "metadata": {
        "id": "nYyMhQylJajM"
      }
    },
    {
      "cell_type": "code",
      "source": [
        "# kNN Model:\n",
        "def kNN_model(X, y, imbalance = True, shuffle = True, test_size = 0.2, report = True):\n",
        "  # Fix Imbalanced Data:\n",
        "  def fix_imbalance(X, y):\n",
        "    from imblearn.over_sampling import SMOTE\n",
        "    sm = SMOTE()\n",
        "    X_sm, y_sm = sm.fit_resample(X, y)\n",
        "    return (X_sm, y_sm)\n",
        "  # Fix Imbalance\n",
        "  if imbalance == True:\n",
        "    X_sm, y_sm = fix_imbalance(X, y)\n",
        "  # Phan chia train test\n",
        "  X_train, X_test, y_train, y_test = train_test_split(X_sm, y_sm, shuffle=shuffle,random_state=15,test_size=test_size)\n",
        "  # Xac dinh so luong mau du lieu va k_max:\n",
        "  import math\n",
        "  m = y_train.shape[0]\n",
        "  k_max = int(math.sqrt(m)/2)\n",
        "  # Tao luoi tham so GridSearchCV\n",
        "  k_values = np.arange(start=1, stop = k_max + 1, dtype=int)\n",
        "  params = {'n_neighbors': k_values}\n",
        "  # Khoi tao va huan luyen mo hinh\n",
        "  kNN = KNeighborsRegressor()\n",
        "  kNN_grid = GridSearchCV(kNN, params, cv=10)\n",
        "  kNN_grid.fit(X_train, y_train)\n",
        "  y_hat = kNN_grid.predict(X_test)\n",
        "  # Print report phan lop classify:\n",
        "  if report == True:\n",
        "    # labels = list(unique)\n",
        "    # print(labels)\n",
        "    print(classification_report(y_test, y_hat, labels= [1,2,3]))"
      ],
      "metadata": {
        "id": "0pq_PUXqypje"
      },
      "execution_count": null,
      "outputs": []
    },
    {
      "cell_type": "markdown",
      "source": [
        "## 3.3/ Xây dựng mô hình Naive Bayes"
      ],
      "metadata": {
        "id": "ytLVlguAJdJ0"
      }
    },
    {
      "cell_type": "code",
      "source": [
        "# Naive Bayes Model:\n",
        "def gnb_model(X, y, imbalance = True, shuffle = False, test_size = 0.2, report = True):\n",
        "  # Fix Imbalanced Data:\n",
        "  def fix_imbalance(X, y):\n",
        "    from imblearn.over_sampling import SMOTE\n",
        "    sm = SMOTE()\n",
        "    X_sm, y_sm = sm.fit_resample(X, y)\n",
        "    return (X_sm, y_sm)\n",
        "  # Fix Imbalance\n",
        "  if imbalance == True:\n",
        "    X_sm, y_sm = fix_imbalance(X, y)\n",
        "  # Phan chia train test\n",
        "  X_train, X_test, y_train, y_test = train_test_split(X_sm, y_sm, shuffle=shuffle,random_state=15,test_size=test_size)\n",
        "  # Khoi tao va huan luyen mo hinh\n",
        "  gnb_model = GaussianNB()\n",
        "  gnb_model.fit(X_train, y_train)\n",
        "  y_hat = gnb_model.predict(X_test)\n",
        "  # Print report phan lop classify:\n",
        "  if report == True:\n",
        "    from sklearn.metrics import classification_report\n",
        "    labels = unique\n",
        "    print(classification_report(y_test, y_hat, labels=labels))"
      ],
      "metadata": {
        "id": "6o_PLpqxujSc"
      },
      "execution_count": null,
      "outputs": []
    },
    {
      "cell_type": "markdown",
      "source": [
        "## 3.4/ Áp dụng với tập dữ liệu Breast Cancer"
      ],
      "metadata": {
        "id": "AMfkWKo84d2X"
      }
    },
    {
      "cell_type": "markdown",
      "source": [
        "**Đọc dữ liệu tệp Breast Cancer**"
      ],
      "metadata": {
        "id": "nKV2cIHL_F1O"
      }
    },
    {
      "cell_type": "code",
      "source": [
        "path = 'drive/MyDrive/datasets/uci/'\n",
        "file_name = \"breast-cancer-wisconsin-origin-1.csv\"\n",
        "data = readFile(path, file_name)"
      ],
      "metadata": {
        "colab": {
          "base_uri": "https://localhost:8080/"
        },
        "id": "mUUaxs2W4ftN",
        "outputId": "19349f6a-90c6-4f3c-92b6-00501fb5b878"
      },
      "execution_count": null,
      "outputs": [
        {
          "output_type": "stream",
          "name": "stdout",
          "text": [
            "Drive already mounted at /content/drive; to attempt to forcibly remount, call drive.mount(\"/content/drive\", force_remount=True).\n"
          ]
        }
      ]
    },
    {
      "cell_type": "code",
      "source": [
        "data.diagnosis = [1 if each == \"M\" else 0 for each in data.diagnosis]"
      ],
      "metadata": {
        "id": "lnEB9pB_5HWt"
      },
      "execution_count": null,
      "outputs": []
    },
    {
      "cell_type": "code",
      "source": [
        "y = data[\"diagnosis\"]\n",
        "X = data.drop(['diagnosis'], axis = 1)"
      ],
      "metadata": {
        "id": "LmoIM5K55JyN"
      },
      "execution_count": null,
      "outputs": []
    },
    {
      "cell_type": "code",
      "source": [],
      "metadata": {
        "id": "_2MPkFhe9xfD"
      },
      "execution_count": null,
      "outputs": []
    },
    {
      "cell_type": "markdown",
      "source": [
        "### 3.4.1/ Áp dụng Logistic Regression với tập dữ liệu Breast Cancer"
      ],
      "metadata": {
        "id": "KToZP6Hz9_Kn"
      }
    },
    {
      "cell_type": "code",
      "source": [
        "def main():\n",
        "  y = data[\"diagnosis\"]\n",
        "  X = data.drop(['diagnosis'], axis = 1)\n",
        "  lr_model(X, y, imbalance = True, shuffle = True, test_size = 0.2, report = True)\n",
        "if __name__ == \"__main__\":\n",
        "    main()\n",
        "else:\n",
        "    print ('Executed when imported')\n"
      ],
      "metadata": {
        "colab": {
          "base_uri": "https://localhost:8080/"
        },
        "id": "9NqdxnZHRCo5",
        "outputId": "9c39badf-98ec-4829-d844-58a6391c85d7"
      },
      "execution_count": null,
      "outputs": [
        {
          "output_type": "stream",
          "name": "stdout",
          "text": [
            "              precision    recall  f1-score   support\n",
            "\n",
            "           0       0.92      0.94      0.93        72\n",
            "           1       0.94      0.92      0.93        71\n",
            "\n",
            "    accuracy                           0.93       143\n",
            "   macro avg       0.93      0.93      0.93       143\n",
            "weighted avg       0.93      0.93      0.93       143\n",
            "\n"
          ]
        }
      ]
    },
    {
      "cell_type": "markdown",
      "source": [
        "### 3.4.2/ Áp dụng KNN với tập dữ liệu Breast Cancer"
      ],
      "metadata": {
        "id": "-8E66vdo-Ei2"
      }
    },
    {
      "cell_type": "code",
      "source": [
        "def main():\n",
        "  y = data[\"diagnosis\"]\n",
        "  X = data.drop(['diagnosis'], axis = 1)\n",
        "  kNN_model(X, y, imbalance= True, shuffle = True, test_size = 0.2, report = True)\n",
        "if __name__ == \"__main__\":\n",
        "    main()\n",
        "else:\n",
        "    print ('Executed when imported')\n"
      ],
      "metadata": {
        "colab": {
          "base_uri": "https://localhost:8080/"
        },
        "outputId": "6f89be5b-c464-433b-8492-a1991544dc4a",
        "id": "Nk5L1goD6aFn"
      },
      "execution_count": null,
      "outputs": [
        {
          "output_type": "stream",
          "name": "stdout",
          "text": [
            "              precision    recall  f1-score   support\n",
            "\n",
            "           0       0.96      0.94      0.95        72\n",
            "           1       0.94      0.96      0.95        71\n",
            "\n",
            "    accuracy                           0.95       143\n",
            "   macro avg       0.95      0.95      0.95       143\n",
            "weighted avg       0.95      0.95      0.95       143\n",
            "\n"
          ]
        }
      ]
    },
    {
      "cell_type": "markdown",
      "source": [
        "### 3.4.3/ Áp dụng Naive Bayes với tập dữ liệu Breast Cancer"
      ],
      "metadata": {
        "id": "ThPvFOGP-HYI"
      }
    },
    {
      "cell_type": "code",
      "source": [
        "def main():\n",
        "  y = data[\"diagnosis\"]\n",
        "  X = data.drop(['diagnosis'], axis = 1)\n",
        "  gnb_model(X, y, imbalance= True, shuffle = True, test_size = 0.2, report = True)\n",
        "if __name__ == \"__main__\":\n",
        "    main()\n",
        "else:\n",
        "    print ('Executed when imported')\n"
      ],
      "metadata": {
        "colab": {
          "base_uri": "https://localhost:8080/"
        },
        "id": "gu1Ba_3WBZSM",
        "outputId": "989f3561-6a74-4311-9de1-5dd977d068ec"
      },
      "execution_count": null,
      "outputs": [
        {
          "output_type": "stream",
          "name": "stdout",
          "text": [
            "              precision    recall  f1-score   support\n",
            "\n",
            "           0       0.90      0.95      0.92        75\n",
            "           1       0.89      0.79      0.84        39\n",
            "\n",
            "    accuracy                           0.89       114\n",
            "   macro avg       0.89      0.87      0.88       114\n",
            "weighted avg       0.89      0.89      0.89       114\n",
            "\n"
          ]
        }
      ]
    },
    {
      "cell_type": "markdown",
      "source": [
        "## 3.5/ Áp dụng với tập dữ liệu Wine"
      ],
      "metadata": {
        "id": "MBZ5Ifwz4W6F"
      }
    },
    {
      "cell_type": "markdown",
      "source": [
        "### 3.5.1/ Áp dụng KNN với tập dữ liệu Wine"
      ],
      "metadata": {
        "id": "4XPtdw7P-LYM"
      }
    },
    {
      "cell_type": "code",
      "source": [
        "def main():\n",
        "  y = data['Class Label']\n",
        "  X = data.drop(['Class Label'], axis = 1)\n",
        "  kNN_model(X, y, imbalance= True, shuffle = True, test_size = 0.2, report = True)\n",
        "if __name__ == \"__main__\":\n",
        "    main()\n",
        "else:\n",
        "    print ('Executed when imported')\n"
      ],
      "metadata": {
        "colab": {
          "base_uri": "https://localhost:8080/"
        },
        "id": "fNHObkR-p28H",
        "outputId": "2038c8c8-da97-4371-bfac-4d1bb17053bd"
      },
      "execution_count": null,
      "outputs": [
        {
          "output_type": "stream",
          "name": "stdout",
          "text": [
            "              precision    recall  f1-score   support\n",
            "\n",
            "           1       0.93      0.88      0.90        16\n",
            "           2       1.00      0.69      0.82        13\n",
            "           3       0.74      1.00      0.85        14\n",
            "\n",
            "    accuracy                           0.86        43\n",
            "   macro avg       0.89      0.86      0.86        43\n",
            "weighted avg       0.89      0.86      0.86        43\n",
            "\n"
          ]
        }
      ]
    },
    {
      "cell_type": "markdown",
      "source": [
        "### 3.5.2/ Áp dụng NaiveBayes với tập dữ liệu Wine"
      ],
      "metadata": {
        "id": "-m_y0-Pu-Oud"
      }
    },
    {
      "cell_type": "code",
      "source": [
        "def main():\n",
        "  y = data['Class Label']\n",
        "  X = data.drop(['Class Label'], axis = 1)\n",
        "  gnb_model(X, y, imbalance= True, shuffle = True, test_size = 0.2, report = True)\n",
        "if __name__ == \"__main__\":\n",
        "    main()\n",
        "else:\n",
        "    print ('Executed when imported')\n"
      ],
      "metadata": {
        "colab": {
          "base_uri": "https://localhost:8080/"
        },
        "id": "EZ818rUhxfNm",
        "outputId": "5182ba87-37f3-48d5-b6db-8907e0f2c6d7"
      },
      "execution_count": null,
      "outputs": [
        {
          "output_type": "stream",
          "name": "stdout",
          "text": [
            "              precision    recall  f1-score   support\n",
            "\n",
            "           1       1.00      1.00      1.00        16\n",
            "           2       1.00      1.00      1.00        13\n",
            "           3       1.00      1.00      1.00        14\n",
            "\n",
            "    accuracy                           1.00        43\n",
            "   macro avg       1.00      1.00      1.00        43\n",
            "weighted avg       1.00      1.00      1.00        43\n",
            "\n"
          ]
        }
      ]
    },
    {
      "cell_type": "markdown",
      "source": [
        "Đánh giá mô hình và dữ liệu:\n",
        "\n",
        "1./ Tập dữ liệu (Breast Cancer.csv):\n",
        "\n",
        "+ Mô hình KNN Model đạt các chỉ số tốt hơn hẳn các model khác\n",
        "\n",
        "+ Kết luận:\n",
        "\n",
        "=> Model (KNN) vượt trội hơn so với các model khác khi sử dụng đối với tập dữ liệu Breast Cancer.csv\n",
        "\n",
        "\n",
        "\n",
        "2./ Tập dữ liệu rượu vang (Wine.csv):\n",
        "\n",
        "+ Mô hình Naive Bayes có các chỉ số tốt hơn của kNN Model\n",
        "\n",
        "+ Kết luận:\n",
        "\n",
        "=> Model (NaiveBayes) vượt trội cho tập dữ liệu Wine.csv"
      ],
      "metadata": {
        "id": "IJOxQ-0p3OA1"
      }
    }
  ],
  "metadata": {
    "colab": {
      "toc_visible": true,
      "provenance": [],
      "include_colab_link": true
    },
    "kernelspec": {
      "display_name": "Python 3",
      "name": "python3"
    },
    "language_info": {
      "name": "python"
    }
  },
  "nbformat": 4,
  "nbformat_minor": 0
}