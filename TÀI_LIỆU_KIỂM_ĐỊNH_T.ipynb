{
  "cells": [
    {
      "cell_type": "markdown",
      "metadata": {
        "id": "view-in-github",
        "colab_type": "text"
      },
      "source": [
        "<a href=\"https://colab.research.google.com/github/HoangShiya/HUET/blob/main/T%C3%80I_LI%E1%BB%86U_KI%E1%BB%82M_%C4%90%E1%BB%8ANH_T.ipynb\" target=\"_parent\"><img src=\"https://colab.research.google.com/assets/colab-badge.svg\" alt=\"Open In Colab\"/></a>"
      ]
    },
    {
      "cell_type": "markdown",
      "metadata": {
        "id": "_XsXFQ75Gvi_"
      },
      "source": [
        "\n",
        "\n",
        "> **HƯỚNG DẪN CÁC BƯỚC SUY DIỄN THỐNG KÊ BẰNG GÓI STATSTHƯ VIỆN SCIPY**\n",
        "\n"
      ]
    },
    {
      "cell_type": "markdown",
      "metadata": {
        "id": "gXd6SDuJGvjC"
      },
      "source": [
        "# B1: SỬ DỤNG CÁC THƯ VIỆN CẦN THIẾT"
      ]
    },
    {
      "cell_type": "code",
      "execution_count": 3,
      "metadata": {
        "id": "wK1YOij2GvjC",
        "colab": {
          "base_uri": "https://localhost:8080/"
        },
        "outputId": "c08676ad-9f6d-491c-f0a9-e4b289379419"
      },
      "outputs": [
        {
          "output_type": "stream",
          "name": "stderr",
          "text": [
            "/usr/local/lib/python3.7/dist-packages/statsmodels/tools/_testing.py:19: FutureWarning: pandas.util.testing is deprecated. Use the functions in the public API at pandas.testing instead.\n",
            "  import pandas.util.testing as tm\n"
          ]
        }
      ],
      "source": [
        "import numpy as np\n",
        "import pandas as pd\n",
        "import random\n",
        "from scipy import stats\n",
        "from statsmodels.stats.weightstats import ztest\n",
        "import matplotlib.pyplot as plt\n",
        "%matplotlib inline"
      ]
    },
    {
      "cell_type": "markdown",
      "metadata": {
        "id": "AO4cwFPdGvjF"
      },
      "source": [
        "> **NHỮNG LƯU Ý KHI KIỂM ĐỊNH GIẢ THUYẾT**\n",
        "\n",
        "1.   Khi kiểm định t, cỡ mẫu phải lớn hơn 30 để có ý nghĩa thống kê\n",
        "2.   Các mẫu phải được lựa chọn ngẫu nhiên từ quần thể\n",
        "3.   Từ các mẫu quan sát, ta tính được các đại lượng cần thiết: trung bình mẫu, độ lệch chuẩn...\n",
        "4.   Giả định rằng quần thể được nghiên cứu lấy mẫu **xấp xỉ với phân phối chuẩn**.\n",
        "\n"
      ]
    },
    {
      "cell_type": "markdown",
      "metadata": {
        "id": "mIxtUTcfGvjF"
      },
      "source": [
        "> **QUY TRÌNH THỰC HIỆN KIỂM ĐỊNH T**\n",
        "\n",
        "1.   Thu thập dữ liệu quan sát, tính toán các đại lượng cần thiết\n",
        "2.   Phát biểu giả thuyết $H_{0}$ (giả thuyết ban đầu) và $H_{a}$ (giả thuyết thay thế)\n",
        "3.   Lấy mẫu và tính toán các đại lượng thống kê của mẫu\n",
        "4.   Thực hiện kiểm định T\n",
        "5.   Kết luận kiểm định"
      ]
    },
    {
      "cell_type": "markdown",
      "metadata": {
        "id": "Z0cCoeCpGvjJ"
      },
      "source": [
        "# B2: Xây dựng một kiểm định T cụ thể với số liệu được sinh ngẫu nhiên theo phân phối chuẩn"
      ]
    },
    {
      "cell_type": "markdown",
      "metadata": {
        "id": "9icfYG3AGvjK"
      },
      "source": [
        "***Đề bài***: Các chai nước hoa Charme Beautiful được sản xuất theo tiêu chuẩn thể tích 50ml. Nhiều khác hàng phản ánh rằng sản phẩm không đúng như tiêu chuẩn. Vì vậy nhóm điều tra lấy ngẫu nhiên 25 mẫu sản phẩm nước hoa để đo thể tích và thu được kết quả thống kê như sau:\n",
        "*Số chai chia theo lô*: 3, 5, 10, 5, 2\n",
        "\n",
        "*Thể tích*:  \n",
        "*   3 chai: 48-48,5\n",
        "*   5 chai: 48,5- 49\n",
        "*   10 chai: 49 – 49,5\n",
        "*   5 chai: 49,5 - 50\n",
        "*   2 chai: 50-50,5\n",
        "\n",
        "Tiến hành kiểm định T\n",
        "\n",
        "---\n",
        "**1: THU THẬP DỮ LIỆU QUAN SÁT, TÍNH TOÁN CÁC ĐẠI LƯỢNG CẦN THIẾT**\n",
        "\n",
        "*Số chai chia theo lô*: 3, 5, 10, 5, 2\n",
        "\n",
        "*Thể tích*:  \n",
        "*   3 chai: 48-48,5\n",
        "*   5 chai: 48,5- 49\n",
        "*   10 chai: 49 – 49,5\n",
        "*   5 chai: 49,5 - 50\n",
        "*   2 chai: 50-50,5\n",
        "\n",
        "*Các đại lượng cần thiết*:\n",
        "- Hệ số sig = 0.05\n",
        "- Chỉ số T tương ứng với hệ số sig ở trên là 1.645, công thức T:\n",
        "\n",
        "$$T = \\frac{(\\overline{\\rm X} - \\mu)}{( s/ \\sqrt{n})}$$\n",
        "\n",
        "**2: PHÁT BIỂU GIẢ THUYẾT**\n",
        "\n",
        "*Xây dựng giả thuyết:*\n",
        "\n",
        "$$H_{0}: \\mu = 50$$\n",
        "\n",
        "*Giả thuyết thay thế:*\n",
        "\n",
        "$$H_{a}: \\mu < 50 $$\n",
        "\n",
        "**3: LẤY MẪU VÀ TÍNH TOÁN CÁC ĐẠI LƯỢNG THỐNG KÊ CỦA MẪU**\n",
        "- $\\overline{\\rm X} = 49,21$\n",
        "- $\\mu = 50$\n",
        "- $s = 0,558$\n",
        "- $\\alpha = 0.05$\n",
        "- $n =25$\n",
        "\n",
        "**4: THỰC HIỆN KIỂM ĐỊNH T**\n",
        "$$T = \\frac{(49,2 - 50)}{( 0,558/ \\sqrt{25})} = -7.097$$\n",
        "\n",
        "**5: KẾT LUẬN KẾT QUẢ KIỂM ĐỊNH**\n",
        "\n",
        "Giá trị T = -7.097 < 1.645. Vì vậy, ta có bằng chứng để bác bỏ giả thuyết $H_{0}$"
      ]
    },
    {
      "cell_type": "markdown",
      "source": [
        "# THỰC HÀNH: SỬ DỤNG PYTHON ĐỂ TIẾN HÀNH KIỂM ĐỊNH"
      ],
      "metadata": {
        "id": "kUwgqdGBjtse"
      }
    },
    {
      "cell_type": "code",
      "execution_count": 4,
      "metadata": {
        "id": "SrpHrQM3GvjK",
        "outputId": "13d60a2a-9a51-4c0d-f69f-40896a86f4d9",
        "colab": {
          "base_uri": "https://localhost:8080/"
        }
      },
      "outputs": [
        {
          "output_type": "stream",
          "name": "stdout",
          "text": [
            "Dữ liệu về thể tích đo được của 25 chai nước hoa (Đơn vị ml):\n",
            " [48.64 48.45 49.66 49.52 50.46 49.38 49.24 49.22 48.52 48.85 48.81 49.49\n",
            " 49.23 49.22 49.04 48.88 49.61 50.5  49.77 49.08 49.3  49.05 48.92 49.45\n",
            " 48.71]\n"
          ]
        }
      ],
      "source": [
        "# Sinh ngẫu nhiên một mẫu 25 phần tử có trung bình mẫu là 49.2, s = 0.558\n",
        "samples_random = np.random.normal(49.2, 0.558, 25)\n",
        "\n",
        "# Xuất kết quả ra màn hình\n",
        "print(f\"Dữ liệu về thể tích đo được của 25 chai nước hoa (Đơn vị ml):\\n {np.round(samples_random[:25], 2)}\")"
      ]
    },
    {
      "cell_type": "code",
      "execution_count": 5,
      "metadata": {
        "id": "FoNYXYz5GvjK"
      },
      "outputs": [],
      "source": [
        "# Xác định các thông số cần thiết (sigma, null mean)\n",
        "null_mean = 50\n",
        "sig = 0.05"
      ]
    },
    {
      "cell_type": "code",
      "execution_count": 6,
      "metadata": {
        "id": "W4tBljZPGvjK",
        "outputId": "25eb6736-a7fc-481c-80aa-f04bdbd2256a",
        "colab": {
          "base_uri": "https://localhost:8080/"
        }
      },
      "outputs": [
        {
          "output_type": "stream",
          "name": "stdout",
          "text": [
            "Vì giá trị p < sigma (0.0 < 0.05). Vì vậy ta có bằng chứng để bác bỏ giả thuyết H0\n"
          ]
        }
      ],
      "source": [
        "# Tiến hành kiểm định và kết luận\n",
        "t_statistic, p_value = np.round(stats.ttest_1samp(samples_random, null_mean), 2)\n",
        "\n",
        "if(p_value <  sig):\n",
        "  print(f\"Vì giá trị p < sigma ({p_value} < {sig}). Vì vậy ta có bằng chứng để bác bỏ giả thuyết H0\")\n",
        "else:\n",
        "  print(f\"Vì giá trị p không bé hơn sigma ({p_value} >= {sig}). Vì vậy ta Chưa có bằng chứng để bác bỏ giả thuyết H0\")"
      ]
    },
    {
      "cell_type": "markdown",
      "metadata": {
        "id": "7NDiT4opGvjL"
      },
      "source": [
        "# **Kiểm định giả thuyết 2-đuôi**\n",
        "\n",
        "Một cách tổng quát, giả sử chúng ta có 2 quần thể độc lập và tuân theo phân phối chuẩn. Lấy ra 2 mẫu ngẫu nhiên tử 2 quần thể này.\n",
        "\n",
        "Xây dựng giả thuyết:\n",
        "\n",
        "$$H_{0}: \\mu_{1} = \\mu_{2}$$\n",
        "\n",
        "Giả thuyết thay thế:\n",
        "\n",
        "$$H_{a}: \\mu_{1} \\neq \\mu_{2}$$\n",
        "\n",
        "Thực hiện kiểm định t và so sánh với giá trị $t_{\\frac{\\alpha}{2}}$ để đi đến kết luận cuối cùng."
      ]
    },
    {
      "cell_type": "markdown",
      "source": [
        "Công thức tính T:\n",
        "\n",
        "$$T = \\frac{(\\overline{\\rm X1} - (\\overline{\\rm X2})}{\\sqrt{S1^2/n1 +S2^2/n2}}$$"
      ],
      "metadata": {
        "id": "25AQBoleV6M2"
      }
    },
    {
      "cell_type": "markdown",
      "source": [
        "# Ví dụ về kiểm định giả thuyết 2 đuôi\n",
        "\n",
        "\n"
      ],
      "metadata": {
        "id": "BQ7-8bNEBtG6"
      }
    },
    {
      "cell_type": "markdown",
      "source": [
        "***Đề bài***: Công ty Butane tiến hành kiểm tra thể tích đối với sản phẩm bình ga Butane dung tích 90ml bằng cách lấy 9 mẫu ngẫu nhiên ở 2 công xưởng 1 và 2. Số liệu sau khi thu thập như sau:\n",
        "\n",
        "\n",
        "\n",
        "**Công xưởng 1**: $91,5; 94,18; 92,18; 95,39; 91,79; 89,07; 94,72; 89,21 (Đơn vị: *ml*)\n",
        "\n",
        "**Công xưởng 2**: $89,19; 90,95; 90,46; 93,21; 97,19; 97,04; 91,07; 92,75 (Đơn vị: *ml*)\n",
        "\n",
        "Với mức ý nghĩa 5% có thể cho rằng thể tích các bình ga được sản xuất ở 2 xưởng là như nhau hay không, biết rằng thể tích sản xuất của sản phẩm của 2 xưởng có phân\n",
        "phối chuẩn?\n",
        "\n",
        "\n",
        "---\n",
        "**1: THU THẬP DỮ LIỆU QUAN SÁT, TÍNH TOÁN CÁC ĐẠI LƯỢNG CẦN THIẾT**\n",
        "\n",
        "**Công xưởng 1**: 91,5; 94,18; 92,18; 95,39; 91,79; 89,07; 94,72; 89,21 (Đơn vị: *ml*)\n",
        "\n",
        "**Công xưởng 2**: 89,19; 90,95; 90,46; 93,21; 97,19; 97,04; 91,07; 92,75 (Đơn vị: *ml*)\n",
        "\n",
        "**2: PHÁT BIỂU GIẢ THUYẾT**\n",
        "\n",
        "*Xây dựng giả thuyết:*\n",
        "\n",
        "$$H_{0}: \\mu_{1} = \\mu_{2}$$\n",
        "\n",
        "*Giả thuyết thay thế:*\n",
        "\n",
        "$$H_{a}: \\mu_{1} \\neq \\mu_{2}$$\n",
        "\n",
        "**3: LẤY MẪU VÀ TÍNH TOÁN CÁC ĐẠI LƯỢNG THỐNG KÊ CỦA MẪU**\n",
        "\n",
        "$\\overline{\\rm X} = 92.255$\n",
        "\n",
        "$\\overline{\\rm X2} = 92,733$\n",
        "\n",
        "$a = 0.05$\n",
        "\n",
        "$S1 = 4,998 $\n",
        "\n",
        "$S2 = 7,77 $\n",
        "\n",
        "$n1 = 8$\n",
        "\n",
        "$n2 = 8$\n",
        "\n",
        "**4: THỰC HIỆN KIỂM ĐỊNH T**\n",
        "\n",
        "$$T = \\frac{({\\rm 92, 255)} - ({92, 733})}{\\sqrt{4.998^2/8 +7.77^2/8}} = -0.353$$\n",
        "\n",
        "**5: KẾT LUẬN KẾT QUẢ KIỂM ĐỊNH**\n",
        "\n",
        "Không có bằng chứng thể tích trung bình của các bình ga là khác nhau"
      ],
      "metadata": {
        "id": "xy846jgTZqwS"
      }
    },
    {
      "cell_type": "markdown",
      "source": [
        "# THỰC HÀNH: SỬ DỤNG PYTHON ĐỂ TIẾN HÀNH KIỂM ĐỊNH"
      ],
      "metadata": {
        "id": "gShbQQ-wJsyC"
      }
    },
    {
      "cell_type": "code",
      "execution_count": 8,
      "metadata": {
        "id": "b4kOvuVsGvjL",
        "colab": {
          "base_uri": "https://localhost:8080/"
        },
        "outputId": "20d42835-bba7-45b7-f64e-80a136a65aa8"
      },
      "outputs": [
        {
          "output_type": "stream",
          "name": "stdout",
          "text": [
            "Dữ liệu về thể tích đo được của 8 bình ga 90ml ở xưởng 1:\n",
            " [89.11 96.6  92.49 93.85 93.07 92.76 95.31 99.1 ]\n",
            "Dữ liệu về thể tích đo được của 8 bình ga 90ml ở xưởng 2:\n",
            " [99.98 91.58 97.04 95.82 96.77 94.65 82.24 79.63]\n"
          ]
        }
      ],
      "source": [
        "# Sinh ngẫu nhiên 2 mẫu, mỗi mẫu gồm 8 phần tử và giá trị trung bình, độ lệch chuẩn của từng mẫu \n",
        "samples_A = np.random.normal(loc = 92.255, scale = 4.998, size = 8)\n",
        "samples_B = np.random.normal(loc = 92.733, scale = 7.77, size = 8)\n",
        "\n",
        "# Xuất kết quả ra màn hình\n",
        "print(f\"Dữ liệu về thể tích đo được của 8 bình ga 90ml ở xưởng 1:\\n {np.round(samples_A, 2)}\")\n",
        "print(f\"Dữ liệu về thể tích đo được của 8 bình ga 90ml ở xưởng 2:\\n {np.round(samples_B, 2)}\")"
      ]
    },
    {
      "cell_type": "code",
      "source": [
        "# Khởi tạo giá trị xích ma = 0.05 (ý nghĩa 5%)\n",
        "sigma = 0.05"
      ],
      "metadata": {
        "id": "VPr6Qs3xcMtr"
      },
      "execution_count": 9,
      "outputs": []
    },
    {
      "cell_type": "code",
      "source": [
        "# Tiến hành kiểm định và kết luận\n",
        "t_statictis, p_value = np.round(stats.ttest_ind(samples_A, samples_B, equal_var= False), 2)\n",
        "\n",
        "if(p_value <  sig):\n",
        "  print(f\"Vì giá trị p < sigma ({p_value} < {sig}). Vì vậy ta có bằng chứng để bác bỏ giả thuyết H0\")\n",
        "else:\n",
        "  print(f\"Vì giá trị p không bé hơn sigma ({p_value} >= {sig}). Vì vậy ta Chưa có bằng chứng để bác bỏ giả thuyết H0\")"
      ],
      "metadata": {
        "colab": {
          "base_uri": "https://localhost:8080/"
        },
        "id": "LZznZRogcQKs",
        "outputId": "9e2961ec-5af2-4813-c0bd-d4413527217c"
      },
      "execution_count": 15,
      "outputs": [
        {
          "output_type": "stream",
          "name": "stdout",
          "text": [
            "Vì giá trị p không bé hơn sigma (0.53 >= 0.05). Vì vậy ta Chưa có bằng chứng để bác bỏ giả thuyết H0\n"
          ]
        }
      ]
    }
  ],
  "metadata": {
    "kernelspec": {
      "display_name": "Python 3",
      "language": "python",
      "name": "python3"
    },
    "language_info": {
      "codemirror_mode": {
        "name": "ipython",
        "version": 3
      },
      "file_extension": ".py",
      "mimetype": "text/x-python",
      "name": "python",
      "nbconvert_exporter": "python",
      "pygments_lexer": "ipython3",
      "version": "3.7.3"
    },
    "colab": {
      "name": "TÀI LIỆU KIỂM ĐỊNH T",
      "provenance": [],
      "collapsed_sections": [
        "gXd6SDuJGvjC"
      ],
      "include_colab_link": true
    }
  },
  "nbformat": 4,
  "nbformat_minor": 0
}