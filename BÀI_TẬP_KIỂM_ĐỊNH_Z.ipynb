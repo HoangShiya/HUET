{
  "cells": [
    {
      "cell_type": "markdown",
      "metadata": {
        "id": "view-in-github",
        "colab_type": "text"
      },
      "source": [
        "<a href=\"https://colab.research.google.com/github/HoangShiya/HUET/blob/main/B%C3%80I_T%E1%BA%ACP_KI%E1%BB%82M_%C4%90%E1%BB%8ANH_Z.ipynb\" target=\"_parent\"><img src=\"https://colab.research.google.com/assets/colab-badge.svg\" alt=\"Open In Colab\"/></a>"
      ]
    },
    {
      "cell_type": "markdown",
      "source": [
        "# **BÀI TẬP KIỂM ĐỊNH Z**\n",
        "---\n",
        "---"
      ],
      "metadata": {
        "id": "1tJTqXWL5QL3"
      }
    },
    {
      "cell_type": "markdown",
      "metadata": {
        "id": "ccupu4e95JgV"
      },
      "source": [
        "XÂY DỰNG CHƯƠNG TRÌNH KIỂM ĐỊNH Z (HOẶC T) CHO CÁC BÀI TẬP SAU\n",
        "\n",
        "Gợi ý:\n",
        "\n",
        "- Số liệu được sinh ngẫu nhiên theo phân phối chuẩn\n",
        "- Sử dụng gói phần mềm statsmodels để tiến hành kiểm định\n",
        "- Đối với các bài tập kiểm định giả thuyết thì sinh viên cần phát biểu các giả thuyết (bằng tiếng Việt) $H_{0}$ và $H_{a}$ trước khi lập trình kiểm định"
      ]
    },
    {
      "cell_type": "markdown",
      "source": [
        "Import các module cần thiết"
      ],
      "metadata": {
        "id": "lmSU4a2B6XfT"
      }
    },
    {
      "cell_type": "code",
      "source": [
        "from scipy import stats\n",
        "import numpy as np\n",
        "import math\n",
        "from statsmodels.stats.weightstats import ztest"
      ],
      "metadata": {
        "colab": {
          "base_uri": "https://localhost:8080/"
        },
        "id": "oLfzEYHY6ZlD",
        "outputId": "d8fe7f50-9b2e-4f88-8a9d-26ed520ab350"
      },
      "execution_count": 3,
      "outputs": [
        {
          "output_type": "stream",
          "name": "stderr",
          "text": [
            "/usr/local/lib/python3.7/dist-packages/statsmodels/tools/_testing.py:19: FutureWarning: pandas.util.testing is deprecated. Use the functions in the public API at pandas.testing instead.\n",
            "  import pandas.util.testing as tm\n"
          ]
        }
      ]
    },
    {
      "cell_type": "markdown",
      "metadata": {
        "id": "GYTjSZo25JgZ"
      },
      "source": [
        "## **Bài 1**: You’re a Q/C inspector for Gallo. The sample standard deviation for 2-liter bottles is .05 liters.  A random sample of 100 bottles showed sasmple mean = 1.99 liters.  What is the 90%  confidence interval estimate of the true mean amount in 2-liter bottles? "
      ]
    },
    {
      "cell_type": "markdown",
      "source": [
        "Tính các thông số cần thiết (giá trị trung bình, mức ý nghĩa bài toán)"
      ],
      "metadata": {
        "id": "wWwlCbxM5v3-"
      }
    },
    {
      "cell_type": "code",
      "execution_count": 4,
      "metadata": {
        "id": "rNfOwkiA5JgZ"
      },
      "outputs": [],
      "source": [
        "sample_mean = 1.99\n",
        "sample_std = 0.05"
      ]
    },
    {
      "cell_type": "markdown",
      "source": [
        "Tính sai số chuẩn"
      ],
      "metadata": {
        "id": "RoSBRc1R6LwM"
      }
    },
    {
      "cell_type": "code",
      "source": [
        "std_err = sample_std / (math.sqrt(sample_std))"
      ],
      "metadata": {
        "id": "RYpXKieQ6OG8"
      },
      "execution_count": 5,
      "outputs": []
    },
    {
      "cell_type": "markdown",
      "source": [
        "Tiến hành kiểm định"
      ],
      "metadata": {
        "id": "VOzdwPyx6j4M"
      }
    },
    {
      "cell_type": "code",
      "source": [
        "stats.norm.interval(alpha= 0.90, loc = sample_mean, scale = std_err)"
      ],
      "metadata": {
        "colab": {
          "base_uri": "https://localhost:8080/"
        },
        "id": "X_WhkpsG6sZU",
        "outputId": "562cc501-a83d-498a-bd40-7b91e030ffa2"
      },
      "execution_count": 9,
      "outputs": [
        {
          "output_type": "execute_result",
          "data": {
            "text/plain": [
              "(1.6221995477099427, 2.357800452290057)"
            ]
          },
          "metadata": {},
          "execution_count": 9
        }
      ]
    },
    {
      "cell_type": "markdown",
      "metadata": {
        "id": "fvJqTWeR5Jga"
      },
      "source": [
        "## **Bài 2**: You’re a time study analyst in manufacturing.  You’ve recorded the following task times (min.): 3.6, 4.2, 4.0, 3.5, 3.8, 3.1. What is the 90% confidence interval estimate of the population mean task time? "
      ]
    },
    {
      "cell_type": "markdown",
      "source": [
        "Khởi tạo data"
      ],
      "metadata": {
        "id": "EnzQdyy_6yI7"
      }
    },
    {
      "cell_type": "code",
      "execution_count": 7,
      "metadata": {
        "id": "H2zjmqo-5Jgb"
      },
      "outputs": [],
      "source": [
        "sample_data = [3.6, 4.2, 4, 3.5, 3.8, 3.1]"
      ]
    },
    {
      "cell_type": "markdown",
      "source": [
        "Tính các thông số cần thiết (cỡ mẫu, trung bình mẫu)"
      ],
      "metadata": {
        "id": "E7F3B7D_63uE"
      }
    },
    {
      "cell_type": "code",
      "source": [
        "sample_n = 6\n",
        "sample_mean = np.mean(sample_data)"
      ],
      "metadata": {
        "id": "AaXN5Qo167PD"
      },
      "execution_count": 11,
      "outputs": []
    },
    {
      "cell_type": "markdown",
      "source": [
        "Tính sai số chuẩn"
      ],
      "metadata": {
        "id": "RjXAAoDf7BQs"
      }
    },
    {
      "cell_type": "code",
      "source": [
        "stats.t.interval(alpha = 0.90,df = sample_n - 1, loc = sample_mean, scale = std_err)"
      ],
      "metadata": {
        "colab": {
          "base_uri": "https://localhost:8080/"
        },
        "id": "hJ43gOkV7C0j",
        "outputId": "0abf913c-2daa-47a6-c929-814f7bde3320"
      },
      "execution_count": 12,
      "outputs": [
        {
          "output_type": "execute_result",
          "data": {
            "text/plain": [
              "(3.249421486076144, 4.150578513923858)"
            ]
          },
          "metadata": {},
          "execution_count": 12
        }
      ]
    },
    {
      "cell_type": "markdown",
      "metadata": {
        "id": "L18ub5pw5Jgb"
      },
      "source": [
        "## **Bài 3**: Does an average box of cereal contain 368 grams of cereal?  A random sample of 25 boxes had $\\overline{\\rm x}$ = 372.5.  The company has specified $\\sigma$ to be 25 grams.  Test at the .05 level of significance."
      ]
    },
    {
      "cell_type": "markdown",
      "source": [
        "Xây dựng giả thuyết\n",
        "Giả thuyết $H_0$:\n",
        "$$H_{0}: \\mu = 368$$\n",
        "\n",
        "Giả thuyết $H_a$:\n",
        "$$H_{a}: \\mu \\ne  368 $$\n",
        "với:\n",
        "- Hệ số sig = 0.05\n",
        "- Chỉ số z tương ứng với hệ số sig ở trên là 1.645"
      ],
      "metadata": {
        "id": "9eld3cIz7UpM"
      }
    },
    {
      "cell_type": "markdown",
      "source": [
        "Khởi tạo mẫu"
      ],
      "metadata": {
        "id": "hPldgIYe8DTl"
      }
    },
    {
      "cell_type": "code",
      "execution_count": 16,
      "metadata": {
        "id": "jhhqBAek5Jgc",
        "colab": {
          "base_uri": "https://localhost:8080/"
        },
        "outputId": "7db9a68b-d620-4c78-b074-61669f46415b"
      },
      "outputs": [
        {
          "output_type": "stream",
          "name": "stdout",
          "text": [
            "Mẫu khi được khởi tạo là:\n",
            "------------------------------------------------------------------\n",
            " [400.0201758  377.69404835 416.18008936 367.96193026 376.20254269\n",
            " 386.16862381 325.50106133 353.20909885 367.25249888 338.40415244\n",
            " 388.31494663 396.13058561 401.75123736 364.89421121 361.25240492\n",
            " 361.20953811 359.12309096 358.95662802 353.50500853 353.1640127\n",
            " 365.67989974 421.24238316 372.42415034 371.98114112 414.65165032]\n"
          ]
        }
      ],
      "source": [
        "sample = np.random.normal(loc = 372.5, scale = 25, size = 25)\n",
        "print(f\"Mẫu khi được khởi tạo là:\\n------------------------------------------------------------------\\n {sample}\")"
      ]
    },
    {
      "cell_type": "markdown",
      "source": [
        "Tính cách thông số cần thiết"
      ],
      "metadata": {
        "id": "xpBPzMbL8Vnw"
      }
    },
    {
      "cell_type": "code",
      "source": [
        "null_mean = 368\n",
        "alpha = 0.05"
      ],
      "metadata": {
        "id": "lONieKnX8XxM"
      },
      "execution_count": 17,
      "outputs": []
    },
    {
      "cell_type": "markdown",
      "source": [
        "Tiến hành kiểm định z"
      ],
      "metadata": {
        "id": "1rX5iwoH8bBL"
      }
    },
    {
      "cell_type": "code",
      "source": [
        "ztest_Score, p_value= ztest(sample, value = null_mean, alternative='two-sided')\n",
        "print(f\"Giá trị p sau khi tiến hành kiểm định: {p_value}\")\n"
      ],
      "metadata": {
        "colab": {
          "base_uri": "https://localhost:8080/"
        },
        "id": "pE66eq-G8crc",
        "outputId": "6fde8d39-2265-4d74-ec5f-a4a37b2108eb"
      },
      "execution_count": 18,
      "outputs": [
        {
          "output_type": "stream",
          "name": "stdout",
          "text": [
            "Giá trị p sau khi tiến hành kiểm định: 0.20378202634870146\n"
          ]
        }
      ]
    },
    {
      "cell_type": "markdown",
      "source": [
        "Kết luận kết quả sau khi kiểm định"
      ],
      "metadata": {
        "id": "Kv_Yr_iW8kAk"
      }
    },
    {
      "cell_type": "code",
      "source": [
        "if(p_value <  alpha):\n",
        "  print(\"Có bằng chứng để bác bỏ giả thuyết H0\")\n",
        "else:\n",
        "  print(\"Chưa có bằng chứng để bác bỏ giả thuyết H0\")"
      ],
      "metadata": {
        "colab": {
          "base_uri": "https://localhost:8080/"
        },
        "id": "YJMIMYEF8mFN",
        "outputId": "042654c9-1db0-4f33-d420-c34e12ce2a00"
      },
      "execution_count": 19,
      "outputs": [
        {
          "output_type": "stream",
          "name": "stdout",
          "text": [
            "Chưa có bằng chứng để bác bỏ giả thuyết H0\n"
          ]
        }
      ]
    },
    {
      "cell_type": "markdown",
      "metadata": {
        "id": "_tJkV4uN5Jgc"
      },
      "source": [
        "## **Bài 4**: You’re a Q/C inspector.  You want to find out if a new machine is making electrical cords to customer specification: average breaking strength of 70 lb. with $\\sigma$ = 3.5 lb.  You take a sample of 36 cords & compute a sample mean of 69.7 lb.  At the .05 level of significance, is there evidence that the machine is not meeting the average breaking strength?"
      ]
    },
    {
      "cell_type": "markdown",
      "source": [
        "Xây dựng giả thuyết\n",
        "Giả thuyết $H_0$:\n",
        "$$H_{0}: \\mu = 70$$\n",
        "\n",
        "Giả thuyết $H_a$:\n",
        "$$H_{a}: \\mu \\ne  70$$\n",
        "với:\n",
        "- Hệ số sig = 0.05\n",
        "- Chỉ số z tương ứng với hệ số sig ở trên là 1.645"
      ],
      "metadata": {
        "id": "VYZBIsNq8vZE"
      }
    },
    {
      "cell_type": "markdown",
      "source": [
        "Khởi tạo mẫu"
      ],
      "metadata": {
        "id": "bgFw6pNr82LG"
      }
    },
    {
      "cell_type": "code",
      "execution_count": 20,
      "metadata": {
        "id": "uCa3gFD75Jgd",
        "colab": {
          "base_uri": "https://localhost:8080/"
        },
        "outputId": "7e004bb4-585c-4a22-b4ab-a87a917f7b52"
      },
      "outputs": [
        {
          "output_type": "stream",
          "name": "stdout",
          "text": [
            "Mẫu khi được khởi tạo là:\n",
            "------------------------------------------------------------------\n",
            " [68.61249486 67.71571405 65.81072936 70.24016924 65.09597701 71.14995167\n",
            " 68.86028298 71.56162156 70.01467704 66.67720834 72.21664467 72.75407797\n",
            " 70.53584115 64.96632432 64.96249795 72.90510483 64.82281687 70.61941312\n",
            " 65.2592837  69.63625261 68.66474958 70.16856827 63.1572943  66.26417367\n",
            " 71.66260806 71.30740357 76.51809242 72.7633898  80.1464546  70.65416894\n",
            " 65.67064234 71.88919256 69.85070509 63.16081524 67.15467037 74.19653811]\n"
          ]
        }
      ],
      "source": [
        "sample = np.random.normal(loc = 69.7, scale = 3.5, size = 36)\n",
        "print(f\"Mẫu khi được khởi tạo là:\\n------------------------------------------------------------------\\n {sample}\")"
      ]
    },
    {
      "cell_type": "markdown",
      "source": [
        "Xác định các thông số"
      ],
      "metadata": {
        "id": "ThHOrqTp9AN1"
      }
    },
    {
      "cell_type": "code",
      "source": [
        "null_mean = 70\n",
        "alpha = 0.05"
      ],
      "metadata": {
        "id": "Zzw9XA199BZU"
      },
      "execution_count": 22,
      "outputs": []
    },
    {
      "cell_type": "markdown",
      "source": [
        "Tiến hành kiểm định z"
      ],
      "metadata": {
        "id": "ss2FeRDb9Dw8"
      }
    },
    {
      "cell_type": "code",
      "source": [
        "ztest_Score, p_value= ztest(sample, value = null_mean, alternative='two-sided')\n",
        "print(f\"Giá trị p sau khi kiểm định: {p_value}\")"
      ],
      "metadata": {
        "colab": {
          "base_uri": "https://localhost:8080/"
        },
        "id": "lzZ7cGKD9Fik",
        "outputId": "1031e700-77a5-4323-abf8-32e77921713f"
      },
      "execution_count": 23,
      "outputs": [
        {
          "output_type": "stream",
          "name": "stdout",
          "text": [
            "Giá trị p sau khi kiểm định: 0.3184722557178392\n"
          ]
        }
      ]
    },
    {
      "cell_type": "markdown",
      "source": [
        "Kết luận sau khi kiểm định"
      ],
      "metadata": {
        "id": "BHWoJ1WR9O3l"
      }
    },
    {
      "cell_type": "code",
      "source": [
        "if(p_value <  alpha):\n",
        "  print(\"Có bằng chứng để bác bỏ giả thuyết H0\")\n",
        "else:\n",
        "  print(\"Chưa có bằng chứng để bác bỏ giả thuyết H0\")"
      ],
      "metadata": {
        "colab": {
          "base_uri": "https://localhost:8080/"
        },
        "id": "5OQFoeVl9RK_",
        "outputId": "0d032a50-bb73-4197-ba73-7e8383e15318"
      },
      "execution_count": 24,
      "outputs": [
        {
          "output_type": "stream",
          "name": "stdout",
          "text": [
            "Chưa có bằng chứng để bác bỏ giả thuyết H0\n"
          ]
        }
      ]
    },
    {
      "cell_type": "markdown",
      "metadata": {
        "id": "WGqBsU325Jge"
      },
      "source": [
        "## **Bài 5**: Does an average box of cereal contain more than 368 grams of cereal?  A random sample of 25 boxes showed $\\overline{\\rm x}$ =  372.5.  The company has specified $\\sigma$ to be 25 grams.  Test at the .05 level of significance."
      ]
    },
    {
      "cell_type": "markdown",
      "source": [
        "Xây dựng giả thuyết\n",
        "Giả thuyết $H_0$:\n",
        "$$H_{0}: \\mu = 368$$\n",
        "\n",
        "Giả thuyết $H_a$:\n",
        "$$H_{a}: \\mu \\ne  368$$\n",
        "với:\n",
        "- Hệ số sig = 0.05\n",
        "- Chỉ số z tương ứng với hệ số sig ở trên là 1.645"
      ],
      "metadata": {
        "id": "W8M-2G7m9eUE"
      }
    },
    {
      "cell_type": "markdown",
      "source": [
        "Khởi tạo mẫu"
      ],
      "metadata": {
        "id": "Nyi0ARv49hjE"
      }
    },
    {
      "cell_type": "code",
      "execution_count": 25,
      "metadata": {
        "id": "bZxtYn855Jge",
        "colab": {
          "base_uri": "https://localhost:8080/"
        },
        "outputId": "d5c1820f-f058-4877-eb03-0360bc62f5ed"
      },
      "outputs": [
        {
          "output_type": "stream",
          "name": "stdout",
          "text": [
            "Mẫu khi được khởi tạo là:\n",
            "------------------------------------------------------------------\n",
            " [368.52654439 323.07531102 327.34861104 358.01676559 364.46688068\n",
            " 372.09700101 377.72435669 408.93793931 356.91940748 378.91091666\n",
            " 404.79757964 375.38383731 359.19974117 356.47353325 410.82299377\n",
            " 414.20832179 386.5844684  349.57886326 393.43507896 380.56742441\n",
            " 375.63127161 359.31238906 376.87457735 390.76024698 363.21726746]\n"
          ]
        }
      ],
      "source": [
        "sample = np.random.normal(loc = 372.5, scale = 25, size = 25)\n",
        "print(f\"Mẫu khi được khởi tạo là:\\n------------------------------------------------------------------\\n {sample}\")"
      ]
    },
    {
      "cell_type": "markdown",
      "source": [
        "Xác định các thông số cần thiết"
      ],
      "metadata": {
        "id": "89towS6T9op2"
      }
    },
    {
      "cell_type": "code",
      "source": [
        "null_mean = 368\n",
        "alpha = 0.05"
      ],
      "metadata": {
        "id": "Ll9bmYIA9qm-"
      },
      "execution_count": 26,
      "outputs": []
    },
    {
      "cell_type": "markdown",
      "source": [
        "Tiến hành kiểm định t"
      ],
      "metadata": {
        "id": "tIbd39pB9sf2"
      }
    },
    {
      "cell_type": "code",
      "source": [
        "ztest_Score, p_value= ztest(sample, value = null_mean, alternative='larger')\n",
        "print(f\"Giá trị p sau khi kiểm định: {p_value}\")"
      ],
      "metadata": {
        "colab": {
          "base_uri": "https://localhost:8080/"
        },
        "id": "WIACC8iq9u7g",
        "outputId": "cf07f60c-fb2b-468d-f1b2-d30e5329728b"
      },
      "execution_count": 27,
      "outputs": [
        {
          "output_type": "stream",
          "name": "stdout",
          "text": [
            "Giá trị p sau khi kiểm định: 0.12618914799701236\n"
          ]
        }
      ]
    },
    {
      "cell_type": "markdown",
      "source": [
        "Kết luận sau khi kiểm định"
      ],
      "metadata": {
        "id": "bpM5kGFw90Jt"
      }
    },
    {
      "cell_type": "code",
      "source": [
        "if(p_value <  alpha):\n",
        "  print(\"Có bằng chứng để bác bỏ giả thuyết H0\")\n",
        "else:\n",
        "  print(\"Chưa có bằng chứng để bác bỏ giả thuyết H0\")"
      ],
      "metadata": {
        "colab": {
          "base_uri": "https://localhost:8080/"
        },
        "id": "mhnu6P_A912W",
        "outputId": "dd98099b-5b61-4320-d63d-3ef30dee86dc"
      },
      "execution_count": 28,
      "outputs": [
        {
          "output_type": "stream",
          "name": "stdout",
          "text": [
            "Chưa có bằng chứng để bác bỏ giả thuyết H0\n"
          ]
        }
      ]
    },
    {
      "cell_type": "markdown",
      "metadata": {
        "id": "RGmyXaFR5Jge"
      },
      "source": [
        "## **Bài 6**: You’re an analyst for Ford.  You want to find out if the average miles per gallon of Escorts is at least 32 mpg. Similar models have a standard deviation of 3.8 mpg. You take a sample of 60 Escorts & compute a sample mean of 30.7 mpg. At the .01 level of significance, is there evidence that the miles per gallon is less than 32?"
      ]
    },
    {
      "cell_type": "markdown",
      "source": [
        "Xây dựng giả thuyết\n",
        "Giả thuyết $H_0$:\n",
        "$$H_{0}: \\mu = 32$$\n",
        "\n",
        "Giả thuyết $H_a$:\n",
        "$$H_{a}: \\mu <  32$$"
      ],
      "metadata": {
        "id": "R0KiQU0398kn"
      }
    },
    {
      "cell_type": "markdown",
      "source": [
        "Khởi tạo mẫu"
      ],
      "metadata": {
        "id": "lhmLrAuA-Aco"
      }
    },
    {
      "cell_type": "code",
      "execution_count": 29,
      "metadata": {
        "id": "BPi4vr5S5Jgf",
        "colab": {
          "base_uri": "https://localhost:8080/"
        },
        "outputId": "5a1cf107-869f-4ecc-9d4b-899b86d83d7c"
      },
      "outputs": [
        {
          "output_type": "stream",
          "name": "stdout",
          "text": [
            "Mẫu khi được khởi tạo là:\n",
            "------------------------------------------------------------------\n",
            " [33.60326587 28.48617474 31.19917212 30.5736215  27.80152499 28.15891388\n",
            " 32.54912277 36.95280724 22.6798059  37.24631976 33.74329617 31.50676576\n",
            " 25.6887516  30.06639005 29.25740271 30.81655147 27.82295618 30.93559739\n",
            " 36.81654777 31.40355048 38.16497622 28.90057671 27.37847695 29.873535\n",
            " 34.34612676 30.95555248 27.41656815 33.95987436 33.84210922 28.51943498\n",
            " 33.60259709 33.43538289 28.16378224 30.83611876 29.67111192 29.09115177\n",
            " 32.21481395 24.8340924  27.00290278 33.84517659 34.81556074 30.78781095\n",
            " 27.17320883 30.32676468 29.4976229  28.58219822 30.89237146 24.90269908\n",
            " 35.75699637 28.53696339 34.95798381 34.88899348 29.09121665 31.24950646\n",
            " 28.36809393 34.59892818 33.88419091 25.09347591 30.23142864 29.4605668 ]\n"
          ]
        }
      ],
      "source": [
        "sample = np.random.normal(loc = 30.7, scale = 3.8, size = 60)\n",
        "print(f\"Mẫu khi được khởi tạo là:\\n------------------------------------------------------------------\\n {sample}\")"
      ]
    },
    {
      "cell_type": "markdown",
      "source": [
        "Xác định các thông số cần thiết"
      ],
      "metadata": {
        "id": "Lz-GD01H-GvV"
      }
    },
    {
      "cell_type": "code",
      "source": [
        "null_mean = 32\n",
        "alpha = 0.01"
      ],
      "metadata": {
        "id": "NzDLCMMn-J4G"
      },
      "execution_count": 30,
      "outputs": []
    },
    {
      "cell_type": "markdown",
      "source": [
        "Tiến hành kiểm định z"
      ],
      "metadata": {
        "id": "mZ8OH4MY-MZQ"
      }
    },
    {
      "cell_type": "code",
      "source": [
        "ztest_Score, p_value= ztest(sample, value = null_mean, alternative='smaller')\n",
        "print(f\"Giá trị p sau khi kiểm định: {p_value}\")"
      ],
      "metadata": {
        "colab": {
          "base_uri": "https://localhost:8080/"
        },
        "id": "pRLCTSOI-Owl",
        "outputId": "46b8eb13-ba7c-49a5-f3e4-281efb8fdec8"
      },
      "execution_count": 31,
      "outputs": [
        {
          "output_type": "stream",
          "name": "stdout",
          "text": [
            "Giá trị p sau khi kiểm định: 0.0024181136304190025\n"
          ]
        }
      ]
    },
    {
      "cell_type": "markdown",
      "source": [
        "Kết luận sau khi tiến hành kiểm định"
      ],
      "metadata": {
        "id": "vg45orZk-UHo"
      }
    },
    {
      "cell_type": "code",
      "source": [
        "if(p_value <  alpha):\n",
        "  print(\"Có bằng chứng để bác bỏ giả thuyết H0\")\n",
        "else:\n",
        "  print(\"Chưa có bằng chứng để bác bỏ giả thuyết H0\")"
      ],
      "metadata": {
        "colab": {
          "base_uri": "https://localhost:8080/"
        },
        "id": "--g8GOmm-WbZ",
        "outputId": "08a28097-4d7f-4059-f265-12372f4466c6"
      },
      "execution_count": 32,
      "outputs": [
        {
          "output_type": "stream",
          "name": "stdout",
          "text": [
            "Có bằng chứng để bác bỏ giả thuyết H0\n"
          ]
        }
      ]
    },
    {
      "cell_type": "markdown",
      "metadata": {
        "id": "oChymstq5Jgf"
      },
      "source": [
        "## **Bài 7**: Does an average box of cereal contain 368 grams of cereal?  A random sample of 25 boxes showed $\\overline{\\rm x}$ = 372.5.  The company has specified $\\sigma$ to be 15 grams.  Find the p-Value."
      ]
    },
    {
      "cell_type": "markdown",
      "source": [
        "Xây dựng giả thuyết\n",
        "Giả thuyết $H_0$:\n",
        "$$H_{0}: \\mu = 368$$\n",
        "\n",
        "Giả thuyết $H_a$:\n",
        "$$H_{a}: \\mu \\ne  368$$"
      ],
      "metadata": {
        "id": "llWqXniU-d8-"
      }
    },
    {
      "cell_type": "markdown",
      "source": [
        "Khởi tạo mẫu"
      ],
      "metadata": {
        "id": "91t54XmZ-gBn"
      }
    },
    {
      "cell_type": "code",
      "execution_count": 33,
      "metadata": {
        "id": "_Cl21Cfv5Jgf",
        "colab": {
          "base_uri": "https://localhost:8080/"
        },
        "outputId": "1938eecc-3638-45dd-d6fd-a36cc2253e34"
      },
      "outputs": [
        {
          "output_type": "stream",
          "name": "stdout",
          "text": [
            "Mẫu khi được khởi tạo là:\n",
            "------------------------------------------------------------------\n",
            " [380.80349196 390.02349249 344.89517482 381.41537002 356.43267575\n",
            " 382.16814342 346.00767533 346.74556464 396.97618169 374.27631879\n",
            " 348.99616747 362.54786842 359.44428978 386.37688159 383.87475896\n",
            " 365.92884866 372.92776458 348.55209844 351.41624953 356.43146524\n",
            " 378.77529436 350.29505562 377.57649094 397.82312205 382.61337906]\n"
          ]
        }
      ],
      "source": [
        "sample = np.random.normal(loc = 372.5, scale = 15, size = 25)\n",
        "print(f\"Mẫu khi được khởi tạo là:\\n------------------------------------------------------------------\\n {sample}\")"
      ]
    },
    {
      "cell_type": "markdown",
      "source": [
        "Xác định các thông số cần thiết"
      ],
      "metadata": {
        "id": "ZzBGJknN-onG"
      }
    },
    {
      "cell_type": "code",
      "source": [
        "null_mean = 368"
      ],
      "metadata": {
        "id": "q1et19MH-mHq"
      },
      "execution_count": 34,
      "outputs": []
    },
    {
      "cell_type": "markdown",
      "source": [
        "Tiến hành kiểm định z"
      ],
      "metadata": {
        "id": "l3wXXXj0-lhn"
      }
    },
    {
      "cell_type": "code",
      "source": [
        "ztest_Score, p_value= ztest(sample, value = null_mean , alternative='two-sided')\n",
        "print(f\"Giá trị p: {p_value}\")"
      ],
      "metadata": {
        "colab": {
          "base_uri": "https://localhost:8080/"
        },
        "id": "FN2Bovxi-wIY",
        "outputId": "8aaca248-a7b3-4666-cc3c-da237a1d210b"
      },
      "execution_count": 35,
      "outputs": [
        {
          "output_type": "stream",
          "name": "stdout",
          "text": [
            "Giá trị p: 0.7844995973345562\n"
          ]
        }
      ]
    },
    {
      "cell_type": "markdown",
      "source": [
        "Kết luận sau khi kiểm định"
      ],
      "metadata": {
        "id": "3G5gVkdI-0-P"
      }
    },
    {
      "cell_type": "code",
      "source": [
        "if(p_value <  alpha):\n",
        "  print(\"Có bằng chứng để bác bỏ giả thuyết H0\")\n",
        "else:\n",
        "  print(\"Chưa có bằng chứng để bác bỏ giả thuyết H0\")"
      ],
      "metadata": {
        "colab": {
          "base_uri": "https://localhost:8080/"
        },
        "id": "RfR7dRrV-4FP",
        "outputId": "ecd7e030-9593-4e12-af92-7e69d55abe2c"
      },
      "execution_count": 36,
      "outputs": [
        {
          "output_type": "stream",
          "name": "stdout",
          "text": [
            "Chưa có bằng chứng để bác bỏ giả thuyết H0\n"
          ]
        }
      ]
    },
    {
      "cell_type": "markdown",
      "metadata": {
        "id": "_ajCazu_5Jgg"
      },
      "source": [
        "## **Bài 8**: Does an average box of cereal contain more than 368 grams of cereal?  A random sample of 25 boxes showed $\\overline{\\rm x}$ = 372.5.  The company has specified $\\sigma$ to be 15 grams.  Find the p-Value."
      ]
    },
    {
      "cell_type": "markdown",
      "source": [
        "Xây dựng giả thuyết\n",
        "Giả thuyết $H_0$:\n",
        "$$H_{0}: \\mu = 368$$\n",
        "\n",
        "Giả thuyết $H_a$:\n",
        "$$H_{a}: \\mu \\ne  368$$"
      ],
      "metadata": {
        "id": "nAdDB4YE_JPH"
      }
    },
    {
      "cell_type": "markdown",
      "source": [
        "Khởi tạo mẫu"
      ],
      "metadata": {
        "id": "9NULbzhU_KTM"
      }
    },
    {
      "cell_type": "code",
      "execution_count": null,
      "metadata": {
        "id": "GEYqcw055Jgg"
      },
      "outputs": [],
      "source": [
        "sample = np.random.normal(loc = 372.5, scale = 15, size = 25)\n",
        "print(f\"Mẫu khi được khởi tạo là:\\n------------------------------------------------------------------\\n {sample}\")"
      ]
    },
    {
      "cell_type": "markdown",
      "source": [
        "Xác định các thông số cần thiết"
      ],
      "metadata": {
        "id": "XEAsQ84w_L9y"
      }
    },
    {
      "cell_type": "code",
      "source": [
        "null_mean = 368"
      ],
      "metadata": {
        "id": "M4TsxMhU_N2R"
      },
      "execution_count": 37,
      "outputs": []
    },
    {
      "cell_type": "markdown",
      "source": [
        "Tiến hành kiểm định z"
      ],
      "metadata": {
        "id": "7T7ytE6e_QQf"
      }
    },
    {
      "cell_type": "code",
      "source": [
        "ztest_Score, p_value= ztest(sample, value = null_mean , alternative='two-sided')\n",
        "print(f\"Giá trị p: {p_value}\")"
      ],
      "metadata": {
        "colab": {
          "base_uri": "https://localhost:8080/"
        },
        "id": "gyNjpnKt_TCl",
        "outputId": "3ac163b1-5aa5-4ddf-c5d5-29aa7900139c"
      },
      "execution_count": 39,
      "outputs": [
        {
          "output_type": "stream",
          "name": "stdout",
          "text": [
            "Giá trị p: 0.7844995973345562\n"
          ]
        }
      ]
    },
    {
      "cell_type": "markdown",
      "source": [
        "Kết luận sau khi kiểm định"
      ],
      "metadata": {
        "id": "R8X8rbOL_Wgg"
      }
    },
    {
      "cell_type": "code",
      "source": [
        "if(p_value <  alpha):\n",
        "  print(\"Có bằng chứng để bác bỏ giả thuyết H0\")\n",
        "else:\n",
        "  print(\"Chưa có bằng chứng để bác bỏ giả thuyết H0\")"
      ],
      "metadata": {
        "colab": {
          "base_uri": "https://localhost:8080/"
        },
        "id": "kxZbywTh_Yk-",
        "outputId": "b751ff1a-1504-4a9d-9beb-6c4bde7291eb"
      },
      "execution_count": 40,
      "outputs": [
        {
          "output_type": "stream",
          "name": "stdout",
          "text": [
            "Chưa có bằng chứng để bác bỏ giả thuyết H0\n"
          ]
        }
      ]
    },
    {
      "cell_type": "markdown",
      "metadata": {
        "id": "slg7mp935Jgg"
      },
      "source": [
        "## **Bài 9**: You’re an analyst for Ford.  You want to find out if the average miles per gallon of Escorts is less than 32 mpg.   Similar models have a standard deviation of 3.8 mpg.  You take a sample of 60 Escorts & compute a sample mean of 30.7 mpg.  What is the value of the observed level of significance (p-Value)?"
      ]
    },
    {
      "cell_type": "markdown",
      "source": [
        "Xây dựng giả thuyết\n",
        "Giả thuyết $H_0$:\n",
        "$$H_{0}: \\mu = 368$$\n",
        "\n",
        "Giả thuyết $H_a$:\n",
        "$$H_{a}: \\mu <  32$$"
      ],
      "metadata": {
        "id": "h3g_rBgs_ei3"
      }
    },
    {
      "cell_type": "markdown",
      "source": [
        "Khởi tạo mẫu"
      ],
      "metadata": {
        "id": "i3fRP6lq_iV3"
      }
    },
    {
      "cell_type": "code",
      "execution_count": 41,
      "metadata": {
        "id": "ZjQZA7d75Jgh",
        "colab": {
          "base_uri": "https://localhost:8080/"
        },
        "outputId": "df449246-0629-499e-be31-aa6a7d4ac489"
      },
      "outputs": [
        {
          "output_type": "stream",
          "name": "stdout",
          "text": [
            "Mẫu khi được khởi tạo là:\n",
            "------------------------------------------------------------------\n",
            " [33.85294303 34.30718133 30.0238524  29.56547668 33.22132934 27.56512313\n",
            " 26.24009165 30.30518504 35.14652025 32.405683   24.02597817 31.24751674\n",
            " 29.0859363  28.83645869 26.80332985 34.31945456 33.85675237 29.10688554\n",
            " 28.65104084 35.15324587 29.18997906 33.94986062 26.98027588 29.20414164\n",
            " 28.85443862 29.85582547 27.98574093 28.30483397 24.24543118 29.0064331\n",
            " 31.20722259 30.92640214 30.25229555 31.06305477 28.64816921 30.84937512\n",
            " 31.90407137 28.57539132 31.68539279 25.84860452 36.0440944  32.75238868\n",
            " 31.91242269 26.32753182 25.97892814 26.70013255 39.30514276 30.77783268\n",
            " 32.32115698 31.15718107 29.64873758 32.09027881 29.34109561 32.96112475\n",
            " 30.6295962  27.02026553 27.04602097 32.05199917 21.49633494 23.63314742]\n"
          ]
        }
      ],
      "source": [
        "sample = np.random.normal(loc = 30.7, scale = 3.8, size = 60)\n",
        "print(f\"Mẫu khi được khởi tạo là:\\n------------------------------------------------------------------\\n {sample}\")"
      ]
    },
    {
      "cell_type": "markdown",
      "source": [
        "Xác định các thông số cần thiết"
      ],
      "metadata": {
        "id": "PoGFAoOG_q7P"
      }
    },
    {
      "cell_type": "code",
      "source": [
        "null_mean = 32"
      ],
      "metadata": {
        "id": "sSdwAjWi_oDu"
      },
      "execution_count": 42,
      "outputs": []
    },
    {
      "cell_type": "markdown",
      "source": [
        "Tiến hành kiểm định z"
      ],
      "metadata": {
        "id": "SEVqdy_O_tTR"
      }
    },
    {
      "cell_type": "code",
      "source": [
        "ztest_Score, p_value= ztest(sample, value = null_mean, alternative='smaller')\n",
        "print(f\"Giá trị p: {p_value}\")"
      ],
      "metadata": {
        "id": "IHN6wyLd_u-3"
      },
      "execution_count": null,
      "outputs": []
    },
    {
      "cell_type": "markdown",
      "source": [
        "Kết luận sau khi kiểm định"
      ],
      "metadata": {
        "id": "9D7nYeLP_zYv"
      }
    },
    {
      "cell_type": "code",
      "source": [
        "if(p_value <  alpha):\n",
        "  print(\"Có bằng chứng để bác bỏ giả thuyết H0\")\n",
        "else:\n",
        "  print(\"Chưa có bằng chứng để bác bỏ giả thuyết H0\")"
      ],
      "metadata": {
        "colab": {
          "base_uri": "https://localhost:8080/"
        },
        "id": "Z4kZ6UU0_0-p",
        "outputId": "19c26878-eaf7-4c5f-b701-dfc0b6f03646"
      },
      "execution_count": 43,
      "outputs": [
        {
          "output_type": "stream",
          "name": "stdout",
          "text": [
            "Chưa có bằng chứng để bác bỏ giả thuyết H0\n"
          ]
        }
      ]
    },
    {
      "cell_type": "markdown",
      "metadata": {
        "id": "9H88wJpp5Jgh"
      },
      "source": [
        "## **Bài 10**: Does an average box of cereal contain 368 grams of cereal?  A random sample of 36 boxes had a mean of 372.5 and a standard deviation of 12 grams. Test at the .05 level of significance."
      ]
    },
    {
      "cell_type": "markdown",
      "source": [
        "Xây dựng giả thuyết\n",
        "Giả thuyết $H_0$:\n",
        "$$H_{0}: \\mu = 368$$\n",
        "\n",
        "Giả thuyết $H_a$:\n",
        "$$H_{a}: \\mu \\ne  368$$"
      ],
      "metadata": {
        "id": "kBZCONDp_8A5"
      }
    },
    {
      "cell_type": "markdown",
      "source": [
        "Khởi tạo mẫu"
      ],
      "metadata": {
        "id": "CjWIIu7h_9Zn"
      }
    },
    {
      "cell_type": "code",
      "execution_count": 44,
      "metadata": {
        "id": "Xb99PlIg5Jgh",
        "colab": {
          "base_uri": "https://localhost:8080/"
        },
        "outputId": "1ee7d848-5ba9-4b04-a6f9-a25b7ac7ac54"
      },
      "outputs": [
        {
          "output_type": "stream",
          "name": "stdout",
          "text": [
            "Mẫu khi được khởi tạo là:\n",
            "------------------------------------------------------------------\n",
            " [383.33628184 391.00341312 380.58346554 356.89140878 383.3189333\n",
            " 371.46395459 376.19536114 357.98217098 373.99553815 382.8811287\n",
            " 378.94308009 374.66055282 372.63799111 368.3043916  375.58279808\n",
            " 388.70198337 360.91811765 383.10908224 389.41298738 369.58971193\n",
            " 382.5931096  372.61632621 337.97686386 376.12889687 369.17204124\n",
            " 361.95259761 357.01342422 378.13666857 386.19359735 376.97118963\n",
            " 363.39363402 364.33319606 341.3374642  371.42353919 353.96036868\n",
            " 372.04639801]\n"
          ]
        }
      ],
      "source": [
        "sample = np.random.normal(loc = 372.5, scale = 12, size = 36)\n",
        "print(f\"Mẫu khi được khởi tạo là:\\n------------------------------------------------------------------\\n {sample}\")"
      ]
    },
    {
      "cell_type": "markdown",
      "source": [
        "Xác định các thông số cần thiết"
      ],
      "metadata": {
        "id": "NypH8glkACsl"
      }
    },
    {
      "cell_type": "code",
      "source": [
        "null_mean = 368\n",
        "alpha = 0.05"
      ],
      "metadata": {
        "id": "xLTolVXtAEOh"
      },
      "execution_count": 45,
      "outputs": []
    },
    {
      "cell_type": "markdown",
      "source": [
        "Tiến hành kiểm định t"
      ],
      "metadata": {
        "id": "aI4XugZ7AH4G"
      }
    },
    {
      "cell_type": "code",
      "source": [
        "'''\n",
        "*\n",
        "*\n",
        "*\n",
        "* Tên hàm: t_test\n",
        "* Biến đưa vào: sample, hypoth_value, sig_level, test_type\n",
        "* Xuất ra: p_value\n",
        "*\n",
        "'''\n",
        "def t_test(sample, hypoth_value, sig_level, test_type):\n",
        "    sample_mean = sample.mean()\n",
        "    sample_st_dev = sample.std()\n",
        "    sample_size = len(sample)\n",
        "    test_statistic = (sample_mean - hypoth_value) / \\\n",
        "                     (sample_st_dev/(math.sqrt(sample_size)))\n",
        "    if test_type == 'larger':\n",
        "        p_value = stats.t.cdf(test_statistic,df=sample_size-1)\n",
        "    if test_type == 'smaller':\n",
        "        p_value = 1 - stats.t.cdf(test_statistic,df=sample_size-1)\n",
        "    if test_type == 'two-sided':\n",
        "        p_value = 2 * (1 - stats.t.cdf(abs(test_statistic), \\\n",
        "                                    df=sample_size-1))\n",
        "    print(f'P Value = {p_value}')\n",
        "    if p_value < sig_level:\n",
        "        print(\"Có bằng chứng để bác bỏ giả thuyết H0\")\n",
        "    else:\n",
        "        print(\"Chưa có bằng chứng để bác bỏ giả thuyết H0\")\n"
      ],
      "metadata": {
        "colab": {
          "base_uri": "https://localhost:8080/"
        },
        "id": "w4DE7UkyALVq",
        "outputId": "7cbdba45-45fa-4fef-9bc3-b221cf71187a"
      },
      "execution_count": 48,
      "outputs": [
        {
          "output_type": "stream",
          "name": "stdout",
          "text": [
            "P Value = 0.07251738600378976\n",
            "Chưa có bằng chứng để bác bỏ giả thuyết H0\n"
          ]
        }
      ]
    },
    {
      "cell_type": "markdown",
      "source": [
        "Gọi hàm kiểm định t và kết luận"
      ],
      "metadata": {
        "id": "r8FeA6FkAn0X"
      }
    },
    {
      "cell_type": "code",
      "source": [
        "# Gọi hàm kiểm định t\n",
        "t_test(sample, null_mean, alpha, \"two-sided\")"
      ],
      "metadata": {
        "colab": {
          "base_uri": "https://localhost:8080/"
        },
        "id": "wcVxiQIwApsj",
        "outputId": "11168525-501c-4f8b-803a-8603b5b30287"
      },
      "execution_count": 49,
      "outputs": [
        {
          "output_type": "stream",
          "name": "stdout",
          "text": [
            "P Value = 0.07251738600378976\n",
            "Chưa có bằng chứng để bác bỏ giả thuyết H0\n"
          ]
        }
      ]
    },
    {
      "cell_type": "markdown",
      "metadata": {
        "id": "UJXzt_Ip5Jgh"
      },
      "source": [
        "## **Bài 11**: You work for the FTC.  A manufacturer of detergent claims that the mean weight of detergent is 3.25 lb.  You take a random sample of 64 containers.  You calculate the sample average to be 3.238 lb. with a standard deviation of .117 lb.  At the .01 level of significance, is the manufacturer correct?"
      ]
    },
    {
      "cell_type": "markdown",
      "source": [
        "Xây dựng giả thuyết\n",
        "Giả thuyết $H_0$:\n",
        "$$H_{0}: \\mu = 3.25$$\n",
        "\n",
        "Giả thuyết $H_a$:\n",
        "$$H_{a}: \\mu \\ne  3.25$$"
      ],
      "metadata": {
        "id": "GEF85YW5As3x"
      }
    },
    {
      "cell_type": "markdown",
      "source": [
        "Khởi tạo mẫu"
      ],
      "metadata": {
        "id": "6ZqaRMS4AwLD"
      }
    },
    {
      "cell_type": "code",
      "source": [
        "sample = np.random.normal(loc = 3.238, scale = 0.117, size = 64)\n",
        "print(f\"Mẫu khi được khởi tạo là:\\n------------------------------------------------------------------\\n {sample}\")"
      ],
      "metadata": {
        "colab": {
          "base_uri": "https://localhost:8080/"
        },
        "id": "oyKxrTb5AxCj",
        "outputId": "801ad3ff-712a-4249-ea95-40e6792be983"
      },
      "execution_count": 50,
      "outputs": [
        {
          "output_type": "stream",
          "name": "stdout",
          "text": [
            "Mẫu khi được khởi tạo là:\n",
            "------------------------------------------------------------------\n",
            " [3.39870093 3.1857008  3.24503273 3.39698689 3.24500682 3.31353966\n",
            " 3.17352555 3.35224905 3.36609777 3.23263708 3.31069675 3.31115915\n",
            " 3.26770974 3.21276769 3.37900759 3.19427572 3.06416524 3.39927845\n",
            " 3.54930982 3.17409341 3.21630784 3.20230174 3.09226727 3.40645527\n",
            " 3.33752054 3.49698975 3.14252687 3.12168378 3.29561878 3.13741909\n",
            " 3.22417389 3.16729032 3.26607403 3.53312151 3.20250625 3.3079975\n",
            " 3.15554794 3.25601867 3.15667062 3.13654377 3.36495272 3.37840413\n",
            " 3.35661506 3.34352476 3.10695209 3.30890273 3.1303231  3.28916596\n",
            " 3.4228267  3.23125101 3.43191938 3.37161774 3.21550552 3.22898701\n",
            " 3.29601823 3.34524653 3.38673104 3.1813305  3.06112619 3.24745273\n",
            " 3.34470182 3.21324283 2.97461617 3.1250996 ]\n"
          ]
        }
      ]
    },
    {
      "cell_type": "markdown",
      "source": [
        "Tính các thông số cần thiết"
      ],
      "metadata": {
        "id": "B8tP2V_3A0WC"
      }
    },
    {
      "cell_type": "code",
      "execution_count": 51,
      "metadata": {
        "id": "KHTSdlgR5Jgi"
      },
      "outputs": [],
      "source": [
        "null_mean = 3.25\n",
        "alpha = 0.01"
      ]
    },
    {
      "cell_type": "markdown",
      "source": [
        "Tiến hành kiểm định t cà kết luật"
      ],
      "metadata": {
        "id": "1bujR3siA5Mf"
      }
    },
    {
      "cell_type": "code",
      "source": [
        "t_test(sample, null_mean, alpha, \"two-sided\")"
      ],
      "metadata": {
        "colab": {
          "base_uri": "https://localhost:8080/"
        },
        "id": "ghWMCwf3A7Y4",
        "outputId": "3f39ba97-3618-4cbf-8262-118c3089b64b"
      },
      "execution_count": 52,
      "outputs": [
        {
          "output_type": "stream",
          "name": "stdout",
          "text": [
            "P Value = 0.29780736850997047\n",
            "Chưa có bằng chứng để bác bỏ giả thuyết H0\n"
          ]
        }
      ]
    },
    {
      "cell_type": "markdown",
      "metadata": {
        "id": "Zlyw2UWq5Jgi"
      },
      "source": [
        "## **Bài 12**: Is the average capacity of batteries less than 140 ampere-hours?  A random sample of 20 batteries had a mean of 138.47 and a standard deviation of 2.66.  Assume a normal distribution. Test at the .05 level of significance."
      ]
    },
    {
      "cell_type": "markdown",
      "source": [
        "Xây dựng giả thuyết\n",
        "Giả thuyết $H_0$:\n",
        "$$H_{0}: \\mu = 140$$\n",
        "\n",
        "Giả thuyết $H_a$:\n",
        "$$H_{a}: \\mu <  140$$"
      ],
      "metadata": {
        "id": "kFEWJPR-A_T4"
      }
    },
    {
      "cell_type": "markdown",
      "source": [
        "Khởi tạo mẫu"
      ],
      "metadata": {
        "id": "OKIxmNcGBEK3"
      }
    },
    {
      "cell_type": "code",
      "execution_count": 53,
      "metadata": {
        "id": "ltkELhvJ5Jgi",
        "colab": {
          "base_uri": "https://localhost:8080/"
        },
        "outputId": "112f3abb-5192-4b90-aa29-0be126dbf2a2"
      },
      "outputs": [
        {
          "output_type": "stream",
          "name": "stdout",
          "text": [
            "Mẫu khi được khởi tạo là:\n",
            "------------------------------------------------------------------\n",
            " [142.99019134 140.77975725 139.66630368 139.42302566 138.60966001\n",
            " 140.82635237 138.1795748  139.79416747 136.12604624 135.96028864\n",
            " 138.19173752 137.52127558 142.24968814 139.5696452  140.80817429\n",
            " 140.87570283 138.64699818 140.50698654 137.13817987 132.48427036]\n"
          ]
        }
      ],
      "source": [
        "sample = np.random.normal(loc = 138.47, scale = 2.66, size = 20)\n",
        "print(f\"Mẫu khi được khởi tạo là:\\n------------------------------------------------------------------\\n {sample}\")"
      ]
    },
    {
      "cell_type": "markdown",
      "source": [
        "Xác định các thông số cần thiết"
      ],
      "metadata": {
        "id": "F1wWtAhGBIvi"
      }
    },
    {
      "cell_type": "code",
      "source": [
        "null_mean = 140\n",
        "alpha = 0.05"
      ],
      "metadata": {
        "id": "UOCd4WxyBKQb"
      },
      "execution_count": null,
      "outputs": []
    },
    {
      "cell_type": "markdown",
      "source": [
        "Tiến hành kiểm định t và kết luận"
      ],
      "metadata": {
        "id": "w0JG9yhPBMsU"
      }
    },
    {
      "cell_type": "code",
      "source": [
        "t_test(sample, null_mean, alpha, \"smaller\")"
      ],
      "metadata": {
        "colab": {
          "base_uri": "https://localhost:8080/"
        },
        "id": "2gQjDP7tBOwA",
        "outputId": "e7e6644c-250e-4aea-8cf6-8b23efea9219"
      },
      "execution_count": 54,
      "outputs": [
        {
          "output_type": "stream",
          "name": "stdout",
          "text": [
            "P Value = 0.0\n",
            "Có bằng chứng để bác bỏ giả thuyết H0\n"
          ]
        }
      ]
    },
    {
      "cell_type": "markdown",
      "metadata": {
        "id": "xm0XVJuk5Jgi"
      },
      "source": [
        "## **Bài 13**: You’re a marketing analyst for Wal-Mart.  Wal-Mart had teddy bears on sale last week.  The weekly sales of bears sold in 10 stores was: 8  11  0   4   7   8   10   5   8   3. At the .05 level of significance, is there evidence that the average bear sales per store is more than 5?"
      ]
    },
    {
      "cell_type": "markdown",
      "source": [
        "Xây dựng giả thuyết\n",
        "Giả thuyết $H_0$:\n",
        "$$H_{0}: \\mu = 5$$\n",
        "\n",
        "Giả thuyết $H_a$:\n",
        "$$H_{a}: \\mu >  5$$"
      ],
      "metadata": {
        "id": "yajkxzAkBTKJ"
      }
    },
    {
      "cell_type": "markdown",
      "source": [
        "Khởi tạo mẫu"
      ],
      "metadata": {
        "id": "1s3w4WtKBWJ1"
      }
    },
    {
      "cell_type": "code",
      "execution_count": 58,
      "metadata": {
        "id": "BWekCHxG5Jgi",
        "colab": {
          "base_uri": "https://localhost:8080/"
        },
        "outputId": "2c572cc5-5b34-48a2-b1a7-e8b8bc2772c9"
      },
      "outputs": [
        {
          "output_type": "stream",
          "name": "stdout",
          "text": [
            "Mẫu khi được khởi tạo là:\n",
            "--------------------------------\n",
            " [ 8 11  0  4  7  8 10  5  8  3]\n"
          ]
        }
      ],
      "source": [
        "sample = np.array([8, 11, 0, 4, 7, 8, 10, 5, 8, 3])\n",
        "print(f\"Mẫu khi được khởi tạo là:\\n--------------------------------\\n {sample}\")"
      ]
    },
    {
      "cell_type": "markdown",
      "source": [
        "Xác định các thông số cần thiết"
      ],
      "metadata": {
        "id": "huaBBh08BfDJ"
      }
    },
    {
      "cell_type": "code",
      "execution_count": 59,
      "metadata": {
        "id": "UNRLCV045Jgj"
      },
      "outputs": [],
      "source": [
        "null_mean = 5\n",
        "alpha = 0.05"
      ]
    },
    {
      "cell_type": "markdown",
      "source": [
        "Tiến hành kiểm định t và kết luận"
      ],
      "metadata": {
        "id": "tcwJruFHBj4B"
      }
    },
    {
      "cell_type": "code",
      "source": [
        "t_test(sample, null_mean, alpha, \"larger\")"
      ],
      "metadata": {
        "colab": {
          "base_uri": "https://localhost:8080/"
        },
        "id": "3_xS5iBaBi-X",
        "outputId": "6cfb64b5-ae2c-4d96-85f7-e8add039002d"
      },
      "execution_count": 60,
      "outputs": [
        {
          "output_type": "stream",
          "name": "stdout",
          "text": [
            "P Value = 0.9000692281134371\n",
            "Chưa có bằng chứng để bác bỏ giả thuyết H0\n"
          ]
        }
      ]
    }
  ],
  "metadata": {
    "kernelspec": {
      "display_name": "Python 3",
      "language": "python",
      "name": "python3"
    },
    "language_info": {
      "codemirror_mode": {
        "name": "ipython",
        "version": 3
      },
      "file_extension": ".py",
      "mimetype": "text/x-python",
      "name": "python",
      "nbconvert_exporter": "python",
      "pygments_lexer": "ipython3",
      "version": "3.7.3"
    },
    "colab": {
      "name": "BÀI TẬP KIỂM ĐỊNH Z",
      "provenance": [],
      "collapsed_sections": [],
      "include_colab_link": true
    }
  },
  "nbformat": 4,
  "nbformat_minor": 0
}