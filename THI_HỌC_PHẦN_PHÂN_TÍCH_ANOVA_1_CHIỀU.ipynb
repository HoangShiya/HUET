{
  "cells": [
    {
      "cell_type": "markdown",
      "metadata": {
        "id": "view-in-github",
        "colab_type": "text"
      },
      "source": [
        "<a href=\"https://colab.research.google.com/github/HoangShiya/HUET/blob/main/THI_H%E1%BB%8CC_PH%E1%BA%A6N_PH%C3%82N_T%C3%8DCH_ANOVA_1_CHI%E1%BB%80U.ipynb\" target=\"_parent\"><img src=\"https://colab.research.google.com/assets/colab-badge.svg\" alt=\"Open In Colab\"/></a>"
      ]
    },
    {
      "cell_type": "markdown",
      "source": [
        "# **PHÂN TÍCH ANOVA 1 CHIỀU VỚI TẬP DỮ LIỆU \"Diet_R.csv\"**\n",
        "---\n",
        "---"
      ],
      "metadata": {
        "id": "XaYUNEtwHGuZ"
      }
    },
    {
      "cell_type": "markdown",
      "source": [
        "Sử dụng các thư viện cần thiết"
      ],
      "metadata": {
        "id": "0Aqq1BevHsbo"
      }
    },
    {
      "cell_type": "code",
      "execution_count": 2,
      "metadata": {
        "id": "1VH6SuCt7_bm"
      },
      "outputs": [],
      "source": [
        "from google.colab import drive\n",
        "import pandas as pd\n",
        "import statistics as sts\n",
        "import numpy as np \n",
        "import matplotlib.pyplot as plt\n",
        "import scipy.stats as st\n",
        "import seaborn as sns"
      ]
    },
    {
      "cell_type": "markdown",
      "source": [
        "> **Bước 1**: Tiến hành lấy tập dữ liệu owan01.csv từ drive để tiến hành phân tích"
      ],
      "metadata": {
        "id": "VVgj4yD0Ikgg"
      }
    },
    {
      "cell_type": "code",
      "source": [
        "drive.mount('/content/drive')\n",
        "df = pd.read_csv('/content/drive/MyDrive/Python/Diet_R.csv')\n",
        "print(f\"Dữ liệu của tập dữ liệu Diet_R.csv:\\n ----------------------------------\\n {df}\")"
      ],
      "metadata": {
        "colab": {
          "base_uri": "https://localhost:8080/"
        },
        "id": "MZDpkbhj8kvI",
        "outputId": "7573052c-4217-4611-aac5-c9cc89bf7ef8"
      },
      "execution_count": 3,
      "outputs": [
        {
          "output_type": "stream",
          "name": "stdout",
          "text": [
            "Mounted at /content/drive\n",
            "Dữ liệu của tập dữ liệu Diet_R.csv:\n",
            " ----------------------------------\n",
            "     Person  gender  Age  Height  pre.weight  Diet  weight6weeks\n",
            "0       25     NaN   41     171          60     2          60.0\n",
            "1       26     NaN   32     174         103     2         103.0\n",
            "2        1     0.0   22     159          58     1          54.2\n",
            "3        2     0.0   46     192          60     1          54.0\n",
            "4        3     0.0   55     170          64     1          63.3\n",
            "..     ...     ...  ...     ...         ...   ...           ...\n",
            "73      74     1.0   35     183          83     3          80.2\n",
            "74      75     1.0   49     177          84     3          79.9\n",
            "75      76     1.0   28     164          85     3          79.7\n",
            "76      77     1.0   40     167          87     3          77.8\n",
            "77      78     1.0   51     175          88     3          81.9\n",
            "\n",
            "[78 rows x 7 columns]\n"
          ]
        }
      ]
    },
    {
      "cell_type": "markdown",
      "source": [
        "Chuyển đổi df thành dạng phù hợp để phân tích ANOVA một chiều theo gói scipy.stats, trường hợp này có thể chuyển dữ liệu sang dạng list và  sử dụng hàm *dropna()*\n",
        "\n",
        "> **Cú pháp**: dataFrame.dropna(axis=0, how='any', thresh=None, subset=None, inplace=False)\n",
        "\n",
        "*Chú thích*:\n",
        "\n",
        "1) *axis*: 0 là \"index\", 1 là \"column\", mặc định axis = 0\n",
        "\n",
        "Xác định xem các hàng hoặc cột chứa các giá trị bị thiếu có bị xóa hay không.\n",
        "\n",
        "*   0, hoặc \"index\": Thả các hàng chứa các giá trị bị thiếu.\n",
        "*   1 hoặc \"column\": Bỏ các cột chứa giá trị bị thiếu.\n",
        "\n",
        "2) *how*: \"any\" hoặc \"all\", mặc định là any\n",
        "\n",
        "Xác định xem hàng hoặc cột có bị xóa khỏi DataFrame hay không khi chúng ta có ít nhất một NA hoặc tất cả NA.\n",
        "\n",
        "*   \"any\": Nếu có bất kỳ giá trị NA nào sẽ loại bỏ luôn hàng hoặc cột đó.\n",
        "*   \"all\": Nếu tất cả các giá trị đều là NA sẽ loại luôn bỏ hàng hoặc cột đó.\n",
        "\n",
        "3) *thresh*: int, optional\n",
        "\n",
        "Yêu cầu nhiều giá trị không phải NA\n",
        "\n",
        "4) *subset*: Nhãn cột (column label), chuỗi nhãn (sequence label) hoặc tùy chọn (optional)\n",
        "\n",
        "Xem xét các nhãn dọc theo trục khác nhau.\n",
        "\n",
        "Ví dụ: Nếu bạn đang bỏ hàng thì đây sẽ là danh sách bao gồm các cột cần thiết.\n",
        "\n",
        "5) *inplace*: bool, mặc định là \"sai\" (False)\n",
        "\n",
        "Nếu Đúng, hãy thực hiện thao tác tại chỗ và trả về giá trị None.\n",
        "\n",
        "> **Chức năng**: Loại bỏ những giá trị bị thiếu\n",
        "\n",
        "> **Giá trị trả về**: Dataframe hoặc None\n",
        "\n",
        "DataFrame với các mục NA bị loại bỏ khỏi nó hoặc Không có nếu inplace=True.\n"
      ],
      "metadata": {
        "id": "WTF9_9J6K1lg"
      }
    },
    {
      "cell_type": "code",
      "source": [
        "# Khởi tạo giá trị alpha = 0.05 là ý nghĩa của quá trình kiểm định\n",
        "alpha = 0.05\n",
        "\n",
        "# Khởi tạo biến sample_converted_by_df dùng để lưu trữ dữ liệu của biến df khi được chuyển đổi sang dạng list và sàng lọc dữ liệu\n",
        "sample_converted_by_df = [list(df[\"Person\"].dropna()), \n",
        "                          list(df[\"gender\"].dropna()),\n",
        "                          list(df[\"Age\"].dropna()),\n",
        "                          list(df[\"Height\"].dropna()),\n",
        "                          list(df[\"pre.weight\"].dropna()),\n",
        "                          list(df[\"Diet\"].dropna()),\n",
        "                          list(df[\"weight6weeks\"].dropna())]\n",
        "\n",
        "print(f\"Dữ liệu của tập dữ liệu owan01.csv khi được chuyển đổi và xử lí số liệu:\\n --------------------------------------------------------------------\\n {sample_converted_by_df}\")"
      ],
      "metadata": {
        "colab": {
          "base_uri": "https://localhost:8080/"
        },
        "id": "m_AW5zVWVgb2",
        "outputId": "e99dfded-7fe4-42e5-87db-7bec446477b6"
      },
      "execution_count": 4,
      "outputs": [
        {
          "output_type": "stream",
          "name": "stdout",
          "text": [
            "Dữ liệu của tập dữ liệu owan01.csv khi được chuyển đổi và xử lí số liệu:\n",
            " --------------------------------------------------------------------\n",
            " [[25, 26, 1, 2, 3, 4, 5, 6, 7, 8, 9, 10, 11, 12, 13, 14, 27, 28, 29, 30, 31, 32, 33, 34, 35, 36, 37, 38, 39, 40, 52, 53, 54, 55, 56, 57, 58, 59, 60, 61, 62, 63, 64, 65, 66, 15, 16, 17, 18, 19, 20, 21, 22, 23, 24, 41, 42, 43, 44, 45, 46, 47, 48, 49, 50, 51, 67, 68, 69, 70, 71, 72, 73, 74, 75, 76, 77, 78], [0.0, 0.0, 0.0, 0.0, 0.0, 0.0, 0.0, 0.0, 0.0, 0.0, 0.0, 0.0, 0.0, 0.0, 0.0, 0.0, 0.0, 0.0, 0.0, 0.0, 0.0, 0.0, 0.0, 0.0, 0.0, 0.0, 0.0, 0.0, 0.0, 0.0, 0.0, 0.0, 0.0, 0.0, 0.0, 0.0, 0.0, 0.0, 0.0, 0.0, 0.0, 0.0, 0.0, 1.0, 1.0, 1.0, 1.0, 1.0, 1.0, 1.0, 1.0, 1.0, 1.0, 1.0, 1.0, 1.0, 1.0, 1.0, 1.0, 1.0, 1.0, 1.0, 1.0, 1.0, 1.0, 1.0, 1.0, 1.0, 1.0, 1.0, 1.0, 1.0, 1.0, 1.0, 1.0, 1.0], [41, 32, 22, 46, 55, 33, 50, 50, 37, 28, 28, 45, 60, 48, 41, 37, 44, 37, 41, 43, 20, 51, 31, 54, 50, 48, 16, 37, 30, 29, 51, 35, 21, 22, 36, 20, 35, 45, 58, 37, 31, 35, 56, 48, 41, 39, 31, 40, 50, 43, 25, 52, 42, 39, 40, 51, 38, 54, 33, 45, 37, 44, 40, 37, 39, 31, 36, 47, 29, 37, 31, 26, 40, 35, 49, 28, 40, 51], [171, 174, 159, 192, 170, 171, 170, 201, 174, 176, 165, 165, 173, 156, 163, 167, 174, 172, 165, 171, 169, 174, 163, 173, 166, 163, 165, 167, 161, 169, 165, 169, 159, 169, 160, 169, 163, 155, 141, 170, 170, 171, 171, 153, 157, 168, 158, 173, 160, 162, 165, 177, 166, 166, 190, 191, 199, 196, 190, 160, 194, 163, 171, 198, 180, 182, 155, 179, 166, 173, 177, 179, 179, 183, 177, 164, 167, 175], [60, 103, 58, 60, 64, 64, 65, 66, 67, 69, 70, 70, 72, 72, 72, 82, 58, 58, 59, 61, 62, 63, 63, 63, 65, 66, 68, 68, 76, 77, 60, 62, 64, 65, 66, 67, 67, 69, 70, 70, 72, 72, 73, 75, 76, 71, 72, 74, 78, 80, 80, 83, 85, 87, 88, 71, 75, 75, 76, 78, 78, 79, 79, 79, 80, 80, 71, 73, 76, 78, 78, 78, 79, 83, 84, 85, 87, 88], [2, 2, 1, 1, 1, 1, 1, 1, 1, 1, 1, 1, 1, 1, 1, 1, 2, 2, 2, 2, 2, 2, 2, 2, 2, 2, 2, 2, 2, 2, 3, 3, 3, 3, 3, 3, 3, 3, 3, 3, 3, 3, 3, 3, 3, 1, 1, 1, 1, 1, 1, 1, 1, 1, 1, 2, 2, 2, 2, 2, 2, 2, 2, 2, 2, 2, 3, 3, 3, 3, 3, 3, 3, 3, 3, 3, 3, 3], [60.0, 103.0, 54.2, 54.0, 63.3, 61.1, 62.2, 64.0, 65.0, 60.5, 68.1, 66.9, 70.5, 69.0, 68.4, 81.1, 60.1, 56.0, 57.3, 56.7, 55.0, 62.4, 60.3, 59.4, 62.0, 64.0, 63.8, 63.3, 72.7, 77.5, 53.0, 56.4, 60.6, 58.2, 58.2, 61.6, 60.2, 61.8, 63.0, 62.7, 71.1, 64.4, 68.9, 68.7, 71.0, 71.6, 70.9, 69.5, 73.9, 71.0, 77.6, 79.1, 81.5, 81.9, 84.5, 66.8, 72.6, 69.2, 72.5, 72.7, 76.3, 73.6, 72.9, 71.1, 81.4, 75.7, 68.5, 72.1, 72.5, 77.5, 75.2, 69.4, 74.5, 80.2, 79.9, 79.7, 77.8, 81.9]]\n"
          ]
        }
      ]
    },
    {
      "cell_type": "markdown",
      "source": [
        "### a) Kiểm định các nhóm có tuân theo phân phối chuẩn không"
      ],
      "metadata": {
        "id": "rEQPgCkyV3Ts"
      }
    },
    {
      "cell_type": "markdown",
      "source": [
        "> **Bước 2.a**: Phát biểu giả thuyết"
      ],
      "metadata": {
        "id": "H65ZmEKWQ57F"
      }
    },
    {
      "cell_type": "markdown",
      "source": [
        "Giả thuyết $H_0$:\n",
        "\n",
        "$$H_0: \\text{Nhóm tuân theo phân phối chuẩn}$$\n",
        "\n",
        "Giả thuyết $H_a$:\n",
        "\n",
        "$$H_a: \\text{Nhóm không tuân theo phân phối chuẩn}$$"
      ],
      "metadata": {
        "id": "PJeENnzhXKqz"
      }
    },
    {
      "cell_type": "markdown",
      "source": [
        "> **Bước 3.a**: Tiến hành kiểm định và tính toán các đại lượng cần thiết\n",
        "\n",
        "> **Bước 4.a**: Kết luận dựa trên kết quả kiểm định"
      ],
      "metadata": {
        "id": "P8MN8lBPR1FF"
      }
    },
    {
      "cell_type": "code",
      "source": [
        "# Để kiểm định từng hàng, ta sử dụng vòng lặp for và so sánh giá trị p với mức ý nghĩa để tiến hành kiểm định\n",
        "for i in range(0, 7, 1):\n",
        "  p = st.shapiro(sample_converted_by_df[i])[1]\n",
        "\n",
        "  # Phát biểu kết quả kiểm định từng nhóm\n",
        "  print(\"-------------------------------------------------------------------------\")\n",
        "  print(f\"Giá trị p của nhóm thứ {i+1} là: {np.round(p, 2)}\")\n",
        "  if (p < alpha):\n",
        "    print(f\"Vì giá trị p của nhóm thứ {i+1} bé hơn mức ý nghĩa của bài toán ({np.round(p, 2)} < {alpha}). Vì vậy không có bằng chứng bác bỏ giả thuyết H0\")\n",
        "  else:\n",
        "    print(f\"Vì giá trị p của nhóm thứ {i+1} không bé hơn mức ý nghĩa của bài toán ({np.round(p, 2)} >= {alpha}). Vì vậy có bằng chứng bác bỏ giả thuyết H0\")\n",
        "\n",
        "print(\"-------------------------------------------------------------------------\")"
      ],
      "metadata": {
        "id": "HrHqjwnyBOOS",
        "colab": {
          "base_uri": "https://localhost:8080/"
        },
        "outputId": "2f486477-d231-4cee-bbfe-8bbf772a0709"
      },
      "execution_count": 5,
      "outputs": [
        {
          "output_type": "stream",
          "name": "stdout",
          "text": [
            "-------------------------------------------------------------------------\n",
            "Giá trị p của nhóm thứ 1 là: 0.01\n",
            "Vì giá trị p của nhóm thứ 1 bé hơn mức ý nghĩa của bài toán (0.01 < 0.05). Vì vậy không có bằng chứng bác bỏ giả thuyết H0\n",
            "-------------------------------------------------------------------------\n",
            "Giá trị p của nhóm thứ 2 là: 0.0\n",
            "Vì giá trị p của nhóm thứ 2 bé hơn mức ý nghĩa của bài toán (0.0 < 0.05). Vì vậy không có bằng chứng bác bỏ giả thuyết H0\n",
            "-------------------------------------------------------------------------\n",
            "Giá trị p của nhóm thứ 3 là: 0.65\n",
            "Vì giá trị p của nhóm thứ 3 không bé hơn mức ý nghĩa của bài toán (0.65 >= 0.05). Vì vậy có bằng chứng bác bỏ giả thuyết H0\n",
            "-------------------------------------------------------------------------\n",
            "Giá trị p của nhóm thứ 4 là: 0.0\n",
            "Vì giá trị p của nhóm thứ 4 bé hơn mức ý nghĩa của bài toán (0.0 < 0.05). Vì vậy không có bằng chứng bác bỏ giả thuyết H0\n",
            "-------------------------------------------------------------------------\n",
            "Giá trị p của nhóm thứ 5 là: 0.06\n",
            "Vì giá trị p của nhóm thứ 5 không bé hơn mức ý nghĩa của bài toán (0.06 >= 0.05). Vì vậy có bằng chứng bác bỏ giả thuyết H0\n",
            "-------------------------------------------------------------------------\n",
            "Giá trị p của nhóm thứ 6 là: 0.0\n",
            "Vì giá trị p của nhóm thứ 6 bé hơn mức ý nghĩa của bài toán (0.0 < 0.05). Vì vậy không có bằng chứng bác bỏ giả thuyết H0\n",
            "-------------------------------------------------------------------------\n",
            "Giá trị p của nhóm thứ 7 là: 0.01\n",
            "Vì giá trị p của nhóm thứ 7 bé hơn mức ý nghĩa của bài toán (0.01 < 0.05). Vì vậy không có bằng chứng bác bỏ giả thuyết H0\n",
            "-------------------------------------------------------------------------\n"
          ]
        }
      ]
    },
    {
      "cell_type": "markdown",
      "source": [
        "### b) Kiểm định sự đồng nhất giữa phương sai các nhóm"
      ],
      "metadata": {
        "id": "TYK_Lo4tYQ5d"
      }
    },
    {
      "cell_type": "markdown",
      "source": [
        "> **Bước 2.b**: Phát biểu giả thuyết"
      ],
      "metadata": {
        "id": "kzArznAvUrNT"
      }
    },
    {
      "cell_type": "markdown",
      "source": [
        "Giả thuyết $H_0$:\n",
        "\n",
        "$$H_0: \\text{Không có sự khác biệt về phương sai của các nhóm}$$\n",
        "\n",
        "Giả thuyết $H_a$:\n",
        "\n",
        "$$H_a: \\text{Có sự khác biệt về phương sai của các nhóm}$$"
      ],
      "metadata": {
        "id": "nrYn4oQHZGzK"
      }
    },
    {
      "cell_type": "markdown",
      "source": [
        "> **Bước 3.b**: Tiến hành kiểm định và tính toán các đại lượng cần thiết\n"
      ],
      "metadata": {
        "id": "g5YTVk21VBz7"
      }
    },
    {
      "cell_type": "code",
      "source": [
        "# Khởi tạo biến stt, p để lưu giá trị của stat value và p value\n",
        "stt, p = st.levene(sample_converted_by_df[0], sample_converted_by_df[1], sample_converted_by_df[2], sample_converted_by_df[3], sample_converted_by_df[4], sample_converted_by_df[5], sample_converted_by_df[6])   \n",
        "\n",
        "# Xuất kết quả stat value, p value ra màn hình\n",
        "print(f\"Giá trị stat: {np.round(stt, 2)}\")\n",
        "print(f\"Giá trị p: {np.round(p, 2)}\")"
      ],
      "metadata": {
        "id": "R-bshRe4LMMS",
        "colab": {
          "base_uri": "https://localhost:8080/"
        },
        "outputId": "686451aa-d90f-408e-afda-49fcede82025"
      },
      "execution_count": 8,
      "outputs": [
        {
          "output_type": "stream",
          "name": "stdout",
          "text": [
            "Giá trị stat: 77.96\n",
            "Giá trị p: 0.0\n"
          ]
        }
      ]
    },
    {
      "cell_type": "markdown",
      "source": [
        "> **Bước 4.b**: Kết luận dựa trên kết quả kiểm định"
      ],
      "metadata": {
        "id": "4niIfytMVmtT"
      }
    },
    {
      "cell_type": "code",
      "source": [
        "if (p < alpha):\n",
        "  print(f\"Vì giá trị p  bé hơn mức ý nghĩa của bài toán ({np.round(p, 2)} < {alpha}). Vì vậy không có bằng chứng bác bỏ giả thuyết H0\")\n",
        "else:\n",
        "  print(f\"Vì giá trị p không bé hơn mức ý nghĩa của bài toán ({np.round(p, 2)} >= {alpha}). Vì vậy có bằng chứng bác bỏ giả thuyết H0\")"
      ],
      "metadata": {
        "colab": {
          "base_uri": "https://localhost:8080/"
        },
        "id": "b_kVpukXVqIK",
        "outputId": "df2d9e3a-cc8a-4659-87c6-ac4c1f5f4e99"
      },
      "execution_count": 9,
      "outputs": [
        {
          "output_type": "stream",
          "name": "stdout",
          "text": [
            "Vì giá trị p  bé hơn mức ý nghĩa của bài toán (0.0 < 0.05). Vì vậy không có bằng chứng bác bỏ giả thuyết H0\n"
          ]
        }
      ]
    },
    {
      "cell_type": "markdown",
      "source": [
        "Vì các nhóm độc lập, tuân theo phân phối chuẩn và có sự đồng nhất về phương sai giữa các nhóm nên ta **có thể tiến hành kiểm định ANOVA**"
      ],
      "metadata": {
        "id": "XJifD_07ZgFT"
      }
    },
    {
      "cell_type": "markdown",
      "source": [
        "### TIẾN HÀNH PHÂN TÍCH ANOVA 1 CHIỀU"
      ],
      "metadata": {
        "id": "oo1AwV2aBXbw"
      }
    },
    {
      "cell_type": "markdown",
      "source": [
        "> **Bước 1**: Lấy dữ liệu và tính toán các thông số cần thiết"
      ],
      "metadata": {
        "id": "oJQpxqglBe9v"
      }
    },
    {
      "cell_type": "markdown",
      "source": [
        "*   Dữ liệu được sử dụng là sample_converted_by_df (Dữ liệu đã được xử lí từ owan01.csv)\n",
        "*   alpha = 0.05 là ý nghĩa của bài toán trong quá trình kiểm định"
      ],
      "metadata": {
        "id": "zfzjzEezBxCn"
      }
    },
    {
      "cell_type": "markdown",
      "source": [
        "> **Bước 2**: Phát biểu giả thuyết"
      ],
      "metadata": {
        "id": "Z-hoEp6QCE6B"
      }
    },
    {
      "cell_type": "markdown",
      "source": [
        "Giả thuyết $H_0$:\n",
        "\n",
        "$$H_0: \\text{Không có sự khác biệt về trung bình độ sâu của các nhóm}$$\n",
        "\n",
        "Giả thuyết $H_a$:\n",
        "\n",
        "$$H_a: \\text{Có sự khác biệt về trung bình độ sâu của các nhóm}$$"
      ],
      "metadata": {
        "id": "4FYxcCX3Z8DZ"
      }
    },
    {
      "cell_type": "markdown",
      "source": [
        "> **Bước 3**: Tiến hành kiểm định ANOVA 1 chiều"
      ],
      "metadata": {
        "id": "bnkTlxBfCgJw"
      }
    },
    {
      "cell_type": "code",
      "source": [
        "# Khởi tạo 2 biến f và p dùng để lưu trữ giá trị f stat và p value\n",
        "f, p = st.f_oneway(sample_converted_by_df[0], sample_converted_by_df[1], sample_converted_by_df[2], sample_converted_by_df[3], sample_converted_by_df[4], sample_converted_by_df[5], sample_converted_by_df[6])\n",
        "\n",
        "# Xuất giá trị p ra màn hình\n",
        "print(f\"Giá trị p khi tiến hành kiểm định: {np.round(p, 10)}\")"
      ],
      "metadata": {
        "colab": {
          "base_uri": "https://localhost:8080/"
        },
        "id": "uEj08MQkZ6az",
        "outputId": "e391ef37-95a0-4163-89ab-61ec26096021"
      },
      "execution_count": 10,
      "outputs": [
        {
          "output_type": "stream",
          "name": "stdout",
          "text": [
            "Giá trị p khi tiến hành kiểm định: 0.0\n"
          ]
        }
      ]
    },
    {
      "cell_type": "markdown",
      "source": [
        "> **Bước 4**: Kết luận dựa trên kết quả kiểm định"
      ],
      "metadata": {
        "id": "B9miOv14DbFw"
      }
    },
    {
      "cell_type": "code",
      "source": [
        "if (p < alpha):\n",
        "  print(f\"Vì giá trị p  bé hơn mức ý nghĩa của bài toán ({np.round(p, 10)} < {alpha}). Vì vậy không có bằng chứng bác bỏ giả thuyết H0\")\n",
        "else:\n",
        "  print(f\"Vì giá trị p không bé hơn mức ý nghĩa của bài toán ({np.round(p, 10)} >= {alpha}). Vì vậy có bằng chứng bác bỏ giả thuyết H0\")"
      ],
      "metadata": {
        "colab": {
          "base_uri": "https://localhost:8080/"
        },
        "id": "FqUsiSq5DhxX",
        "outputId": "cba5d1db-be7f-4744-9d84-b2a9aa638549"
      },
      "execution_count": 11,
      "outputs": [
        {
          "output_type": "stream",
          "name": "stdout",
          "text": [
            "Vì giá trị p  bé hơn mức ý nghĩa của bài toán (0.0 < 0.05). Vì vậy không có bằng chứng bác bỏ giả thuyết H0\n"
          ]
        }
      ]
    }
  ],
  "metadata": {
    "kernelspec": {
      "display_name": "Python 3",
      "language": "python",
      "name": "python3"
    },
    "language_info": {
      "codemirror_mode": {
        "name": "ipython",
        "version": 3
      },
      "file_extension": ".py",
      "mimetype": "text/x-python",
      "name": "python",
      "nbconvert_exporter": "python",
      "pygments_lexer": "ipython3",
      "version": "3.7.3"
    },
    "colab": {
      "name": "THI HỌC PHẦN: PHÂN TÍCH ANOVA 1 CHIỀU",
      "provenance": [],
      "include_colab_link": true
    }
  },
  "nbformat": 4,
  "nbformat_minor": 0
}